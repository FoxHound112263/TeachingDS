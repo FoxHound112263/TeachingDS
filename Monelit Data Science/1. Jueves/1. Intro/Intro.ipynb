{
 "cells": [
  {
   "cell_type": "markdown",
   "metadata": {},
   "source": [
    "# Ciencia de Datos, Aprendizaje de Máquina e Inteligencia Artificial"
   ]
  },
  {
   "cell_type": "markdown",
   "metadata": {},
   "source": [
    "## Introducción"
   ]
  },
  {
   "cell_type": "markdown",
   "metadata": {},
   "source": [
    "Estos términos son utilizados de forma indiscriminada sin distinguirlos entre sí, cuando en realidad son bastante diferentes. Antes de responder a estas preguntas es fundamental  ¿qué es un dato?"
   ]
  },
  {
   "cell_type": "markdown",
   "metadata": {},
   "source": [
    "### Pregunta: (5 mts)\n",
    "¿Qué es un dato?"
   ]
  },
  {
   "cell_type": "markdown",
   "metadata": {},
   "source": [
    "Algo cuyo valor nos interesa."
   ]
  },
  {
   "cell_type": "markdown",
   "metadata": {},
   "source": [
    "## ¿Qué es Ciencia de Datos? (10 mts)"
   ]
  },
  {
   "cell_type": "markdown",
   "metadata": {},
   "source": [
    "La ciencia, en el lenguaje del método científico es:\n",
    "\n",
    "1. Formular hipótesis sobre el funcionamiento del mundo, basado en observaciones de lo que nos rodea.\n",
    "\n",
    "\n",
    "2. Validar o invalidar dichas hipótesis a través de experimentos.\n"
   ]
  },
  {
   "cell_type": "markdown",
   "metadata": {},
   "source": [
    "Contrario a las ciencias puras, trabajar con datos no siempre conlleva realizar experimentos, puesto que muchos datos ya fueron recolectados y analizados por alguien más.\n",
    "\n",
    "**Ciencia de Datos según el Método Científico**:\n",
    "Formular hipótesis basadas en el mundo que nos rodea, para luego analizar datos relevantes que validen o invaliden nuestra hipótesis."
   ]
  },
  {
   "cell_type": "markdown",
   "metadata": {},
   "source": [
    "### Ejercicio 1: (5 mts)\n",
    "\n",
    "Teniendo en cuenta lo anterior, ¿cuál de los siguientes casos se puede considerar como el procesos de ciencia de datos? Seleccionar todos los que apliquen:\n",
    "\n",
    "(a) Los Millennials parecen responder positivamente en discusiones al nuevo producto de tu firma que se encuentra en versión beta, en comparación a la versión vieja. Realizar A/B Testing y luego pruebas de significancia estadística para verificar si sí prefieren la nueva versión.\n",
    "\n",
    "(b) Observar que los precios de Uber parecen estar correlacionados con varios factores; recopilar datos abiertos de Uber y construir un modelo de precios basado en esos factores para verificar que efectivamente se explique la variación de precios.\n",
    "\n",
    "(c) Convertir imágenes en pixeles estructurados y almacenarlos en una base de datos para usarlos luego.\n",
    "\n",
    "(d) Construir un algoritmo que le permita a una computadora aprender a distinguir entre imágenes de perros y gatos."
   ]
  },
  {
   "cell_type": "markdown",
   "metadata": {},
   "source": [
    "**Respuesta**\n"
   ]
  },
  {
   "cell_type": "markdown",
   "metadata": {},
   "source": [
    "## ¿Qué es Aprendizaje de Máquina? (ML) (10 mts)"
   ]
  },
  {
   "cell_type": "markdown",
   "metadata": {},
   "source": [
    "La respuesta (d) del ejercicio anterior corresponde al campo del Aprendizaje de Máquina, ¿qué significa esto?\n",
    "\n",
    "\"Aprender\" significa \"ganar conocimiento o habilidad a través de la experiencia\". En ese sentido, una máquina puede aprender a través de experiencia. ¿Cómo lo hace? Los computadores interpretan todas las entradas como 1s y 0s, lo cual es a su vez... ¡Datos!\n",
    "\n",
    "El Aprendizaje de Máquina no es nada más que el proceso a través del cual una computadores aprende a través de datos.\n",
    "\n",
    "Pero claro, esto no explica el cómo... Matemáticamente hablando, ML es una función $f$ tal que:\n",
    "\n",
    "> $ aprendizjae = f(datos)$\n",
    "\n",
    "En la práctica, estos son algunos de los algoritmos más utilizados y conocidos:\n",
    "\n",
    "1. Regresión\n",
    "2. Bosques Aleatorios\n",
    "3. Máquinas de Vectores de Soporte\n",
    "4. Agrupamiento con K-Medias\n",
    "5. Redes Neuronales\n"
   ]
  },
  {
   "cell_type": "markdown",
   "metadata": {},
   "source": [
    "### Ejercicio 2: (5 mts)\n",
    "\n",
    "¿Cuáles de estas tareas involucran ML? Seleccionar todas las que apliquen\n",
    "\n",
    "(a) Construir un modelo que haga reconocimiento facial.\n",
    "\n",
    "(b) Constuir un modelo que recomiende películas basadas en las anteriormente vistas.\n",
    "\n",
    "(c) Investigar los factores que afecten los precios de Airbnb.\n",
    "\n",
    "(d) Autimatizar un sistema que acepte o rechace préstamos bancarios."
   ]
  },
  {
   "cell_type": "markdown",
   "metadata": {},
   "source": [
    "**Respuesta**"
   ]
  },
  {
   "cell_type": "markdown",
   "metadata": {},
   "source": [
    "El ML puede ser una parte de la ciencia de datos. \n",
    "\n",
    "\n",
    "**Mientras que la ciencia de datos es un proceso, el aprendizaje de máquina es una herramienta**\n"
   ]
  },
  {
   "cell_type": "markdown",
   "metadata": {},
   "source": [
    "## ¿Qué es Inteligencia Artificial? (30 mts)"
   ]
  },
  {
   "cell_type": "markdown",
   "metadata": {},
   "source": [
    "AlphaGO"
   ]
  },
  {
   "cell_type": "code",
   "execution_count": 1,
   "metadata": {
    "ExecuteTime": {
     "end_time": "2020-02-13T16:32:20.200412Z",
     "start_time": "2020-02-13T16:32:20.185023Z"
    }
   },
   "outputs": [],
   "source": [
    "from IPython.display import HTML"
   ]
  },
  {
   "cell_type": "code",
   "execution_count": 2,
   "metadata": {
    "ExecuteTime": {
     "end_time": "2020-02-13T16:37:57.964283Z",
     "start_time": "2020-02-13T16:37:57.923134Z"
    }
   },
   "outputs": [
    {
     "name": "stderr",
     "output_type": "stream",
     "text": [
      "C:\\Users\\User\\Anaconda3\\lib\\site-packages\\IPython\\core\\display.py:701: UserWarning: Consider using IPython.display.IFrame instead\n",
      "  warnings.warn(\"Consider using IPython.display.IFrame instead\")\n"
     ]
    },
    {
     "data": {
      "text/html": [
       "<iframe width=\"560\" height=\"315\" src=\"https://www.youtube.com/embed/8tq1C8spV_g?rel=0&amp;controls=0&amp;showinfo=0\" frameborder=\"0\" allowfullscreen></iframe>"
      ],
      "text/plain": [
       "<IPython.core.display.HTML object>"
      ]
     },
     "execution_count": 2,
     "metadata": {},
     "output_type": "execute_result"
    }
   ],
   "source": [
    "HTML('<iframe width=\"560\" height=\"315\" src=\"https://www.youtube.com/embed/8tq1C8spV_g?rel=0&amp;controls=0&amp;showinfo=0\" frameborder=\"0\" allowfullscreen></iframe>')"
   ]
  },
  {
   "cell_type": "markdown",
   "metadata": {},
   "source": [
    "### Pregunta: (5 mts)\n",
    "Para ti, ¿qué es inteligencia artificial? ¿Qué hace que una máquina sea inteligente como una persona?"
   ]
  },
  {
   "cell_type": "markdown",
   "metadata": {},
   "source": [
    "**Respuesta**\n"
   ]
  },
  {
   "cell_type": "markdown",
   "metadata": {},
   "source": [
    "### ¿Qué hacen las máquinas que nosotros no podamos?  (5 mts)"
   ]
  },
  {
   "cell_type": "markdown",
   "metadata": {},
   "source": [
    "El famoso **Test de Turing** consiste en que hay un evaluador humano y dos compañeros de conversación. Uno máquina, otro humano. Solo se pueden comunicar a través de texto, y si el evaluador no puede distinguir la máquina del humano tras conversar, la máquina habrá pasado la prueba.\n",
    "\n",
    "Pero de hecho, Alan Turing nunca especificó si el test podía usarse para medir la inteligencia."
   ]
  },
  {
   "cell_type": "markdown",
   "metadata": {},
   "source": [
    "### Pregunta: (5 mts)\n",
    "\n",
    "¿Cuáles son los aspectos negativos de medir la inteligencia de esta manera?"
   ]
  },
  {
   "cell_type": "markdown",
   "metadata": {},
   "source": [
    "**Respuesta**"
   ]
  },
  {
   "cell_type": "markdown",
   "metadata": {},
   "source": [
    "### Pregunta: (10 mts)\n",
    "\n",
    "Lluvia de ideas\n",
    "\n",
    "1. ¿Qué cosas pueden hacer las máquinas mejor que los humanos? ¿Qué les permite hacerlo?\n",
    "2. ¿Qué podemos hacer mejor que las máquinas? Esta ventaja se mantendrá con el tiempo?\n"
   ]
  },
  {
   "cell_type": "markdown",
   "metadata": {},
   "source": [
    "**Respuesta**"
   ]
  },
  {
   "cell_type": "markdown",
   "metadata": {},
   "source": [
    "## Conclusiones (5 mts)"
   ]
  },
  {
   "cell_type": "markdown",
   "metadata": {},
   "source": [
    "Nadie realmente sabe qué es la Inteligencia Artificial, tampoco si su propósito es el de imitar la inteligencia humana.\n",
    "\n",
    "\n",
    "La ciencia de datos es un proceso, mientras que el aprendizaje de máquina es una herramienta, donde ambos hacen uso de datos de interés para extraer valor."
   ]
  }
 ],
 "metadata": {
  "kernelspec": {
   "display_name": "Python 3",
   "language": "python",
   "name": "python3"
  },
  "language_info": {
   "codemirror_mode": {
    "name": "ipython",
    "version": 3
   },
   "file_extension": ".py",
   "mimetype": "text/x-python",
   "name": "python",
   "nbconvert_exporter": "python",
   "pygments_lexer": "ipython3",
   "version": "3.7.5"
  },
  "varInspector": {
   "cols": {
    "lenName": 16,
    "lenType": 16,
    "lenVar": 40
   },
   "kernels_config": {
    "python": {
     "delete_cmd_postfix": "",
     "delete_cmd_prefix": "del ",
     "library": "var_list.py",
     "varRefreshCmd": "print(var_dic_list())"
    },
    "r": {
     "delete_cmd_postfix": ") ",
     "delete_cmd_prefix": "rm(",
     "library": "var_list.r",
     "varRefreshCmd": "cat(var_dic_list()) "
    }
   },
   "types_to_exclude": [
    "module",
    "function",
    "builtin_function_or_method",
    "instance",
    "_Feature"
   ],
   "window_display": false
  }
 },
 "nbformat": 4,
 "nbformat_minor": 2
}
