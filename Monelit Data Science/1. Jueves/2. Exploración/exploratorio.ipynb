{
 "cells": [
  {
   "cell_type": "markdown",
   "metadata": {},
   "source": [
    "# Interpretación y análisis exploratorio de datos"
   ]
  },
  {
   "cell_type": "markdown",
   "metadata": {},
   "source": [
    "Utilizar Python como una herramienta de ciencia de datos"
   ]
  },
  {
   "cell_type": "markdown",
   "metadata": {},
   "source": [
    "# Identificar oportunidades de expansión para aerolíneas comerciales"
   ]
  },
  {
   "cell_type": "markdown",
   "metadata": {},
   "source": [
    "## Introducción"
   ]
  },
  {
   "cell_type": "markdown",
   "metadata": {},
   "source": [
    "**Contexto.**\n",
    "Identificar los mejores países para expandir los servicios de la compañía."
   ]
  },
  {
   "cell_type": "markdown",
   "metadata": {},
   "source": [
    "**Problema de negocios** <b>\"¿En qué países debería de expandirse?\"</b>"
   ]
  },
  {
   "cell_type": "markdown",
   "metadata": {},
   "source": [
    "**Contexto analítico.** Los datos son estimaciones de probabilidad de éxito."
   ]
  },
  {
   "cell_type": "markdown",
   "metadata": {},
   "source": [
    "## Exploración de los datos"
   ]
  },
  {
   "cell_type": "markdown",
   "metadata": {},
   "source": [
    "Estructura de los datos"
   ]
  },
  {
   "cell_type": "code",
   "execution_count": 1,
   "metadata": {
    "ExecuteTime": {
     "end_time": "2020-03-13T21:47:45.932938Z",
     "start_time": "2020-03-13T21:47:45.926978Z"
    }
   },
   "outputs": [],
   "source": [
    "# Por país\n",
    "estimaciones =      {'Australia': [0.6, 0.33, 0.11, 0.14],\n",
    "                     'France': [0.66, 0.78, 0.98, 0.2],\n",
    "                     'Italy': [0.6],\n",
    "                     'Brazil': [0.22, 0.22, 0.43],\n",
    "                     'USA': [0.2, 0.5, 0.3],\n",
    "                     'England': [0.45],\n",
    "                     'Canada': [0.25, 0.3],\n",
    "                     'Argentina': [0.22],\n",
    "                     'Greece': [0.45, 0.66, 0.75, 0.99, 0.15, 0.66],\n",
    "                     'Morocco': [0.29],\n",
    "                     'Tunisia': [0.68, 0.56],\n",
    "                     'Egypt': [0.99],\n",
    "                     'Jamaica': [0.61, 0.65, 0.71],\n",
    "                     'Switzerland': [0.73, 0.86, 0.84, 0.51, 0.99],\n",
    "                     'Germany': [0.45, 0.49, 0.36]}"
   ]
  },
  {
   "cell_type": "markdown",
   "metadata": {},
   "source": [
    "Imprimamos el objeto"
   ]
  },
  {
   "cell_type": "code",
   "execution_count": 2,
   "metadata": {
    "ExecuteTime": {
     "end_time": "2020-03-13T21:47:54.632824Z",
     "start_time": "2020-03-13T21:47:54.626869Z"
    },
    "scrolled": true
   },
   "outputs": [
    {
     "name": "stdout",
     "output_type": "stream",
     "text": [
      "{'Australia': [0.6, 0.33, 0.11, 0.14], 'France': [0.66, 0.78, 0.98, 0.2], 'Italy': [0.6], 'Brazil': [0.22, 0.22, 0.43], 'USA': [0.2, 0.5, 0.3], 'England': [0.45], 'Canada': [0.25, 0.3], 'Argentina': [0.22], 'Greece': [0.45, 0.66, 0.75, 0.99, 0.15, 0.66], 'Morocco': [0.29], 'Tunisia': [0.68, 0.56], 'Egypt': [0.99], 'Jamaica': [0.61, 0.65, 0.71], 'Switzerland': [0.73, 0.86, 0.84, 0.51, 0.99], 'Germany': [0.45, 0.49, 0.36]}\n"
     ]
    }
   ],
   "source": [
    "print(estimaciones)"
   ]
  },
  {
   "cell_type": "markdown",
   "metadata": {},
   "source": [
    "Intuitivamente, la recomendación sería aquel país con estimaciones más altas. Pero hay países con más observaciones que otros."
   ]
  },
  {
   "cell_type": "markdown",
   "metadata": {},
   "source": [
    "## Interactuando con listas y diccionarios"
   ]
  },
  {
   "cell_type": "markdown",
   "metadata": {},
   "source": [
    "Los métodos ```.keys()``` y ```.values()``` permiten acceder a los objetos de un diccionario."
   ]
  },
  {
   "cell_type": "code",
   "execution_count": 5,
   "metadata": {
    "ExecuteTime": {
     "end_time": "2020-03-13T21:50:12.406071Z",
     "start_time": "2020-03-13T21:50:12.398092Z"
    }
   },
   "outputs": [
    {
     "data": {
      "text/plain": [
       "['Australia',\n",
       " 'France',\n",
       " 'Italy',\n",
       " 'Brazil',\n",
       " 'USA',\n",
       " 'England',\n",
       " 'Canada',\n",
       " 'Argentina',\n",
       " 'Greece',\n",
       " 'Morocco',\n",
       " 'Tunisia',\n",
       " 'Egypt',\n",
       " 'Jamaica',\n",
       " 'Switzerland',\n",
       " 'Germany']"
      ]
     },
     "execution_count": 5,
     "metadata": {},
     "output_type": "execute_result"
    }
   ],
   "source": [
    "# Las llaves del diccionario\n",
    "\n",
    "estimaciones.keys()\n",
    "list(estimaciones.keys())\n"
   ]
  },
  {
   "cell_type": "code",
   "execution_count": 6,
   "metadata": {
    "ExecuteTime": {
     "end_time": "2020-03-13T21:50:25.385882Z",
     "start_time": "2020-03-13T21:50:25.380895Z"
    }
   },
   "outputs": [
    {
     "data": {
      "text/plain": [
       "[[0.6, 0.33, 0.11, 0.14],\n",
       " [0.66, 0.78, 0.98, 0.2],\n",
       " [0.6],\n",
       " [0.22, 0.22, 0.43],\n",
       " [0.2, 0.5, 0.3],\n",
       " [0.45],\n",
       " [0.25, 0.3],\n",
       " [0.22],\n",
       " [0.45, 0.66, 0.75, 0.99, 0.15, 0.66],\n",
       " [0.29],\n",
       " [0.68, 0.56],\n",
       " [0.99],\n",
       " [0.61, 0.65, 0.71],\n",
       " [0.73, 0.86, 0.84, 0.51, 0.99],\n",
       " [0.45, 0.49, 0.36]]"
      ]
     },
     "execution_count": 6,
     "metadata": {},
     "output_type": "execute_result"
    }
   ],
   "source": [
    "# ...y los valores\n",
    "list(estimaciones.values())"
   ]
  },
  {
   "cell_type": "markdown",
   "metadata": {},
   "source": [
    "Con la palabra clave ```in```se puede verificar la presencia de un nombre dentro de las llaves del diccionario:"
   ]
  },
  {
   "cell_type": "code",
   "execution_count": 8,
   "metadata": {
    "ExecuteTime": {
     "end_time": "2020-03-13T22:00:16.575792Z",
     "start_time": "2020-03-13T22:00:16.569815Z"
    }
   },
   "outputs": [
    {
     "name": "stdout",
     "output_type": "stream",
     "text": [
      "True\n",
      "False\n"
     ]
    }
   ],
   "source": [
    "print(\"Morocco\" in estimaciones)\n",
    "\n",
    "print('Japan' in estimaciones)"
   ]
  },
  {
   "cell_type": "markdown",
   "metadata": {},
   "source": [
    "Para acceder a los valores de una llave, escribirla entre ```[]```"
   ]
  },
  {
   "cell_type": "code",
   "execution_count": 9,
   "metadata": {
    "ExecuteTime": {
     "end_time": "2020-03-13T22:00:42.593678Z",
     "start_time": "2020-03-13T22:00:42.588692Z"
    }
   },
   "outputs": [
    {
     "data": {
      "text/plain": [
       "[0.61, 0.65, 0.71]"
      ]
     },
     "execution_count": 9,
     "metadata": {},
     "output_type": "execute_result"
    }
   ],
   "source": [
    "estimaciones['Jamaica']"
   ]
  },
  {
   "cell_type": "markdown",
   "metadata": {},
   "source": [
    "Este resultado puede almacenarse para usarse después:"
   ]
  },
  {
   "cell_type": "code",
   "execution_count": 11,
   "metadata": {
    "ExecuteTime": {
     "end_time": "2020-03-13T22:02:11.705798Z",
     "start_time": "2020-03-13T22:02:11.701842Z"
    }
   },
   "outputs": [],
   "source": [
    "jamaica_list = estimaciones['Jamaica']"
   ]
  },
  {
   "cell_type": "markdown",
   "metadata": {},
   "source": [
    "Contenido del objeto con ```print()``` :"
   ]
  },
  {
   "cell_type": "code",
   "execution_count": 12,
   "metadata": {
    "ExecuteTime": {
     "end_time": "2020-03-13T22:02:36.458692Z",
     "start_time": "2020-03-13T22:02:36.454683Z"
    }
   },
   "outputs": [
    {
     "name": "stdout",
     "output_type": "stream",
     "text": [
      "[0.61, 0.65, 0.71]\n"
     ]
    }
   ],
   "source": [
    "print(jamaica_list)"
   ]
  },
  {
   "cell_type": "markdown",
   "metadata": {},
   "source": [
    "Acceder a los contenidos de la lista a través de los <i> índices </i> correspondientes:"
   ]
  },
  {
   "cell_type": "code",
   "execution_count": 13,
   "metadata": {
    "ExecuteTime": {
     "end_time": "2020-03-13T22:04:54.061715Z",
     "start_time": "2020-03-13T22:04:54.056757Z"
    }
   },
   "outputs": [
    {
     "name": "stdout",
     "output_type": "stream",
     "text": [
      "0.61\n",
      "0.65\n",
      "0.71\n"
     ]
    }
   ],
   "source": [
    "print(jamaica_list[0])\n",
    "print(jamaica_list[1])\n",
    "print(jamaica_list[2])\n"
   ]
  },
  {
   "cell_type": "markdown",
   "metadata": {},
   "source": [
    "Longitud de la lista a través de la función ```len()```"
   ]
  },
  {
   "cell_type": "code",
   "execution_count": 15,
   "metadata": {
    "ExecuteTime": {
     "end_time": "2020-03-13T22:08:17.138604Z",
     "start_time": "2020-03-13T22:08:17.133590Z"
    },
    "scrolled": true
   },
   "outputs": [
    {
     "data": {
      "text/plain": [
       "3"
      ]
     },
     "execution_count": 15,
     "metadata": {},
     "output_type": "execute_result"
    }
   ],
   "source": [
    "len(jamaica_list)"
   ]
  },
  {
   "cell_type": "markdown",
   "metadata": {},
   "source": [
    "### Ejercicio 1:\n",
    "\n",
    "Imprimir la longitud de France, Greece y Morocco:"
   ]
  },
  {
   "cell_type": "markdown",
   "metadata": {},
   "source": [
    "**Respuesta.**"
   ]
  },
  {
   "cell_type": "code",
   "execution_count": 18,
   "metadata": {
    "ExecuteTime": {
     "end_time": "2020-02-14T02:15:07.110869Z",
     "start_time": "2020-02-14T02:15:07.103814Z"
    }
   },
   "outputs": [
    {
     "name": "stdout",
     "output_type": "stream",
     "text": [
      "4\n",
      "6\n",
      "1\n"
     ]
    }
   ],
   "source": [
    "print(len(estimaciones['France']))\n",
    "\n",
    "print(len(estimaciones['Greece']))\n",
    "\n",
    "print(len(estimaciones['Morocco']))\n"
   ]
  },
  {
   "cell_type": "markdown",
   "metadata": {},
   "source": [
    "### Ejercicio 2:\n",
    "\n",
    "¿Cuál de los siguientes sería ideal para almacenar las estimaciones si estuvieran a nivel regional en vez de nacional?\n",
    "\n",
    "(a) List\n",
    "\n",
    "(b) Dictionary\n",
    "\n",
    "(c) Float\n",
    "\n",
    "(d) String\n",
    "\n",
    " "
   ]
  },
  {
   "cell_type": "markdown",
   "metadata": {},
   "source": [
    "**Respuesta**\n",
    "B"
   ]
  },
  {
   "cell_type": "markdown",
   "metadata": {},
   "source": [
    "Now that we're familiar with using lists and know that lists are ordered data structures while dictionaries are unordered data structures, let's begin to compare success estimates across countries."
   ]
  },
  {
   "cell_type": "markdown",
   "metadata": {},
   "source": [
    "## Promediar estimaciones por país"
   ]
  },
  {
   "cell_type": "markdown",
   "metadata": {},
   "source": [
    "Utilizar promedio aritmético"
   ]
  },
  {
   "cell_type": "code",
   "execution_count": 16,
   "metadata": {
    "ExecuteTime": {
     "end_time": "2020-03-13T22:14:42.744359Z",
     "start_time": "2020-03-13T22:14:42.738375Z"
    }
   },
   "outputs": [
    {
     "name": "stdout",
     "output_type": "stream",
     "text": [
      "0.6566666666666666\n"
     ]
    }
   ],
   "source": [
    "avg_jamaica = (0.61 + 0.65 + 0.71) / 3\n",
    "print(avg_jamaica)"
   ]
  },
  {
   "cell_type": "markdown",
   "metadata": {},
   "source": [
    "Lo anterior se realizó manualmente, pero para más países sería una tarea tediosa, por eso es mejor utilizar funciones de Python pre-construidas."
   ]
  },
  {
   "cell_type": "markdown",
   "metadata": {},
   "source": [
    "Utilizar las funciones ```sum()```, ```min()```, and ```max()```:"
   ]
  },
  {
   "cell_type": "code",
   "execution_count": 18,
   "metadata": {
    "ExecuteTime": {
     "end_time": "2020-03-13T22:21:28.279408Z",
     "start_time": "2020-03-13T22:21:28.274423Z"
    }
   },
   "outputs": [
    {
     "name": "stdout",
     "output_type": "stream",
     "text": [
      "Country: Jamaica , Average: 0.6566666666666666\n"
     ]
    }
   ],
   "source": [
    "avg_jamaica = sum(jamaica_list) / len(jamaica_list)\n",
    "min_jamaica = min(jamaica_list)\n",
    "max_jamaica = max(jamaica_list)\n",
    "\n",
    "print(\"Country:\",\"Jamaica\",\", Average:\",avg_jamaica)\n"
   ]
  },
  {
   "cell_type": "markdown",
   "metadata": {},
   "source": [
    "Mismo resultado, para simplificar se redondea con la función ```round()```"
   ]
  },
  {
   "cell_type": "code",
   "execution_count": 19,
   "metadata": {
    "ExecuteTime": {
     "end_time": "2020-03-13T22:22:17.172440Z",
     "start_time": "2020-03-13T22:22:17.166450Z"
    }
   },
   "outputs": [
    {
     "name": "stdout",
     "output_type": "stream",
     "text": [
      "Country: Jamaica , Average: 0.66\n"
     ]
    }
   ],
   "source": [
    "avg_jamaica = round(sum(jamaica_list) / len(jamaica_list),2)\n",
    "min_jamaica = round(min(jamaica_list),2)\n",
    "max_jamaica = round(max(jamaica_list),2)\n",
    "print(\"Country:\",'Jamaica',\", Average:\",avg_jamaica)\n"
   ]
  },
  {
   "cell_type": "code",
   "execution_count": 25,
   "metadata": {
    "ExecuteTime": {
     "end_time": "2020-03-13T22:47:01.211849Z",
     "start_time": "2020-03-13T22:47:01.205869Z"
    }
   },
   "outputs": [
    {
     "data": {
      "text/plain": [
       "0.66"
      ]
     },
     "execution_count": 25,
     "metadata": {},
     "output_type": "execute_result"
    }
   ],
   "source": []
  },
  {
   "cell_type": "markdown",
   "metadata": {},
   "source": [
    "### Ejercicio 3:\n",
    "\n",
    "Escribir un código que calcule el promedio de las estimaciones para todos los países\n",
    "```\n",
    "Country: France , Average: 0.655\n",
    "Country: Brazil , Average: 0.29\n",
    "```"
   ]
  },
  {
   "cell_type": "code",
   "execution_count": 21,
   "metadata": {
    "ExecuteTime": {
     "end_time": "2020-03-13T22:30:44.432129Z",
     "start_time": "2020-03-13T22:30:44.419169Z"
    }
   },
   "outputs": [
    {
     "name": "stdout",
     "output_type": "stream",
     "text": [
      "0.655\n",
      "Country: Australia , Average: 0.29500000000000004\n",
      "Country: France , Average: 0.655\n",
      "Country: Italy , Average: 0.6\n",
      "Country: Brazil , Average: 0.29\n",
      "Country: USA , Average: 0.3333333333333333\n",
      "Country: England , Average: 0.45\n",
      "Country: Canada , Average: 0.275\n",
      "Country: Argentina , Average: 0.22\n",
      "Country: Greece , Average: 0.61\n",
      "Country: Morocco , Average: 0.29\n",
      "Country: Tunisia , Average: 0.6200000000000001\n",
      "Country: Egypt , Average: 0.99\n",
      "Country: Jamaica , Average: 0.6566666666666666\n",
      "Country: Switzerland , Average: 0.7859999999999999\n",
      "Country: Germany , Average: 0.4333333333333333\n",
      "Australia 0.29500000000000004\n",
      "France 0.655\n",
      "Italy 0.6\n",
      "Brazil 0.29\n",
      "USA 0.3333333333333333\n",
      "England 0.45\n",
      "Canada 0.275\n",
      "Argentina 0.22\n",
      "Greece 0.61\n",
      "Morocco 0.29\n",
      "Tunisia 0.6200000000000001\n",
      "Egypt 0.99\n",
      "Jamaica 0.6566666666666666\n",
      "Switzerland 0.7859999999999999\n",
      "Germany 0.4333333333333333\n"
     ]
    }
   ],
   "source": [
    "# Si para un solo país el procedimiento es el siguiente, construya un bucle que lo haga para todos\n",
    "print(sum(estimaciones['France']) / len(estimaciones['France']))\n",
    "\n",
    "for pais in estimaciones:\n",
    "    print(\"Country:\",pais,\", Average:\",sum(estimaciones[pais]) / len(estimaciones[pais]))\n",
    "\n",
    "for i in estimaciones:\n",
    "    print(i, sum(estimaciones[i]) / len(estimaciones[i]) )\n",
    "\n",
    "    "
   ]
  },
  {
   "cell_type": "markdown",
   "metadata": {},
   "source": [
    "**Respuesta**"
   ]
  },
  {
   "cell_type": "code",
   "execution_count": 33,
   "metadata": {
    "ExecuteTime": {
     "end_time": "2020-02-13T19:06:56.569665Z",
     "start_time": "2020-02-13T19:06:56.556725Z"
    }
   },
   "outputs": [
    {
     "name": "stdout",
     "output_type": "stream",
     "text": [
      "Country: Australia , Average: 0.29500000000000004\n",
      "Country: France , Average: 0.655\n",
      "Country: Italy , Average: 0.6\n",
      "Country: Brazil , Average: 0.29\n",
      "Country: USA , Average: 0.3333333333333333\n",
      "Country: England , Average: 0.45\n",
      "Country: Canada , Average: 0.275\n",
      "Country: Argentina , Average: 0.22\n",
      "Country: Greece , Average: 0.61\n",
      "Country: Morocco , Average: 0.29\n",
      "Country: Tunisia , Average: 0.6200000000000001\n",
      "Country: Egypt , Average: 0.99\n",
      "Country: Jamaica , Average: 0.6566666666666666\n",
      "Country: Switzerland , Average: 0.7859999999999999\n",
      "Country: Germany , Average: 0.4333333333333333\n"
     ]
    }
   ],
   "source": [
    "for i in estimaciones:\n",
    "    print(\"Country:\",i,\", Average:\",sum(estimaciones[i]) / len(estimaciones[i]))"
   ]
  },
  {
   "cell_type": "markdown",
   "metadata": {},
   "source": [
    "### Ejercicio 4:\n",
    "\n",
    "Escriba un bucle para calcular el mínimo y máximo de cada país."
   ]
  },
  {
   "cell_type": "markdown",
   "metadata": {},
   "source": [
    "**Respuesta.**"
   ]
  },
  {
   "cell_type": "code",
   "execution_count": 23,
   "metadata": {
    "ExecuteTime": {
     "end_time": "2020-03-13T22:41:34.325103Z",
     "start_time": "2020-03-13T22:41:34.317125Z"
    },
    "scrolled": false
   },
   "outputs": [
    {
     "name": "stdout",
     "output_type": "stream",
     "text": [
      "Country Australia , Min:  0.11\n",
      "Country Australia , Max:  0.6\n",
      "Country France , Min:  0.2\n",
      "Country France , Max:  0.98\n",
      "Country Italy , Min:  0.6\n",
      "Country Italy , Max:  0.6\n",
      "Country Brazil , Min:  0.22\n",
      "Country Brazil , Max:  0.43\n",
      "Country USA , Min:  0.2\n",
      "Country USA , Max:  0.5\n",
      "Country England , Min:  0.45\n",
      "Country England , Max:  0.45\n",
      "Country Canada , Min:  0.25\n",
      "Country Canada , Max:  0.3\n",
      "Country Argentina , Min:  0.22\n",
      "Country Argentina , Max:  0.22\n",
      "Country Greece , Min:  0.15\n",
      "Country Greece , Max:  0.99\n",
      "Country Morocco , Min:  0.29\n",
      "Country Morocco , Max:  0.29\n",
      "Country Tunisia , Min:  0.56\n",
      "Country Tunisia , Max:  0.68\n",
      "Country Egypt , Min:  0.99\n",
      "Country Egypt , Max:  0.99\n",
      "Country Jamaica , Min:  0.61\n",
      "Country Jamaica , Max:  0.71\n",
      "Country Switzerland , Min:  0.51\n",
      "Country Switzerland , Max:  0.99\n",
      "Country Germany , Min:  0.36\n",
      "Country Germany , Max:  0.49\n"
     ]
    }
   ],
   "source": [
    "for pais in estimaciones:\n",
    "    print('Country',pais,', Min: ', min(estimaciones[pais]))\n",
    "    print('Country',pais,', Max: ', max(estimaciones[pais]))"
   ]
  },
  {
   "cell_type": "markdown",
   "metadata": {},
   "source": [
    "### Ejercicio 5:\n",
    "\n",
    "Escriba un bucle que genere la diferencia entre el máximo y mínimo de las estimaciones de todos los países"
   ]
  },
  {
   "cell_type": "markdown",
   "metadata": {},
   "source": [
    "**Respuesta.**"
   ]
  },
  {
   "cell_type": "code",
   "execution_count": 26,
   "metadata": {
    "ExecuteTime": {
     "end_time": "2020-03-13T22:48:11.316476Z",
     "start_time": "2020-03-13T22:48:11.308499Z"
    }
   },
   "outputs": [
    {
     "name": "stdout",
     "output_type": "stream",
     "text": [
      "Country:  Australia , Range:  0.49\n",
      "Country:  France , Range:  0.78\n",
      "Country:  Italy , Range:  0.0\n",
      "Country:  Brazil , Range:  0.21\n",
      "Country:  USA , Range:  0.3\n",
      "Country:  England , Range:  0.0\n",
      "Country:  Canada , Range:  0.04999999999999999\n",
      "Country:  Argentina , Range:  0.0\n",
      "Country:  Greece , Range:  0.84\n",
      "Country:  Morocco , Range:  0.0\n",
      "Country:  Tunisia , Range:  0.12\n",
      "Country:  Egypt , Range:  0.0\n",
      "Country:  Jamaica , Range:  0.09999999999999998\n",
      "Country:  Switzerland , Range:  0.48\n",
      "Country:  Germany , Range:  0.13\n"
     ]
    }
   ],
   "source": [
    "for i in estimaciones:\n",
    "    country_range = max(estimaciones[i]) - min(estimaciones[i])\n",
    "    print('Country: ', i, \", Range: \", country_range)\n",
    "\n",
    "# Visualizally analyzing the output, we see Greece has the largest range"
   ]
  },
  {
   "cell_type": "markdown",
   "metadata": {},
   "source": [
    "## List Comprehension"
   ]
  },
  {
   "cell_type": "markdown",
   "metadata": {},
   "source": [
    "Permite construir listas eficientemente"
   ]
  },
  {
   "cell_type": "code",
   "execution_count": 28,
   "metadata": {
    "ExecuteTime": {
     "end_time": "2020-03-13T23:01:00.239698Z",
     "start_time": "2020-03-13T23:01:00.231749Z"
    }
   },
   "outputs": [
    {
     "data": {
      "text/plain": [
       "['Australia',\n",
       " 'France',\n",
       " 'Italy',\n",
       " 'Brazil',\n",
       " 'USA',\n",
       " 'England',\n",
       " 'Canada',\n",
       " 'Argentina',\n",
       " 'Greece',\n",
       " 'Morocco',\n",
       " 'Tunisia',\n",
       " 'Egypt',\n",
       " 'Jamaica',\n",
       " 'Switzerland',\n",
       " 'Germany']"
      ]
     },
     "execution_count": 28,
     "metadata": {},
     "output_type": "execute_result"
    }
   ],
   "source": [
    "key_name_list = [i for i in estimaciones] # Es un bucle que itera para cada elemento y los guarda en la lista\n",
    "key_name_list\n"
   ]
  },
  {
   "cell_type": "markdown",
   "metadata": {},
   "source": [
    "Ahora iterar para los valores"
   ]
  },
  {
   "cell_type": "code",
   "execution_count": 29,
   "metadata": {
    "ExecuteTime": {
     "end_time": "2020-03-13T23:03:14.353840Z",
     "start_time": "2020-03-13T23:03:14.345891Z"
    }
   },
   "outputs": [
    {
     "data": {
      "text/plain": [
       "[[0.6, 0.33, 0.11, 0.14],\n",
       " [0.66, 0.78, 0.98, 0.2],\n",
       " [0.6],\n",
       " [0.22, 0.22, 0.43],\n",
       " [0.2, 0.5, 0.3],\n",
       " [0.45],\n",
       " [0.25, 0.3],\n",
       " [0.22],\n",
       " [0.45, 0.66, 0.75, 0.99, 0.15, 0.66],\n",
       " [0.29],\n",
       " [0.68, 0.56],\n",
       " [0.99],\n",
       " [0.61, 0.65, 0.71],\n",
       " [0.73, 0.86, 0.84, 0.51, 0.99],\n",
       " [0.45, 0.49, 0.36]]"
      ]
     },
     "execution_count": 29,
     "metadata": {},
     "output_type": "execute_result"
    }
   ],
   "source": [
    "value_name_list = [estimaciones[i] for i in estimaciones]\n",
    "value_name_list"
   ]
  },
  {
   "cell_type": "markdown",
   "metadata": {},
   "source": [
    "Cada país se llama con i, y para acceder al valor: estimaciones[i]"
   ]
  },
  {
   "cell_type": "code",
   "execution_count": 30,
   "metadata": {
    "ExecuteTime": {
     "end_time": "2020-03-13T23:04:05.558077Z",
     "start_time": "2020-03-13T23:04:05.552087Z"
    }
   },
   "outputs": [
    {
     "data": {
      "text/plain": [
       "[['Australia', 4],\n",
       " ['France', 4],\n",
       " ['Italy', 1],\n",
       " ['Brazil', 3],\n",
       " ['USA', 3],\n",
       " ['England', 1],\n",
       " ['Canada', 2],\n",
       " ['Argentina', 1],\n",
       " ['Greece', 6],\n",
       " ['Morocco', 1],\n",
       " ['Tunisia', 2],\n",
       " ['Egypt', 1],\n",
       " ['Jamaica', 3],\n",
       " ['Switzerland', 5],\n",
       " ['Germany', 3]]"
      ]
     },
     "execution_count": 30,
     "metadata": {},
     "output_type": "execute_result"
    }
   ],
   "source": [
    "# Número de estimaciones por cada país\n",
    "[[i,len(estimaciones[i])] for i in estimaciones]"
   ]
  },
  {
   "cell_type": "markdown",
   "metadata": {},
   "source": [
    "### Ejercicio 6:"
   ]
  },
  {
   "cell_type": "markdown",
   "metadata": {},
   "source": [
    "Crear una lista donde cada elemento es una lista de 2 elementos [Country, value]. El valor debería ser la suma de cuadrados de las estimaciones del país. Por ejemplo, para Jamaica el resultado debería ser [Jamaica, 1.2987] puesto que 1.2987 = 0.61^2 + 0.65^2 + 0.71^2."
   ]
  },
  {
   "cell_type": "markdown",
   "metadata": {},
   "source": [
    "**Respuesta**:"
   ]
  },
  {
   "cell_type": "code",
   "execution_count": 32,
   "metadata": {
    "ExecuteTime": {
     "end_time": "2020-03-13T23:07:46.192142Z",
     "start_time": "2020-03-13T23:07:46.187154Z"
    },
    "scrolled": true
   },
   "outputs": [
    {
     "data": {
      "text/plain": [
       "[['Australia', 0.5005999999999999],\n",
       " ['France', 2.0444],\n",
       " ['Italy', 0.36],\n",
       " ['Brazil', 0.28169999999999995],\n",
       " ['USA', 0.38],\n",
       " ['England', 0.2025],\n",
       " ['Canada', 0.1525],\n",
       " ['Argentina', 0.0484],\n",
       " ['Greece', 2.6388],\n",
       " ['Morocco', 0.0841],\n",
       " ['Tunisia', 0.7760000000000001],\n",
       " ['Egypt', 0.9801],\n",
       " ['Jamaica', 1.2987],\n",
       " ['Switzerland', 3.2183],\n",
       " ['Germany', 0.5722]]"
      ]
     },
     "execution_count": 32,
     "metadata": {},
     "output_type": "execute_result"
    }
   ],
   "source": [
    "# List comprehension anidado\n",
    "sum_squares_list = [[i, sum([j**2 for j in estimaciones[i]])] for i in estimaciones]\n",
    "sum_squares_list"
   ]
  },
  {
   "cell_type": "markdown",
   "metadata": {},
   "source": [
    "## Reflexionando sobre los promedios"
   ]
  },
  {
   "cell_type": "markdown",
   "metadata": {},
   "source": [
    "Hay bastante variación, el promedio más bajo Canada = 0.275, y el más alto Egypt = 0.99. El problema es que Egypt tiene una sola observación. Lo mejor es restringir el análisis a aquellos países con más de una observación. Es posible hacerlo a través de un condicional\n",
    "\n",
    "```python\n",
    "if test_expression_1:\n",
    "    block1_statement(s)\n",
    "elif test_expression_2:\n",
    "    block2_statement2(s)\n",
    "else:\n",
    "    block3_statement(s)\n",
    "```\n",
    "\n",
    "Utilicemos el condicional para filtrar los países."
   ]
  },
  {
   "cell_type": "markdown",
   "metadata": {},
   "source": [
    "## Filtrar con if"
   ]
  },
  {
   "cell_type": "code",
   "execution_count": 33,
   "metadata": {
    "ExecuteTime": {
     "end_time": "2020-03-13T23:44:24.491662Z",
     "start_time": "2020-03-13T23:44:24.479053Z"
    }
   },
   "outputs": [
    {
     "data": {
      "text/plain": [
       "{'Australia': 0.29500000000000004,\n",
       " 'France': 0.655,\n",
       " 'Brazil': 0.29,\n",
       " 'USA': 0.3333333333333333,\n",
       " 'Canada': 0.275,\n",
       " 'Greece': 0.61,\n",
       " 'Tunisia': 0.6200000000000001,\n",
       " 'Jamaica': 0.6566666666666666,\n",
       " 'Switzerland': 0.7859999999999999,\n",
       " 'Germany': 0.4333333333333333}"
      ]
     },
     "execution_count": 33,
     "metadata": {},
     "output_type": "execute_result"
    }
   ],
   "source": [
    "# Lista del nombre de todos los países\n",
    "country_name_list = list(estimaciones.keys())\n",
    "\n",
    "# Crear un diccionario vacío que contenga los países seleccionados\n",
    "country_means = {}\n",
    "\n",
    "# Bucle que itera para cada país\n",
    "for i in country_name_list:\n",
    "    list_country_estimates = estimaciones[i] # Lista de estimaciones\n",
    "\n",
    "    # Si la estimación posee más de una observación, que calcule el promedio, de lo contrario que siga a la siguiente iteración\n",
    "    if len(estimaciones[i]) > 1:\n",
    "        country_mean_value = sum(list_country_estimates) / len(list_country_estimates)\n",
    "        country_means[i] =  country_mean_value # Insertar el valor en el diccionario, utilizando el nombre del país como llave\n",
    "        \n",
    "country_means        "
   ]
  },
  {
   "cell_type": "markdown",
   "metadata": {},
   "source": [
    "Switzerland lidera, mientras que Canada queda como el más bajo"
   ]
  },
  {
   "cell_type": "markdown",
   "metadata": {},
   "source": [
    "### Ejercicio 7:\n",
    "\n",
    "¿Cuál aproximación sería correcta para aminorar el problema de que algunos países solo tengan una observación? Tenga en cuenta la razón por la que se está realizando esta investigación.\n",
    "\n",
    "(a) Agrupar países por regiones.\n",
    "\n",
    "(b) Remover un país si sus estimaciones son muy grandes o pequeñas comparadas a los demás países.\n",
    "\n",
    "(c) Utilizar un estadístico diferente al promedio.\n",
    "\n",
    "(d) Consultar el por qué algunos países solo tienen una observación y tratar de conseguir los datos a través de otras fuentes."
   ]
  },
  {
   "cell_type": "markdown",
   "metadata": {},
   "source": [
    "**Respuesta** (d)"
   ]
  },
  {
   "cell_type": "markdown",
   "metadata": {},
   "source": [
    "## Conclusiones"
   ]
  },
  {
   "cell_type": "markdown",
   "metadata": {},
   "source": [
    "Switzerland posee la mayor probabilidad se éxito y por ende, es el país que debería de escogerse para el plan de expansión de la aerolínea.\n",
    "\n",
    "Otros países que deberían de tenerse en cuenta con Jamaica y Francia."
   ]
  },
  {
   "cell_type": "markdown",
   "metadata": {
    "collapsed": true
   },
   "source": [
    "## Aprendizaje"
   ]
  },
  {
   "cell_type": "markdown",
   "metadata": {},
   "source": [
    "Python es una herramienta que sirve tanto para proyectos sencillos, como para los más complejos, tanto para los negocios, como para la academia o los retos públicos."
   ]
  }
 ],
 "metadata": {
  "kernelspec": {
   "display_name": "Python 3",
   "language": "python",
   "name": "python3"
  },
  "language_info": {
   "codemirror_mode": {
    "name": "ipython",
    "version": 3
   },
   "file_extension": ".py",
   "mimetype": "text/x-python",
   "name": "python",
   "nbconvert_exporter": "python",
   "pygments_lexer": "ipython3",
   "version": "3.7.5"
  },
  "varInspector": {
   "cols": {
    "lenName": 16,
    "lenType": 16,
    "lenVar": 40
   },
   "kernels_config": {
    "python": {
     "delete_cmd_postfix": "",
     "delete_cmd_prefix": "del ",
     "library": "var_list.py",
     "varRefreshCmd": "print(var_dic_list())"
    },
    "r": {
     "delete_cmd_postfix": ") ",
     "delete_cmd_prefix": "rm(",
     "library": "var_list.r",
     "varRefreshCmd": "cat(var_dic_list()) "
    }
   },
   "types_to_exclude": [
    "module",
    "function",
    "builtin_function_or_method",
    "instance",
    "_Feature"
   ],
   "window_display": false
  }
 },
 "nbformat": 4,
 "nbformat_minor": 1
}
