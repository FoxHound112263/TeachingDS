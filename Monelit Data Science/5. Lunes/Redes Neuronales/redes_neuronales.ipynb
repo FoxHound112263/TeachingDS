{
 "cells": [
  {
   "cell_type": "markdown",
   "metadata": {},
   "source": [
    "# Predecir precios de mercado de autos usados"
   ]
  },
  {
   "cell_type": "markdown",
   "metadata": {},
   "source": [
    "## Introducción (5 mts)\n",
    "\n",
    "Veremos una predicción con regresión y la alternativa de red neuronal"
   ]
  },
  {
   "cell_type": "markdown",
   "metadata": {},
   "source": [
    "## Leer los datos (5 mts)"
   ]
  },
  {
   "cell_type": "code",
   "execution_count": 1,
   "metadata": {
    "ExecuteTime": {
     "end_time": "2020-02-24T23:28:27.906128Z",
     "start_time": "2020-02-24T23:28:25.915691Z"
    }
   },
   "outputs": [],
   "source": [
    "import statsmodels.formula.api as sm\n",
    "import numpy as np\n",
    "import pandas as pd\n",
    "import matplotlib.pyplot as plt\n",
    "import seaborn as sns\n",
    "\n",
    "#from sklearn.preprocessing import Imputer\n",
    "#from sklearn.impute import SimpleImputer\n",
    "from sklearn.metrics import mean_squared_error as mse"
   ]
  },
  {
   "cell_type": "code",
   "execution_count": 2,
   "metadata": {
    "ExecuteTime": {
     "end_time": "2020-02-24T23:29:04.255327Z",
     "start_time": "2020-02-24T23:28:54.986734Z"
    }
   },
   "outputs": [],
   "source": [
    "df = pd.read_csv('used_cars_clean.csv')"
   ]
  },
  {
   "cell_type": "code",
   "execution_count": 3,
   "metadata": {
    "ExecuteTime": {
     "end_time": "2020-02-24T23:29:18.274691Z",
     "start_time": "2020-02-24T23:29:18.240093Z"
    }
   },
   "outputs": [
    {
     "name": "stdout",
     "output_type": "stream",
     "text": [
      "Index(['city', 'year', 'manufacturer', 'condition', 'cylinders', 'fuel',\n",
      "       'odometer', 'title_status', 'transmission', 'drive', 'size', 'type',\n",
      "       'paint_color', 'desc', 'price'],\n",
      "      dtype='object')\n"
     ]
    },
    {
     "data": {
      "text/html": [
       "<div>\n",
       "<style scoped>\n",
       "    .dataframe tbody tr th:only-of-type {\n",
       "        vertical-align: middle;\n",
       "    }\n",
       "\n",
       "    .dataframe tbody tr th {\n",
       "        vertical-align: top;\n",
       "    }\n",
       "\n",
       "    .dataframe thead th {\n",
       "        text-align: right;\n",
       "    }\n",
       "</style>\n",
       "<table border=\"1\" class=\"dataframe\">\n",
       "  <thead>\n",
       "    <tr style=\"text-align: right;\">\n",
       "      <th></th>\n",
       "      <th>city</th>\n",
       "      <th>year</th>\n",
       "      <th>manufacturer</th>\n",
       "      <th>condition</th>\n",
       "      <th>cylinders</th>\n",
       "      <th>fuel</th>\n",
       "      <th>odometer</th>\n",
       "      <th>title_status</th>\n",
       "      <th>transmission</th>\n",
       "      <th>drive</th>\n",
       "      <th>size</th>\n",
       "      <th>type</th>\n",
       "      <th>paint_color</th>\n",
       "      <th>desc</th>\n",
       "      <th>price</th>\n",
       "    </tr>\n",
       "  </thead>\n",
       "  <tbody>\n",
       "    <tr>\n",
       "      <th>0</th>\n",
       "      <td>abilene, TX</td>\n",
       "      <td>2009.0</td>\n",
       "      <td>chevrolet</td>\n",
       "      <td>good</td>\n",
       "      <td>8 cylinders</td>\n",
       "      <td>gas</td>\n",
       "      <td>217743.0</td>\n",
       "      <td>clean</td>\n",
       "      <td>automatic</td>\n",
       "      <td>rwd</td>\n",
       "      <td>full-size</td>\n",
       "      <td>SUV</td>\n",
       "      <td>white</td>\n",
       "      <td>2WD 1/2 ton\\nLeather Captains Chairs\\nIn good ...</td>\n",
       "      <td>9000</td>\n",
       "    </tr>\n",
       "    <tr>\n",
       "      <th>1</th>\n",
       "      <td>abilene, TX</td>\n",
       "      <td>2002.0</td>\n",
       "      <td>gmc</td>\n",
       "      <td>good</td>\n",
       "      <td>8 cylinders</td>\n",
       "      <td>gas</td>\n",
       "      <td>195000.0</td>\n",
       "      <td>clean</td>\n",
       "      <td>automatic</td>\n",
       "      <td>4wd</td>\n",
       "      <td>NaN</td>\n",
       "      <td>pickup</td>\n",
       "      <td>white</td>\n",
       "      <td>2002 GMC Sierra Extended Cab Truck For Sale! R...</td>\n",
       "      <td>6000</td>\n",
       "    </tr>\n",
       "    <tr>\n",
       "      <th>2</th>\n",
       "      <td>abilene, TX</td>\n",
       "      <td>2007.0</td>\n",
       "      <td>pontiac</td>\n",
       "      <td>excellent</td>\n",
       "      <td>4 cylinders</td>\n",
       "      <td>gas</td>\n",
       "      <td>NaN</td>\n",
       "      <td>clean</td>\n",
       "      <td>automatic</td>\n",
       "      <td>fwd</td>\n",
       "      <td>compact</td>\n",
       "      <td>convertible</td>\n",
       "      <td>red</td>\n",
       "      <td>34,965 original miles excellent condition.\\n\\n...</td>\n",
       "      <td>7000</td>\n",
       "    </tr>\n",
       "    <tr>\n",
       "      <th>3</th>\n",
       "      <td>abilene, TX</td>\n",
       "      <td>2012.0</td>\n",
       "      <td>chevrolet</td>\n",
       "      <td>excellent</td>\n",
       "      <td>8 cylinders</td>\n",
       "      <td>diesel</td>\n",
       "      <td>178000.0</td>\n",
       "      <td>clean</td>\n",
       "      <td>automatic</td>\n",
       "      <td>4wd</td>\n",
       "      <td>full-size</td>\n",
       "      <td>pickup</td>\n",
       "      <td>silver</td>\n",
       "      <td>2012 Chevrolet 3500 178k miles, runs and drive...</td>\n",
       "      <td>37000</td>\n",
       "    </tr>\n",
       "    <tr>\n",
       "      <th>4</th>\n",
       "      <td>abilene, TX</td>\n",
       "      <td>2003.0</td>\n",
       "      <td>NaN</td>\n",
       "      <td>fair</td>\n",
       "      <td>8 cylinders</td>\n",
       "      <td>gas</td>\n",
       "      <td>269000.0</td>\n",
       "      <td>clean</td>\n",
       "      <td>automatic</td>\n",
       "      <td>4wd</td>\n",
       "      <td>NaN</td>\n",
       "      <td>pickup</td>\n",
       "      <td>silver</td>\n",
       "      <td>Silver 2003 F150 Triton v8-plugs have been cha...</td>\n",
       "      <td>3700</td>\n",
       "    </tr>\n",
       "  </tbody>\n",
       "</table>\n",
       "</div>"
      ],
      "text/plain": [
       "          city    year manufacturer  condition    cylinders    fuel  odometer  \\\n",
       "0  abilene, TX  2009.0    chevrolet       good  8 cylinders     gas  217743.0   \n",
       "1  abilene, TX  2002.0          gmc       good  8 cylinders     gas  195000.0   \n",
       "2  abilene, TX  2007.0      pontiac  excellent  4 cylinders     gas       NaN   \n",
       "3  abilene, TX  2012.0    chevrolet  excellent  8 cylinders  diesel  178000.0   \n",
       "4  abilene, TX  2003.0          NaN       fair  8 cylinders     gas  269000.0   \n",
       "\n",
       "  title_status transmission drive       size         type paint_color  \\\n",
       "0        clean    automatic   rwd  full-size          SUV       white   \n",
       "1        clean    automatic   4wd        NaN       pickup       white   \n",
       "2        clean    automatic   fwd    compact  convertible         red   \n",
       "3        clean    automatic   4wd  full-size       pickup      silver   \n",
       "4        clean    automatic   4wd        NaN       pickup      silver   \n",
       "\n",
       "                                                desc  price  \n",
       "0  2WD 1/2 ton\\nLeather Captains Chairs\\nIn good ...   9000  \n",
       "1  2002 GMC Sierra Extended Cab Truck For Sale! R...   6000  \n",
       "2  34,965 original miles excellent condition.\\n\\n...   7000  \n",
       "3  2012 Chevrolet 3500 178k miles, runs and drive...  37000  \n",
       "4  Silver 2003 F150 Triton v8-plugs have been cha...   3700  "
      ]
     },
     "execution_count": 3,
     "metadata": {},
     "output_type": "execute_result"
    }
   ],
   "source": [
    "print(df.columns)\n",
    "df.head()"
   ]
  },
  {
   "cell_type": "code",
   "execution_count": 4,
   "metadata": {
    "ExecuteTime": {
     "end_time": "2020-02-24T23:29:48.873680Z",
     "start_time": "2020-02-24T23:29:48.857110Z"
    }
   },
   "outputs": [
    {
     "data": {
      "text/plain": [
       "(435653, 15)"
      ]
     },
     "execution_count": 4,
     "metadata": {},
     "output_type": "execute_result"
    }
   ],
   "source": [
    "df.shape"
   ]
  },
  {
   "cell_type": "code",
   "execution_count": 5,
   "metadata": {
    "ExecuteTime": {
     "end_time": "2020-02-24T23:30:29.196993Z",
     "start_time": "2020-02-24T23:30:29.152904Z"
    }
   },
   "outputs": [
    {
     "data": {
      "text/plain": [
       "automatic    386150\n",
       "manual        33474\n",
       "other         11731\n",
       "Name: transmission, dtype: int64"
      ]
     },
     "execution_count": 5,
     "metadata": {},
     "output_type": "execute_result"
    }
   ],
   "source": [
    "df.transmission.value_counts()"
   ]
  },
  {
   "cell_type": "markdown",
   "metadata": {},
   "source": [
    "## Regresión lineal e ingeniería de características (35 mts)"
   ]
  },
  {
   "cell_type": "code",
   "execution_count": 6,
   "metadata": {
    "ExecuteTime": {
     "end_time": "2020-02-24T23:31:04.211755Z",
     "start_time": "2020-02-24T23:31:03.922495Z"
    }
   },
   "outputs": [
    {
     "data": {
      "image/png": "[encoded data removed]",
      "text/plain": [
       "<Figure size 432x288 with 1 Axes>"
      ]
     },
     "metadata": {
      "needs_background": "light"
     },
     "output_type": "display_data"
    }
   ],
   "source": [
    "ax = sns.boxplot(x='condition', y='price', data=df, order=['salvage', 'fair', 'good', 'excellent', 'like new', 'new'])"
   ]
  },
  {
   "cell_type": "code",
   "execution_count": 7,
   "metadata": {
    "ExecuteTime": {
     "end_time": "2020-02-24T23:31:53.497388Z",
     "start_time": "2020-02-24T23:31:53.133726Z"
    }
   },
   "outputs": [],
   "source": [
    "# condición\n",
    "df = pd.concat([df, pd.get_dummies(df['condition'])], axis=1)\n",
    "np.random.seed(0)\n",
    "# Partición entre entrenamiento y prueba\n",
    "mask = np.random.randn(len(df)) < 0.75\n",
    "df_train = df[mask]\n",
    "df_test = df[~mask]"
   ]
  },
  {
   "cell_type": "code",
   "execution_count": 8,
   "metadata": {
    "ExecuteTime": {
     "end_time": "2020-02-24T23:32:46.844406Z",
     "start_time": "2020-02-24T23:32:46.465338Z"
    }
   },
   "outputs": [
    {
     "name": "stdout",
     "output_type": "stream",
     "text": [
      "                            OLS Regression Results                            \n",
      "==============================================================================\n",
      "Dep. Variable:                  price   R-squared:                       0.066\n",
      "Model:                            OLS   Adj. R-squared:                  0.066\n",
      "Method:                 Least Squares   F-statistic:                     3958.\n",
      "Date:                Mon, 24 Feb 2020   Prob (F-statistic):               0.00\n",
      "Time:                        18:32:46   Log-Likelihood:            -3.5809e+06\n",
      "No. Observations:              336778   AIC:                         7.162e+06\n",
      "Df Residuals:                  336771   BIC:                         7.162e+06\n",
      "Df Model:                           6                                         \n",
      "Covariance Type:            nonrobust                                         \n",
      "=================================================================================\n",
      "                    coef    std err          t      P>|t|      [0.025      0.975]\n",
      "---------------------------------------------------------------------------------\n",
      "Intercept      1.481e+04     28.417    521.148      0.000    1.48e+04    1.49e+04\n",
      "salvage       -1.208e+04    397.125    -30.429      0.000   -1.29e+04   -1.13e+04\n",
      "fair          -1.201e+04    107.577   -111.640      0.000   -1.22e+04   -1.18e+04\n",
      "good          -5267.6879     45.673   -115.335      0.000   -5357.205   -5178.171\n",
      "excellent     -3376.5298     42.447    -79.547      0.000   -3459.724   -3293.335\n",
      "Q(\"like new\") -1238.6643     74.584    -16.608      0.000   -1384.847   -1092.482\n",
      "new            -387.0998    367.579     -1.053      0.292   -1107.544     333.344\n",
      "==============================================================================\n",
      "Omnibus:                    43002.221   Durbin-Watson:                   1.514\n",
      "Prob(Omnibus):                  0.000   Jarque-Bera (JB):            62357.858\n",
      "Skew:                           0.971   Prob(JB):                         0.00\n",
      "Kurtosis:                       3.820   Cond. No.                         24.8\n",
      "==============================================================================\n",
      "\n",
      "Warnings:\n",
      "[1] Standard Errors assume that the covariance matrix of the errors is correctly specified.\n"
     ]
    }
   ],
   "source": [
    "model1 = 'price~salvage + fair + good + excellent + Q(\"like new\") + new'\n",
    "lml = sm.ols(formula=model1, data=df_train).fit()\n",
    "print(lml.summary())"
   ]
  },
  {
   "cell_type": "code",
   "execution_count": 9,
   "metadata": {
    "ExecuteTime": {
     "end_time": "2020-02-24T23:33:31.183195Z",
     "start_time": "2020-02-24T23:33:31.130986Z"
    }
   },
   "outputs": [
    {
     "data": {
      "text/plain": [
       "101412127.78212237"
      ]
     },
     "execution_count": 9,
     "metadata": {},
     "output_type": "execute_result"
    }
   ],
   "source": [
    "pred = lml.predict(df_test[['salvage', 'fair', 'good', 'excellent', 'like new', 'new']])\n",
    "mse(pred, df_test['price'])"
   ]
  },
  {
   "cell_type": "markdown",
   "metadata": {},
   "source": [
    "### Ejercicio 1: (15 mts)\n",
    "Análisis exploratorio para encontrar otras variables correlacionadas con el precio. Utilizarlas para un segundo modelo"
   ]
  },
  {
   "cell_type": "markdown",
   "metadata": {},
   "source": [
    "**Respuesta.**"
   ]
  },
  {
   "cell_type": "code",
   "execution_count": 10,
   "metadata": {
    "ExecuteTime": {
     "end_time": "2020-02-24T23:34:41.592269Z",
     "start_time": "2020-02-24T23:34:40.077372Z"
    }
   },
   "outputs": [
    {
     "data": {
      "image/png": "[encoded data removed]",
      "text/plain": [
       "<Figure size 432x288 with 1 Axes>"
      ]
     },
     "metadata": {
      "needs_background": "light"
     },
     "output_type": "display_data"
    },
    {
     "data": {
      "image/png": "[encoded data removed]",
      "text/plain": [
       "<Figure size 432x288 with 1 Axes>"
      ]
     },
     "metadata": {
      "needs_background": "light"
     },
     "output_type": "display_data"
    },
    {
     "data": {
      "image/png": "[encoded data removed]",
      "text/plain": [
       "<Figure size 432x288 with 1 Axes>"
      ]
     },
     "metadata": {
      "needs_background": "light"
     },
     "output_type": "display_data"
    }
   ],
   "source": [
    "### Posible respuesta\n",
    "\n",
    "for col in ['title_status', 'transmission', 'drive']:\n",
    "    sns.boxplot(x=col, y='price', data=df)\n",
    "    plt.show()\n",
    "    df = pd.concat([df, pd.get_dummies(df[col])], axis=1)"
   ]
  },
  {
   "cell_type": "code",
   "execution_count": 12,
   "metadata": {
    "ExecuteTime": {
     "end_time": "2020-02-24T23:37:26.425835Z",
     "start_time": "2020-02-24T23:37:25.607414Z"
    }
   },
   "outputs": [],
   "source": [
    "for col in ['title_status', 'transmission', 'drive']:\n",
    "    df_train = pd.concat([df_train, pd.get_dummies(df_train[col])], axis=1)\n",
    "    df_test = pd.concat([df_test, pd.get_dummies(df_test[col])], axis=1)"
   ]
  },
  {
   "cell_type": "code",
   "execution_count": 13,
   "metadata": {
    "ExecuteTime": {
     "end_time": "2020-02-24T23:38:05.400200Z",
     "start_time": "2020-02-24T23:38:04.497389Z"
    }
   },
   "outputs": [
    {
     "name": "stdout",
     "output_type": "stream",
     "text": [
      "                            OLS Regression Results                            \n",
      "==============================================================================\n",
      "Dep. Variable:                  price   R-squared:                       0.007\n",
      "Model:                            OLS   Adj. R-squared:                  0.007\n",
      "Method:                 Least Squares   F-statistic:                     337.3\n",
      "Date:                Mon, 24 Feb 2020   Prob (F-statistic):               0.00\n",
      "Time:                        18:38:05   Log-Likelihood:            -3.5912e+06\n",
      "No. Observations:              336778   AIC:                         7.182e+06\n",
      "Df Residuals:                  336770   BIC:                         7.183e+06\n",
      "Df Model:                           7                                         \n",
      "Covariance Type:            nonrobust                                         \n",
      "======================================================================================\n",
      "                         coef    std err          t      P>|t|      [0.025      0.975]\n",
      "--------------------------------------------------------------------------------------\n",
      "Intercept           1.634e+04    211.981     77.077      0.000    1.59e+04    1.68e+04\n",
      "Q(\"parts only\")[0] -6196.7905    551.600    -11.234      0.000   -7277.911   -5115.670\n",
      "Q(\"parts only\")[1] -6196.7905    551.600    -11.234      0.000   -7277.911   -5115.670\n",
      "missing[0]         -4852.4826    254.527    -19.065      0.000   -5351.349   -4353.616\n",
      "missing[1]         -4852.4826    254.527    -19.065      0.000   -5351.349   -4353.616\n",
      "salvage[0]         -7658.6264    416.059    -18.408      0.000   -8474.090   -6843.163\n",
      "salvage[1]         -3673.3342    139.958    -26.246      0.000   -3947.649   -3399.020\n",
      "salvage[2]         -3673.3342    139.958    -26.246      0.000   -3947.649   -3399.020\n",
      "rebuilt[0]         -2849.0499    124.247    -22.931      0.000   -3092.570   -2605.530\n",
      "rebuilt[1]         -2849.0499    124.247    -22.931      0.000   -3092.570   -2605.530\n",
      "clean[0]           -2102.1342    106.383    -19.760      0.000   -2310.641   -1893.627\n",
      "clean[1]           -2102.1342    106.383    -19.760      0.000   -2310.641   -1893.627\n",
      "lien[0]              761.3929    145.707      5.226      0.000     475.812    1046.974\n",
      "lien[1]              761.3929    145.707      5.226      0.000     475.812    1046.974\n",
      "==============================================================================\n",
      "Omnibus:                    47788.715   Durbin-Watson:                   1.508\n",
      "Prob(Omnibus):                  0.000   Jarque-Bera (JB):            71114.242\n",
      "Skew:                           1.060   Prob(JB):                         0.00\n",
      "Kurtosis:                       3.758   Cond. No.                     1.11e+18\n",
      "==============================================================================\n",
      "\n",
      "Warnings:\n",
      "[1] Standard Errors assume that the covariance matrix of the errors is correctly specified.\n",
      "[2] The smallest eigenvalue is 7.82e-31. This might indicate that there are\n",
      "strong multicollinearity problems or that the design matrix is singular.\n"
     ]
    }
   ],
   "source": [
    "model2 = 'price~Q(\"parts only\") + missing + salvage + rebuilt + clean + lien'\n",
    "lml = sm.ols(formula=model2, data=df_train).fit()\n",
    "print(lml.summary())"
   ]
  },
  {
   "cell_type": "code",
   "execution_count": 14,
   "metadata": {
    "ExecuteTime": {
     "end_time": "2020-02-24T23:39:48.090252Z",
     "start_time": "2020-02-24T23:39:47.978094Z"
    }
   },
   "outputs": [
    {
     "data": {
      "text/plain": [
       "108044577.24286048"
      ]
     },
     "execution_count": 14,
     "metadata": {},
     "output_type": "execute_result"
    }
   ],
   "source": [
    "pred = lml.predict(df_test[['parts only', 'missing', 'salvage', 'rebuilt', 'clean', 'lien']])\n",
    "mse(pred, df_test['price'])"
   ]
  },
  {
   "cell_type": "markdown",
   "metadata": {},
   "source": [
    "El modelo es peor. Esto puede suceder por codificar erróneamente las variables o porque hay presencia de relaciones no lineales."
   ]
  },
  {
   "cell_type": "markdown",
   "metadata": {},
   "source": [
    "### Ejercicio 2: (5 mts)\n",
    "\n",
    "Crear variables dummy para cada variable categórica."
   ]
  },
  {
   "cell_type": "markdown",
   "metadata": {},
   "source": [
    "**Respuesta.**"
   ]
  },
  {
   "cell_type": "code",
   "execution_count": 15,
   "metadata": {
    "ExecuteTime": {
     "end_time": "2020-02-24T23:43:01.857582Z",
     "start_time": "2020-02-24T23:42:59.750880Z"
    }
   },
   "outputs": [
    {
     "data": {
      "text/html": [
       "<div>\n",
       "<style scoped>\n",
       "    .dataframe tbody tr th:only-of-type {\n",
       "        vertical-align: middle;\n",
       "    }\n",
       "\n",
       "    .dataframe tbody tr th {\n",
       "        vertical-align: top;\n",
       "    }\n",
       "\n",
       "    .dataframe thead th {\n",
       "        text-align: right;\n",
       "    }\n",
       "</style>\n",
       "<table border=\"1\" class=\"dataframe\">\n",
       "  <thead>\n",
       "    <tr style=\"text-align: right;\">\n",
       "      <th></th>\n",
       "      <th>city</th>\n",
       "      <th>year</th>\n",
       "      <th>manufacturer</th>\n",
       "      <th>condition</th>\n",
       "      <th>cylinders</th>\n",
       "      <th>fuel</th>\n",
       "      <th>odometer</th>\n",
       "      <th>title_status</th>\n",
       "      <th>transmission</th>\n",
       "      <th>drive</th>\n",
       "      <th>...</th>\n",
       "      <th>brown</th>\n",
       "      <th>custom</th>\n",
       "      <th>green</th>\n",
       "      <th>grey</th>\n",
       "      <th>orange</th>\n",
       "      <th>purple</th>\n",
       "      <th>red</th>\n",
       "      <th>silver</th>\n",
       "      <th>white</th>\n",
       "      <th>yellow</th>\n",
       "    </tr>\n",
       "  </thead>\n",
       "  <tbody>\n",
       "    <tr>\n",
       "      <th>0</th>\n",
       "      <td>abilene, TX</td>\n",
       "      <td>2009.0</td>\n",
       "      <td>chevrolet</td>\n",
       "      <td>good</td>\n",
       "      <td>8 cylinders</td>\n",
       "      <td>gas</td>\n",
       "      <td>217743.0</td>\n",
       "      <td>clean</td>\n",
       "      <td>automatic</td>\n",
       "      <td>rwd</td>\n",
       "      <td>...</td>\n",
       "      <td>0</td>\n",
       "      <td>0</td>\n",
       "      <td>0</td>\n",
       "      <td>0</td>\n",
       "      <td>0</td>\n",
       "      <td>0</td>\n",
       "      <td>0</td>\n",
       "      <td>0</td>\n",
       "      <td>1</td>\n",
       "      <td>0</td>\n",
       "    </tr>\n",
       "    <tr>\n",
       "      <th>1</th>\n",
       "      <td>abilene, TX</td>\n",
       "      <td>2002.0</td>\n",
       "      <td>gmc</td>\n",
       "      <td>good</td>\n",
       "      <td>8 cylinders</td>\n",
       "      <td>gas</td>\n",
       "      <td>195000.0</td>\n",
       "      <td>clean</td>\n",
       "      <td>automatic</td>\n",
       "      <td>4wd</td>\n",
       "      <td>...</td>\n",
       "      <td>0</td>\n",
       "      <td>0</td>\n",
       "      <td>0</td>\n",
       "      <td>0</td>\n",
       "      <td>0</td>\n",
       "      <td>0</td>\n",
       "      <td>0</td>\n",
       "      <td>0</td>\n",
       "      <td>1</td>\n",
       "      <td>0</td>\n",
       "    </tr>\n",
       "    <tr>\n",
       "      <th>2</th>\n",
       "      <td>abilene, TX</td>\n",
       "      <td>2007.0</td>\n",
       "      <td>pontiac</td>\n",
       "      <td>excellent</td>\n",
       "      <td>4 cylinders</td>\n",
       "      <td>gas</td>\n",
       "      <td>NaN</td>\n",
       "      <td>clean</td>\n",
       "      <td>automatic</td>\n",
       "      <td>fwd</td>\n",
       "      <td>...</td>\n",
       "      <td>0</td>\n",
       "      <td>0</td>\n",
       "      <td>0</td>\n",
       "      <td>0</td>\n",
       "      <td>0</td>\n",
       "      <td>0</td>\n",
       "      <td>1</td>\n",
       "      <td>0</td>\n",
       "      <td>0</td>\n",
       "      <td>0</td>\n",
       "    </tr>\n",
       "    <tr>\n",
       "      <th>3</th>\n",
       "      <td>abilene, TX</td>\n",
       "      <td>2012.0</td>\n",
       "      <td>chevrolet</td>\n",
       "      <td>excellent</td>\n",
       "      <td>8 cylinders</td>\n",
       "      <td>diesel</td>\n",
       "      <td>178000.0</td>\n",
       "      <td>clean</td>\n",
       "      <td>automatic</td>\n",
       "      <td>4wd</td>\n",
       "      <td>...</td>\n",
       "      <td>0</td>\n",
       "      <td>0</td>\n",
       "      <td>0</td>\n",
       "      <td>0</td>\n",
       "      <td>0</td>\n",
       "      <td>0</td>\n",
       "      <td>0</td>\n",
       "      <td>1</td>\n",
       "      <td>0</td>\n",
       "      <td>0</td>\n",
       "    </tr>\n",
       "    <tr>\n",
       "      <th>4</th>\n",
       "      <td>abilene, TX</td>\n",
       "      <td>2003.0</td>\n",
       "      <td>NaN</td>\n",
       "      <td>fair</td>\n",
       "      <td>8 cylinders</td>\n",
       "      <td>gas</td>\n",
       "      <td>269000.0</td>\n",
       "      <td>clean</td>\n",
       "      <td>automatic</td>\n",
       "      <td>4wd</td>\n",
       "      <td>...</td>\n",
       "      <td>0</td>\n",
       "      <td>0</td>\n",
       "      <td>0</td>\n",
       "      <td>0</td>\n",
       "      <td>0</td>\n",
       "      <td>0</td>\n",
       "      <td>0</td>\n",
       "      <td>1</td>\n",
       "      <td>0</td>\n",
       "      <td>0</td>\n",
       "    </tr>\n",
       "  </tbody>\n",
       "</table>\n",
       "<p>5 rows × 106 columns</p>\n",
       "</div>"
      ],
      "text/plain": [
       "          city    year manufacturer  condition    cylinders    fuel  odometer  \\\n",
       "0  abilene, TX  2009.0    chevrolet       good  8 cylinders     gas  217743.0   \n",
       "1  abilene, TX  2002.0          gmc       good  8 cylinders     gas  195000.0   \n",
       "2  abilene, TX  2007.0      pontiac  excellent  4 cylinders     gas       NaN   \n",
       "3  abilene, TX  2012.0    chevrolet  excellent  8 cylinders  diesel  178000.0   \n",
       "4  abilene, TX  2003.0          NaN       fair  8 cylinders     gas  269000.0   \n",
       "\n",
       "  title_status transmission drive  ... brown custom green grey  orange  \\\n",
       "0        clean    automatic   rwd  ...     0      0     0    0       0   \n",
       "1        clean    automatic   4wd  ...     0      0     0    0       0   \n",
       "2        clean    automatic   fwd  ...     0      0     0    0       0   \n",
       "3        clean    automatic   4wd  ...     0      0     0    0       0   \n",
       "4        clean    automatic   4wd  ...     0      0     0    0       0   \n",
       "\n",
       "   purple  red  silver  white  yellow  \n",
       "0       0    0       0      1       0  \n",
       "1       0    0       0      1       0  \n",
       "2       0    1       0      0       0  \n",
       "3       0    0       1      0       0  \n",
       "4       0    0       1      0       0  \n",
       "\n",
       "[5 rows x 106 columns]"
      ]
     },
     "execution_count": 15,
     "metadata": {},
     "output_type": "execute_result"
    }
   ],
   "source": [
    "cols = ['manufacturer', 'fuel', 'size', 'type','paint_color']\n",
    "for col in cols:\n",
    "    df = pd.concat([df, pd.get_dummies(df[col])], axis=1)\n",
    "\n",
    "df.drop('other', axis=1, inplace=True)\n",
    "\n",
    "df.head()"
   ]
  },
  {
   "cell_type": "markdown",
   "metadata": {},
   "source": [
    "Graficos para entender mejor"
   ]
  },
  {
   "cell_type": "code",
   "execution_count": 16,
   "metadata": {
    "ExecuteTime": {
     "end_time": "2020-02-24T23:43:30.905299Z",
     "start_time": "2020-02-24T23:43:25.811136Z"
    }
   },
   "outputs": [
    {
     "data": {
      "text/plain": [
       "<matplotlib.axes._subplots.AxesSubplot at 0x17f090f0b08>"
      ]
     },
     "execution_count": 16,
     "metadata": {},
     "output_type": "execute_result"
    },
    {
     "data": {
      "image/png": "[encoded data removed]",
      "text/plain": [
       "<Figure size 432x288 with 1 Axes>"
      ]
     },
     "metadata": {
      "needs_background": "light"
     },
     "output_type": "display_data"
    }
   ],
   "source": [
    "sns.lineplot(x='year', y='price', data=df)"
   ]
  },
  {
   "cell_type": "code",
   "execution_count": 17,
   "metadata": {
    "ExecuteTime": {
     "end_time": "2020-02-24T23:46:32.009636Z",
     "start_time": "2020-02-24T23:46:31.174275Z"
    }
   },
   "outputs": [
    {
     "data": {
      "text/plain": [
       "(array([ 0,  1,  2,  3,  4,  5,  6,  7,  8,  9, 10, 11, 12, 13, 14, 15, 16,\n",
       "        17, 18, 19, 20, 21, 22, 23, 24, 25, 26, 27, 28, 29, 30, 31, 32, 33,\n",
       "        34, 35, 36, 37, 38, 39, 40, 41]),\n",
       " <a list of 42 Text xticklabel objects>)"
      ]
     },
     "execution_count": 17,
     "metadata": {},
     "output_type": "execute_result"
    },
    {
     "data": {
      "image/png": "[encoded data removed]",
      "text/plain": [
       "<Figure size 432x288 with 1 Axes>"
      ]
     },
     "metadata": {
      "needs_background": "light"
     },
     "output_type": "display_data"
    }
   ],
   "source": [
    "sns.boxplot(x='manufacturer', y='price', data=df)\n",
    "plt.xticks(rotation=90)"
   ]
  },
  {
   "cell_type": "markdown",
   "metadata": {},
   "source": [
    "Sorprende que el precio no se incremente linealmente con la condición del auto, y el ruido de los precios antes de 1980"
   ]
  },
  {
   "cell_type": "markdown",
   "metadata": {},
   "source": [
    "## Red neuronal (50 mts)"
   ]
  },
  {
   "cell_type": "markdown",
   "metadata": {},
   "source": [
    "<img src=\"neural_net.png\" width=\"300\" height=\"300\" />\n",
    "\n",
    "El algoritmo toma entradas del lado izquierdo para generar salidas al lado derecho multiplicando cada capa por las aristas de las neuronas de la siguiente capa. Luego, el algoritmo utiliza cálculo multivariado en un proceso llamado descenso de gradiente.\n",
    "\n",
    "\n",
    "Se pueden agregar más capas intermedias:\n",
    "\n",
    "<img src='deep_net.png' width='300' height='300' />\n",
    "\n",
    "Esto es una red neuronal profunda.\n",
    "\n",
    "<img src=\"neural_net2.png\" width=\"300\" height=\"300\" />\n",
    "\n",
    "(*Fuente:* https://medium.com/wwblog/transformation-in-neural-networks-cdf74cbd8da8).\n",
    "\n",
    "Cada nodo es una combinación lineal de la capa anterior. Entre cada capa, hay una **función de activación** (usualmente la función sigmoide / regressión logística), lo que le permite a la red establecer relaciones no-lineales. Cuando hay múltiples capas, se pueden seguir agregando combinaciones lineales, que pueden llegar a modelos no-lineales más complejos. Esta es la mayor fortaleza de las redes neuronales sobre las regresiones. Otra función de activación no-lineal que se puede utilizar es la función *relu*, que luce de la siguiente manera:\n",
    "\n",
    "<img src=\"relu.png\" width=\"300\" height=\"300\" />"
   ]
  },
  {
   "cell_type": "code",
   "execution_count": 18,
   "metadata": {
    "ExecuteTime": {
     "end_time": "2020-02-24T23:56:09.852570Z",
     "start_time": "2020-02-24T23:56:09.492763Z"
    }
   },
   "outputs": [
    {
     "data": {
      "text/html": [
       "<div>\n",
       "<style scoped>\n",
       "    .dataframe tbody tr th:only-of-type {\n",
       "        vertical-align: middle;\n",
       "    }\n",
       "\n",
       "    .dataframe tbody tr th {\n",
       "        vertical-align: top;\n",
       "    }\n",
       "\n",
       "    .dataframe thead th {\n",
       "        text-align: right;\n",
       "    }\n",
       "</style>\n",
       "<table border=\"1\" class=\"dataframe\">\n",
       "  <thead>\n",
       "    <tr style=\"text-align: right;\">\n",
       "      <th></th>\n",
       "      <th>year</th>\n",
       "      <th>price</th>\n",
       "      <th>excellent</th>\n",
       "      <th>fair</th>\n",
       "      <th>good</th>\n",
       "      <th>like new</th>\n",
       "      <th>new</th>\n",
       "      <th>salvage</th>\n",
       "      <th>clean</th>\n",
       "      <th>lien</th>\n",
       "      <th>...</th>\n",
       "      <th>brown</th>\n",
       "      <th>custom</th>\n",
       "      <th>green</th>\n",
       "      <th>grey</th>\n",
       "      <th>orange</th>\n",
       "      <th>purple</th>\n",
       "      <th>red</th>\n",
       "      <th>silver</th>\n",
       "      <th>white</th>\n",
       "      <th>yellow</th>\n",
       "    </tr>\n",
       "  </thead>\n",
       "  <tbody>\n",
       "    <tr>\n",
       "      <th>0</th>\n",
       "      <td>2009.0</td>\n",
       "      <td>9000</td>\n",
       "      <td>0</td>\n",
       "      <td>0</td>\n",
       "      <td>1</td>\n",
       "      <td>0</td>\n",
       "      <td>0</td>\n",
       "      <td>0</td>\n",
       "      <td>1</td>\n",
       "      <td>0</td>\n",
       "      <td>...</td>\n",
       "      <td>0</td>\n",
       "      <td>0</td>\n",
       "      <td>0</td>\n",
       "      <td>0</td>\n",
       "      <td>0</td>\n",
       "      <td>0</td>\n",
       "      <td>0</td>\n",
       "      <td>0</td>\n",
       "      <td>1</td>\n",
       "      <td>0</td>\n",
       "    </tr>\n",
       "    <tr>\n",
       "      <th>1</th>\n",
       "      <td>2002.0</td>\n",
       "      <td>6000</td>\n",
       "      <td>0</td>\n",
       "      <td>0</td>\n",
       "      <td>1</td>\n",
       "      <td>0</td>\n",
       "      <td>0</td>\n",
       "      <td>0</td>\n",
       "      <td>1</td>\n",
       "      <td>0</td>\n",
       "      <td>...</td>\n",
       "      <td>0</td>\n",
       "      <td>0</td>\n",
       "      <td>0</td>\n",
       "      <td>0</td>\n",
       "      <td>0</td>\n",
       "      <td>0</td>\n",
       "      <td>0</td>\n",
       "      <td>0</td>\n",
       "      <td>1</td>\n",
       "      <td>0</td>\n",
       "    </tr>\n",
       "    <tr>\n",
       "      <th>2</th>\n",
       "      <td>2007.0</td>\n",
       "      <td>7000</td>\n",
       "      <td>1</td>\n",
       "      <td>0</td>\n",
       "      <td>0</td>\n",
       "      <td>0</td>\n",
       "      <td>0</td>\n",
       "      <td>0</td>\n",
       "      <td>1</td>\n",
       "      <td>0</td>\n",
       "      <td>...</td>\n",
       "      <td>0</td>\n",
       "      <td>0</td>\n",
       "      <td>0</td>\n",
       "      <td>0</td>\n",
       "      <td>0</td>\n",
       "      <td>0</td>\n",
       "      <td>1</td>\n",
       "      <td>0</td>\n",
       "      <td>0</td>\n",
       "      <td>0</td>\n",
       "    </tr>\n",
       "    <tr>\n",
       "      <th>3</th>\n",
       "      <td>2012.0</td>\n",
       "      <td>37000</td>\n",
       "      <td>1</td>\n",
       "      <td>0</td>\n",
       "      <td>0</td>\n",
       "      <td>0</td>\n",
       "      <td>0</td>\n",
       "      <td>0</td>\n",
       "      <td>1</td>\n",
       "      <td>0</td>\n",
       "      <td>...</td>\n",
       "      <td>0</td>\n",
       "      <td>0</td>\n",
       "      <td>0</td>\n",
       "      <td>0</td>\n",
       "      <td>0</td>\n",
       "      <td>0</td>\n",
       "      <td>0</td>\n",
       "      <td>1</td>\n",
       "      <td>0</td>\n",
       "      <td>0</td>\n",
       "    </tr>\n",
       "    <tr>\n",
       "      <th>4</th>\n",
       "      <td>2003.0</td>\n",
       "      <td>3700</td>\n",
       "      <td>0</td>\n",
       "      <td>1</td>\n",
       "      <td>0</td>\n",
       "      <td>0</td>\n",
       "      <td>0</td>\n",
       "      <td>0</td>\n",
       "      <td>1</td>\n",
       "      <td>0</td>\n",
       "      <td>...</td>\n",
       "      <td>0</td>\n",
       "      <td>0</td>\n",
       "      <td>0</td>\n",
       "      <td>0</td>\n",
       "      <td>0</td>\n",
       "      <td>0</td>\n",
       "      <td>0</td>\n",
       "      <td>1</td>\n",
       "      <td>0</td>\n",
       "      <td>0</td>\n",
       "    </tr>\n",
       "  </tbody>\n",
       "</table>\n",
       "<p>5 rows × 93 columns</p>\n",
       "</div>"
      ],
      "text/plain": [
       "     year  price  excellent  fair  good  like new  new  salvage  clean  lien  \\\n",
       "0  2009.0   9000          0     0     1         0    0        0      1     0   \n",
       "1  2002.0   6000          0     0     1         0    0        0      1     0   \n",
       "2  2007.0   7000          1     0     0         0    0        0      1     0   \n",
       "3  2012.0  37000          1     0     0         0    0        0      1     0   \n",
       "4  2003.0   3700          0     1     0         0    0        0      1     0   \n",
       "\n",
       "   ...  brown  custom  green  grey  orange  purple  red  silver  white  yellow  \n",
       "0  ...      0       0      0     0       0       0    0       0      1       0  \n",
       "1  ...      0       0      0     0       0       0    0       0      1       0  \n",
       "2  ...      0       0      0     0       0       0    1       0      0       0  \n",
       "3  ...      0       0      0     0       0       0    0       1      0       0  \n",
       "4  ...      0       0      0     0       0       0    0       1      0       0  \n",
       "\n",
       "[5 rows x 93 columns]"
      ]
     },
     "execution_count": 18,
     "metadata": {},
     "output_type": "execute_result"
    }
   ],
   "source": [
    "df_clean = pd.concat([df['year'], df.iloc[:,14:]], axis=1)#.dropna(inplace=True, axis=0)\n",
    "df_clean.dropna(inplace=True)\n",
    "df_clean.head()"
   ]
  },
  {
   "cell_type": "markdown",
   "metadata": {},
   "source": [
    "Particionemos entre entrenamiento y prueba:"
   ]
  },
  {
   "cell_type": "code",
   "execution_count": 19,
   "metadata": {
    "ExecuteTime": {
     "end_time": "2020-02-25T00:01:12.956435Z",
     "start_time": "2020-02-25T00:01:12.607292Z"
    }
   },
   "outputs": [
    {
     "name": "stdout",
     "output_type": "stream",
     "text": [
      "Training: 335934\n",
      "Testing: 98608\n",
      "Total: 435653\n"
     ]
    }
   ],
   "source": [
    "np.random.seed(0)\n",
    "mask = np.random.randn(len(df_clean)) < 0.75\n",
    "df_train = df_clean[mask]\n",
    "df_test = df_clean[~mask]\n",
    "\n",
    "print('Training:', len(df_train))\n",
    "print('Testing:', len(df_test))\n",
    "print('Total:', len(df))"
   ]
  },
  {
   "cell_type": "code",
   "execution_count": 20,
   "metadata": {
    "ExecuteTime": {
     "end_time": "2020-02-25T00:01:38.663558Z",
     "start_time": "2020-02-25T00:01:38.653662Z"
    }
   },
   "outputs": [],
   "source": [
    "# Re indexar\n",
    "df_train.index = np.arange(len(df_train))\n",
    "df_test.index = np.arange(len(df_test))"
   ]
  },
  {
   "cell_type": "markdown",
   "metadata": {},
   "source": [
    "### Ejercicio 4: (5 mts)\n",
    "\n",
    "¿Cuál de los siguientes es un caso de uso apropiado para una red neuronal?\n",
    "\n",
    "A. Clasificar imágenes de dígitos escritos a mano\n",
    "\n",
    "B. Analizar el Quijote\n",
    "\n",
    "C. Subtitular una fotografía\n",
    "\n",
    "D. Ordenar un arreglo de numpy"
   ]
  },
  {
   "cell_type": "markdown",
   "metadata": {},
   "source": [
    "**Respuesta.** \n",
    "B corresponde a un problema de procesamiento de lenguaje natural, C es una tarea que realiza mejor un humano y D es ineficiente hacer con una red, mejor utilizar un algoritmo de ordenamiento. La respuesta es la A, una tarea de clasificación con aprendizaje de por medio."
   ]
  },
  {
   "cell_type": "markdown",
   "metadata": {},
   "source": [
    "### Un primer modelo (5 mts)"
   ]
  },
  {
   "cell_type": "code",
   "execution_count": 21,
   "metadata": {
    "ExecuteTime": {
     "end_time": "2020-02-25T00:07:16.126997Z",
     "start_time": "2020-02-25T00:07:11.069358Z"
    }
   },
   "outputs": [],
   "source": [
    "from tensorflow import keras\n",
    "from tensorflow.keras import layers"
   ]
  },
  {
   "cell_type": "markdown",
   "metadata": {},
   "source": [
    "Consideremos el siguiente modelo de ejemplo:"
   ]
  },
  {
   "cell_type": "code",
   "execution_count": 22,
   "metadata": {
    "ExecuteTime": {
     "end_time": "2020-02-25T00:08:27.961633Z",
     "start_time": "2020-02-25T00:08:27.931431Z"
    }
   },
   "outputs": [
    {
     "data": {
      "text/html": [
       "<div>\n",
       "<style scoped>\n",
       "    .dataframe tbody tr th:only-of-type {\n",
       "        vertical-align: middle;\n",
       "    }\n",
       "\n",
       "    .dataframe tbody tr th {\n",
       "        vertical-align: top;\n",
       "    }\n",
       "\n",
       "    .dataframe thead th {\n",
       "        text-align: right;\n",
       "    }\n",
       "</style>\n",
       "<table border=\"1\" class=\"dataframe\">\n",
       "  <thead>\n",
       "    <tr style=\"text-align: right;\">\n",
       "      <th></th>\n",
       "      <th>year</th>\n",
       "      <th>price</th>\n",
       "      <th>toy</th>\n",
       "    </tr>\n",
       "  </thead>\n",
       "  <tbody>\n",
       "    <tr>\n",
       "      <th>0</th>\n",
       "      <td>-0.650935</td>\n",
       "      <td>-0.700488</td>\n",
       "      <td>0.766495</td>\n",
       "    </tr>\n",
       "    <tr>\n",
       "      <th>1</th>\n",
       "      <td>0.430189</td>\n",
       "      <td>0.599313</td>\n",
       "      <td>0.279564</td>\n",
       "    </tr>\n",
       "    <tr>\n",
       "      <th>2</th>\n",
       "      <td>0.921609</td>\n",
       "      <td>2.462827</td>\n",
       "      <td>5.282735</td>\n",
       "    </tr>\n",
       "    <tr>\n",
       "      <th>3</th>\n",
       "      <td>0.626757</td>\n",
       "      <td>1.903773</td>\n",
       "      <td>3.378144</td>\n",
       "    </tr>\n",
       "    <tr>\n",
       "      <th>4</th>\n",
       "      <td>-0.454367</td>\n",
       "      <td>-0.905940</td>\n",
       "      <td>0.914532</td>\n",
       "    </tr>\n",
       "  </tbody>\n",
       "</table>\n",
       "</div>"
      ],
      "text/plain": [
       "       year     price       toy\n",
       "0 -0.650935 -0.700488  0.766495\n",
       "1  0.430189  0.599313  0.279564\n",
       "2  0.921609  2.462827  5.282735\n",
       "3  0.626757  1.903773  3.378144\n",
       "4 -0.454367 -0.905940  0.914532"
      ]
     },
     "execution_count": 22,
     "metadata": {},
     "output_type": "execute_result"
    }
   ],
   "source": [
    "toy = df_train.iloc[:1000].loc[:,['year', 'price']]\n",
    "toy['price'] = (toy['price'] - toy['price'].mean()) / toy['price'].std() # Normalizar\n",
    "toy['year'] = (toy['year'] - toy['year'].mean()) / toy['year'].std()\n",
    "\n",
    "toy['toy'] = (toy['price'] ** 2 - toy['year'] ** 3)\n",
    "toy.head()"
   ]
  },
  {
   "cell_type": "markdown",
   "metadata": {},
   "source": [
    "Ajustemos una regresión y una red neuronal:"
   ]
  },
  {
   "cell_type": "code",
   "execution_count": 23,
   "metadata": {
    "ExecuteTime": {
     "end_time": "2020-02-25T00:08:53.123970Z",
     "start_time": "2020-02-25T00:08:52.801346Z"
    }
   },
   "outputs": [
    {
     "name": "stdout",
     "output_type": "stream",
     "text": [
      "                            OLS Regression Results                            \n",
      "==============================================================================\n",
      "Dep. Variable:                    toy   R-squared:                       0.646\n",
      "Model:                            OLS   Adj. R-squared:                  0.646\n",
      "Method:                 Least Squares   F-statistic:                     911.4\n",
      "Date:                Mon, 24 Feb 2020   Prob (F-statistic):          8.34e-226\n",
      "Time:                        19:08:53   Log-Likelihood:                -4190.0\n",
      "No. Observations:                1000   AIC:                             8386.\n",
      "Df Residuals:                     997   BIC:                             8401.\n",
      "Df Model:                           2                                         \n",
      "Covariance Type:            nonrobust                                         \n",
      "==============================================================================\n",
      "                 coef    std err          t      P>|t|      [0.025      0.975]\n",
      "------------------------------------------------------------------------------\n",
      "Intercept      4.4639      0.506      8.823      0.000       3.471       5.457\n",
      "year         -23.1585      0.543    -42.623      0.000     -24.225     -22.092\n",
      "price          9.6612      0.543     17.781      0.000       8.595      10.727\n",
      "==============================================================================\n",
      "Omnibus:                     1268.126   Durbin-Watson:                   2.067\n",
      "Prob(Omnibus):                  0.000   Jarque-Bera (JB):           319509.412\n",
      "Skew:                           6.323   Prob(JB):                         0.00\n",
      "Kurtosis:                      89.650   Cond. No.                         1.46\n",
      "==============================================================================\n",
      "\n",
      "Warnings:\n",
      "[1] Standard Errors assume that the covariance matrix of the errors is correctly specified.\n"
     ]
    }
   ],
   "source": [
    "failure_model = 'toy~year + price'\n",
    "lml = sm.ols(formula=failure_model, data=toy).fit()\n",
    "print(lml.summary())"
   ]
  },
  {
   "cell_type": "code",
   "execution_count": 25,
   "metadata": {
    "ExecuteTime": {
     "end_time": "2020-02-25T00:10:47.778660Z",
     "start_time": "2020-02-25T00:10:47.753419Z"
    }
   },
   "outputs": [
    {
     "data": {
      "text/plain": [
       "255.19427167174106"
      ]
     },
     "execution_count": 25,
     "metadata": {},
     "output_type": "execute_result"
    }
   ],
   "source": [
    "pred = lml.predict(toy[['year', 'price']])\n",
    "mse(pred, toy['toy'])"
   ]
  },
  {
   "cell_type": "code",
   "execution_count": 26,
   "metadata": {
    "ExecuteTime": {
     "end_time": "2020-02-25T00:13:59.123053Z",
     "start_time": "2020-02-25T00:13:14.357241Z"
    },
    "scrolled": false
   },
   "outputs": [
    {
     "name": "stdout",
     "output_type": "stream",
     "text": [
      "Train on 800 samples, validate on 200 samples\n",
      "Epoch 1/200\n",
      "800/800 [==============================] - 1s 1ms/sample - loss: 729.9936 - mse: 729.9935 - val_loss: 139.5562 - val_mse: 139.5562\n",
      "Epoch 2/200\n",
      "800/800 [==============================] - 0s 327us/sample - loss: 473.9273 - mse: 473.9273 - val_loss: 55.6002 - val_mse: 55.6002\n",
      "Epoch 3/200\n",
      "800/800 [==============================] - 0s 279us/sample - loss: 220.7224 - mse: 220.7224 - val_loss: 49.6338 - val_mse: 49.6338\n",
      "Epoch 4/200\n",
      "800/800 [==============================] - 0s 276us/sample - loss: 159.8295 - mse: 159.8295 - val_loss: 38.3867 - val_mse: 38.3867\n",
      "Epoch 5/200\n",
      "800/800 [==============================] - 0s 231us/sample - loss: 149.9505 - mse: 149.9505 - val_loss: 39.2079 - val_mse: 39.2079\n",
      "Epoch 6/200\n",
      "800/800 [==============================] - 0s 302us/sample - loss: 117.3918 - mse: 117.3919 - val_loss: 33.8730 - val_mse: 33.8730\n",
      "Epoch 7/200\n",
      "800/800 [==============================] - 0s 299us/sample - loss: 89.1379 - mse: 89.1379 - val_loss: 46.3892 - val_mse: 46.3892\n",
      "Epoch 8/200\n",
      "800/800 [==============================] - 0s 276us/sample - loss: 106.4912 - mse: 106.4912 - val_loss: 54.5999 - val_mse: 54.5999\n",
      "Epoch 9/200\n",
      "800/800 [==============================] - 0s 271us/sample - loss: 77.7742 - mse: 77.7742 - val_loss: 28.2815 - val_mse: 28.2815\n",
      "Epoch 10/200\n",
      "800/800 [==============================] - 0s 305us/sample - loss: 82.7581 - mse: 82.7581 - val_loss: 22.4194 - val_mse: 22.4194\n",
      "Epoch 11/200\n",
      "800/800 [==============================] - 0s 257us/sample - loss: 64.5097 - mse: 64.5097 - val_loss: 57.0066 - val_mse: 57.0066\n",
      "Epoch 12/200\n",
      "800/800 [==============================] - 0s 234us/sample - loss: 60.8195 - mse: 60.8195 - val_loss: 31.4413 - val_mse: 31.4413\n",
      "Epoch 13/200\n",
      "800/800 [==============================] - 0s 282us/sample - loss: 46.7354 - mse: 46.7354 - val_loss: 25.4189 - val_mse: 25.4189\n",
      "Epoch 14/200\n",
      "800/800 [==============================] - 0s 244us/sample - loss: 39.3182 - mse: 39.3182 - val_loss: 29.0541 - val_mse: 29.0541\n",
      "Epoch 15/200\n",
      "800/800 [==============================] - 0s 217us/sample - loss: 36.1305 - mse: 36.1305 - val_loss: 22.6441 - val_mse: 22.6441\n",
      "Epoch 16/200\n",
      "800/800 [==============================] - 0s 252us/sample - loss: 33.0117 - mse: 33.0117 - val_loss: 16.0640 - val_mse: 16.0640\n",
      "Epoch 17/200\n",
      "800/800 [==============================] - 0s 281us/sample - loss: 40.9578 - mse: 40.9578 - val_loss: 40.6612 - val_mse: 40.6612\n",
      "Epoch 18/200\n",
      "800/800 [==============================] - 0s 299us/sample - loss: 29.2763 - mse: 29.2763 - val_loss: 16.2118 - val_mse: 16.2118\n",
      "Epoch 19/200\n",
      "800/800 [==============================] - 0s 269us/sample - loss: 39.2078 - mse: 39.2078 - val_loss: 14.0892 - val_mse: 14.0892\n",
      "Epoch 20/200\n",
      "800/800 [==============================] - 0s 341us/sample - loss: 30.6347 - mse: 30.6347 - val_loss: 9.6495 - val_mse: 9.6495\n",
      "Epoch 21/200\n",
      "800/800 [==============================] - 0s 319us/sample - loss: 20.9624 - mse: 20.9624 - val_loss: 9.1418 - val_mse: 9.1418\n",
      "Epoch 22/200\n",
      "800/800 [==============================] - 0s 289us/sample - loss: 19.3152 - mse: 19.3152 - val_loss: 14.3407 - val_mse: 14.3407\n",
      "Epoch 23/200\n",
      "800/800 [==============================] - 0s 290us/sample - loss: 46.2685 - mse: 46.2685 - val_loss: 12.5503 - val_mse: 12.5503\n",
      "Epoch 24/200\n",
      "800/800 [==============================] - 0s 251us/sample - loss: 33.1128 - mse: 33.1128 - val_loss: 7.2196 - val_mse: 7.2196\n",
      "Epoch 25/200\n",
      "800/800 [==============================] - 0s 292us/sample - loss: 13.5901 - mse: 13.5901 - val_loss: 32.6565 - val_mse: 32.6565\n",
      "Epoch 26/200\n",
      "800/800 [==============================] - 0s 292us/sample - loss: 14.4923 - mse: 14.4923 - val_loss: 7.0556 - val_mse: 7.0556\n",
      "Epoch 27/200\n",
      "800/800 [==============================] - 0s 291us/sample - loss: 9.8950 - mse: 9.8950 - val_loss: 5.7700 - val_mse: 5.7700\n",
      "Epoch 28/200\n",
      "800/800 [==============================] - 0s 276us/sample - loss: 8.4835 - mse: 8.4835 - val_loss: 19.1065 - val_mse: 19.1065\n",
      "Epoch 29/200\n",
      "800/800 [==============================] - 0s 272us/sample - loss: 11.5629 - mse: 11.5629 - val_loss: 7.8561 - val_mse: 7.8561\n",
      "Epoch 30/200\n",
      "800/800 [==============================] - 0s 291us/sample - loss: 10.3584 - mse: 10.3584 - val_loss: 11.3312 - val_mse: 11.3312\n",
      "Epoch 31/200\n",
      "800/800 [==============================] - 0s 287us/sample - loss: 7.5617 - mse: 7.5617 - val_loss: 4.1810 - val_mse: 4.1810\n",
      "Epoch 32/200\n",
      "800/800 [==============================] - 0s 290us/sample - loss: 7.2765 - mse: 7.2765 - val_loss: 5.0073 - val_mse: 5.0073\n",
      "Epoch 33/200\n",
      "800/800 [==============================] - 0s 273us/sample - loss: 7.3391 - mse: 7.3391 - val_loss: 4.8460 - val_mse: 4.8460\n",
      "Epoch 34/200\n",
      "800/800 [==============================] - 0s 271us/sample - loss: 6.4293 - mse: 6.4293 - val_loss: 10.7829 - val_mse: 10.7829\n",
      "Epoch 35/200\n",
      "800/800 [==============================] - 0s 310us/sample - loss: 5.7878 - mse: 5.7878 - val_loss: 2.1147 - val_mse: 2.1147\n",
      "Epoch 36/200\n",
      "800/800 [==============================] - 0s 312us/sample - loss: 5.1915 - mse: 5.1915 - val_loss: 1.5044 - val_mse: 1.5044\n",
      "Epoch 37/200\n",
      "800/800 [==============================] - 0s 299us/sample - loss: 3.8528 - mse: 3.8528 - val_loss: 6.5668 - val_mse: 6.5668\n",
      "Epoch 38/200\n",
      "800/800 [==============================] - 0s 305us/sample - loss: 9.2651 - mse: 9.2651 - val_loss: 1.9992 - val_mse: 1.9992\n",
      "Epoch 39/200\n",
      "800/800 [==============================] - 0s 275us/sample - loss: 6.3513 - mse: 6.3513 - val_loss: 6.4412 - val_mse: 6.4412\n",
      "Epoch 40/200\n",
      "800/800 [==============================] - 0s 249us/sample - loss: 4.8965 - mse: 4.8965 - val_loss: 7.7977 - val_mse: 7.7977\n",
      "Epoch 41/200\n",
      "800/800 [==============================] - 0s 216us/sample - loss: 8.2705 - mse: 8.2705 - val_loss: 3.5438 - val_mse: 3.5438\n",
      "Epoch 42/200\n",
      "800/800 [==============================] - 0s 247us/sample - loss: 4.1222 - mse: 4.1222 - val_loss: 2.1267 - val_mse: 2.1267\n",
      "Epoch 43/200\n",
      "800/800 [==============================] - 0s 288us/sample - loss: 3.9595 - mse: 3.9595 - val_loss: 0.5391 - val_mse: 0.5391\n",
      "Epoch 44/200\n",
      "800/800 [==============================] - 0s 292us/sample - loss: 6.2442 - mse: 6.2442 - val_loss: 2.5744 - val_mse: 2.5744\n",
      "Epoch 45/200\n",
      "800/800 [==============================] - 0s 264us/sample - loss: 5.8827 - mse: 5.8827 - val_loss: 1.4755 - val_mse: 1.4755\n",
      "Epoch 46/200\n",
      "800/800 [==============================] - 0s 277us/sample - loss: 3.4565 - mse: 3.4565 - val_loss: 2.9276 - val_mse: 2.9276\n",
      "Epoch 47/200\n",
      "800/800 [==============================] - 0s 292us/sample - loss: 2.8078 - mse: 2.8078 - val_loss: 0.3778 - val_mse: 0.3778\n",
      "Epoch 48/200\n",
      "800/800 [==============================] - 0s 292us/sample - loss: 4.4815 - mse: 4.4815 - val_loss: 0.4614 - val_mse: 0.4614\n",
      "Epoch 49/200\n",
      "800/800 [==============================] - 0s 289us/sample - loss: 3.9067 - mse: 3.9067 - val_loss: 1.0025 - val_mse: 1.0025\n",
      "Epoch 50/200\n",
      "800/800 [==============================] - 0s 229us/sample - loss: 4.0041 - mse: 4.0041 - val_loss: 2.3112 - val_mse: 2.3112\n",
      "Epoch 51/200\n",
      "800/800 [==============================] - 0s 277us/sample - loss: 4.1926 - mse: 4.1926 - val_loss: 0.3304 - val_mse: 0.3304\n",
      "Epoch 52/200\n",
      "800/800 [==============================] - 0s 291us/sample - loss: 3.6367 - mse: 3.6367 - val_loss: 1.9548 - val_mse: 1.9548\n",
      "Epoch 53/200\n",
      "800/800 [==============================] - 0s 314us/sample - loss: 7.7009 - mse: 7.7009 - val_loss: 0.4650 - val_mse: 0.4650\n",
      "Epoch 54/200\n",
      "800/800 [==============================] - 0s 312us/sample - loss: 6.5210 - mse: 6.5210 - val_loss: 1.3734 - val_mse: 1.3734\n",
      "Epoch 55/200\n",
      "800/800 [==============================] - 0s 291us/sample - loss: 2.3962 - mse: 2.3962 - val_loss: 0.1969 - val_mse: 0.1969\n",
      "Epoch 56/200\n",
      "800/800 [==============================] - 0s 334us/sample - loss: 2.3926 - mse: 2.3926 - val_loss: 0.1409 - val_mse: 0.1409\n",
      "Epoch 57/200\n",
      "800/800 [==============================] - 0s 353us/sample - loss: 1.7229 - mse: 1.7229 - val_loss: 0.2291 - val_mse: 0.2291\n",
      "Epoch 58/200\n",
      "800/800 [==============================] - 0s 333us/sample - loss: 2.0337 - mse: 2.0337 - val_loss: 0.3599 - val_mse: 0.3599\n",
      "Epoch 59/200\n"
     ]
    },
    {
     "name": "stdout",
     "output_type": "stream",
     "text": [
      "800/800 [==============================] - 0s 315us/sample - loss: 1.4889 - mse: 1.4889 - val_loss: 0.1129 - val_mse: 0.1129\n",
      "Epoch 60/200\n",
      "800/800 [==============================] - 0s 326us/sample - loss: 5.5096 - mse: 5.5096 - val_loss: 0.6572 - val_mse: 0.6572\n",
      "Epoch 61/200\n",
      "800/800 [==============================] - 0s 380us/sample - loss: 5.9782 - mse: 5.9782 - val_loss: 0.5481 - val_mse: 0.5481\n",
      "Epoch 62/200\n",
      "800/800 [==============================] - 0s 335us/sample - loss: 3.6204 - mse: 3.6204 - val_loss: 8.1469 - val_mse: 8.1469\n",
      "Epoch 63/200\n",
      "800/800 [==============================] - 0s 305us/sample - loss: 12.7249 - mse: 12.7249 - val_loss: 0.3477 - val_mse: 0.3477\n",
      "Epoch 64/200\n",
      "800/800 [==============================] - 0s 303us/sample - loss: 10.1828 - mse: 10.1828 - val_loss: 1.8261 - val_mse: 1.8261\n",
      "Epoch 65/200\n",
      "800/800 [==============================] - 0s 314us/sample - loss: 5.4635 - mse: 5.4635 - val_loss: 3.5098 - val_mse: 3.5098\n",
      "Epoch 66/200\n",
      "800/800 [==============================] - 0s 312us/sample - loss: 6.9407 - mse: 6.9407 - val_loss: 0.2712 - val_mse: 0.2712\n",
      "Epoch 67/200\n",
      "800/800 [==============================] - 0s 304us/sample - loss: 13.0134 - mse: 13.0134 - val_loss: 3.9949 - val_mse: 3.9949\n",
      "Epoch 68/200\n",
      "800/800 [==============================] - 0s 311us/sample - loss: 14.3095 - mse: 14.3095 - val_loss: 1.3114 - val_mse: 1.3114\n",
      "Epoch 69/200\n",
      "800/800 [==============================] - 0s 311us/sample - loss: 9.2895 - mse: 9.2895 - val_loss: 17.8843 - val_mse: 17.8843\n",
      "Epoch 70/200\n",
      "800/800 [==============================] - 0s 291us/sample - loss: 7.7135 - mse: 7.7135 - val_loss: 4.1390 - val_mse: 4.1390\n",
      "Epoch 71/200\n",
      "800/800 [==============================] - 0s 314us/sample - loss: 2.2705 - mse: 2.2705 - val_loss: 0.2846 - val_mse: 0.2846\n",
      "Epoch 72/200\n",
      "800/800 [==============================] - 0s 309us/sample - loss: 2.4561 - mse: 2.4561 - val_loss: 0.2534 - val_mse: 0.2534\n",
      "Epoch 73/200\n",
      "800/800 [==============================] - 0s 287us/sample - loss: 1.0026 - mse: 1.0026 - val_loss: 0.1000 - val_mse: 0.1000\n",
      "Epoch 74/200\n",
      "800/800 [==============================] - 0s 244us/sample - loss: 1.2228 - mse: 1.2228 - val_loss: 0.0663 - val_mse: 0.0663\n",
      "Epoch 75/200\n",
      "800/800 [==============================] - 0s 261us/sample - loss: 1.3695 - mse: 1.3695 - val_loss: 2.1669 - val_mse: 2.1669\n",
      "Epoch 76/200\n",
      "800/800 [==============================] - 0s 291us/sample - loss: 3.9645 - mse: 3.9645 - val_loss: 0.1369 - val_mse: 0.1369\n",
      "Epoch 77/200\n",
      "800/800 [==============================] - 0s 288us/sample - loss: 4.7931 - mse: 4.7931 - val_loss: 2.1444 - val_mse: 2.1444\n",
      "Epoch 78/200\n",
      "800/800 [==============================] - 0s 295us/sample - loss: 2.3916 - mse: 2.3916 - val_loss: 0.3244 - val_mse: 0.3244\n",
      "Epoch 79/200\n",
      "800/800 [==============================] - 0s 302us/sample - loss: 2.7572 - mse: 2.7572 - val_loss: 0.3691 - val_mse: 0.3691\n",
      "Epoch 80/200\n",
      "800/800 [==============================] - 0s 288us/sample - loss: 1.8095 - mse: 1.8095 - val_loss: 1.8444 - val_mse: 1.8444\n",
      "Epoch 81/200\n",
      "800/800 [==============================] - 0s 293us/sample - loss: 4.8604 - mse: 4.8604 - val_loss: 0.3685 - val_mse: 0.3685\n",
      "Epoch 82/200\n",
      "800/800 [==============================] - 0s 254us/sample - loss: 2.3021 - mse: 2.3021 - val_loss: 1.2482 - val_mse: 1.2482\n",
      "Epoch 83/200\n",
      "800/800 [==============================] - 0s 203us/sample - loss: 5.5650 - mse: 5.5650 - val_loss: 0.8912 - val_mse: 0.8912\n",
      "Epoch 84/200\n",
      "800/800 [==============================] - 0s 244us/sample - loss: 20.2604 - mse: 20.2604 - val_loss: 5.3740 - val_mse: 5.3740\n",
      "Epoch 85/200\n",
      "800/800 [==============================] - 0s 273us/sample - loss: 8.8896 - mse: 8.8896 - val_loss: 0.5865 - val_mse: 0.5865\n",
      "Epoch 86/200\n",
      "800/800 [==============================] - 0s 272us/sample - loss: 0.9976 - mse: 0.9976 - val_loss: 0.4871 - val_mse: 0.4871\n",
      "Epoch 87/200\n",
      "800/800 [==============================] - 0s 281us/sample - loss: 4.1233 - mse: 4.1233 - val_loss: 0.4984 - val_mse: 0.4984\n",
      "Epoch 88/200\n",
      "800/800 [==============================] - 0s 278us/sample - loss: 2.2495 - mse: 2.2495 - val_loss: 0.1933 - val_mse: 0.1933\n",
      "Epoch 89/200\n",
      "800/800 [==============================] - 0s 264us/sample - loss: 1.2838 - mse: 1.2838 - val_loss: 0.4722 - val_mse: 0.4722\n",
      "Epoch 90/200\n",
      "800/800 [==============================] - 0s 253us/sample - loss: 1.2849 - mse: 1.2849 - val_loss: 0.4291 - val_mse: 0.4291\n",
      "Epoch 91/200\n",
      "800/800 [==============================] - 0s 249us/sample - loss: 0.8932 - mse: 0.8932 - val_loss: 0.0963 - val_mse: 0.0963\n",
      "Epoch 92/200\n",
      "800/800 [==============================] - 0s 215us/sample - loss: 3.6951 - mse: 3.6951 - val_loss: 0.6496 - val_mse: 0.6496\n",
      "Epoch 93/200\n",
      "800/800 [==============================] - 0s 237us/sample - loss: 4.7547 - mse: 4.7547 - val_loss: 0.6076 - val_mse: 0.6076\n",
      "Epoch 94/200\n",
      "800/800 [==============================] - 0s 254us/sample - loss: 3.5463 - mse: 3.5463 - val_loss: 1.0314 - val_mse: 1.0314\n",
      "Epoch 95/200\n",
      "800/800 [==============================] - 0s 270us/sample - loss: 2.5767 - mse: 2.5767 - val_loss: 0.7433 - val_mse: 0.7433\n",
      "Epoch 96/200\n",
      "800/800 [==============================] - 0s 248us/sample - loss: 4.1226 - mse: 4.1226 - val_loss: 0.3304 - val_mse: 0.3304\n",
      "Epoch 97/200\n",
      "800/800 [==============================] - 0s 249us/sample - loss: 1.7948 - mse: 1.7948 - val_loss: 1.8252 - val_mse: 1.8252\n",
      "Epoch 98/200\n",
      "800/800 [==============================] - 0s 252us/sample - loss: 7.6749 - mse: 7.6749 - val_loss: 6.4883 - val_mse: 6.4883\n",
      "Epoch 99/200\n",
      "800/800 [==============================] - 0s 263us/sample - loss: 5.6579 - mse: 5.6579 - val_loss: 0.1273 - val_mse: 0.1273\n",
      "Epoch 100/200\n",
      "800/800 [==============================] - 0s 236us/sample - loss: 1.3583 - mse: 1.3583 - val_loss: 0.2802 - val_mse: 0.2802\n",
      "Epoch 101/200\n",
      "800/800 [==============================] - 0s 272us/sample - loss: 0.9134 - mse: 0.9134 - val_loss: 3.6936 - val_mse: 3.6936\n",
      "Epoch 102/200\n",
      "800/800 [==============================] - 0s 215us/sample - loss: 1.8279 - mse: 1.8279 - val_loss: 0.4485 - val_mse: 0.4485\n",
      "Epoch 103/200\n",
      "800/800 [==============================] - 0s 218us/sample - loss: 3.9223 - mse: 3.9223 - val_loss: 0.3005 - val_mse: 0.3005\n",
      "Epoch 104/200\n",
      "800/800 [==============================] - 0s 253us/sample - loss: 1.5376 - mse: 1.5376 - val_loss: 2.9897 - val_mse: 2.9897\n",
      "Epoch 105/200\n",
      "800/800 [==============================] - 0s 252us/sample - loss: 3.6190 - mse: 3.6190 - val_loss: 1.7138 - val_mse: 1.7138\n",
      "Epoch 106/200\n",
      "800/800 [==============================] - 0s 338us/sample - loss: 2.3269 - mse: 2.3269 - val_loss: 1.5219 - val_mse: 1.5219\n",
      "Epoch 107/200\n",
      "800/800 [==============================] - 0s 311us/sample - loss: 1.0063 - mse: 1.0063 - val_loss: 1.8940 - val_mse: 1.8940\n",
      "Epoch 108/200\n",
      "800/800 [==============================] - 0s 248us/sample - loss: 1.7582 - mse: 1.7582 - val_loss: 6.7482 - val_mse: 6.7482\n",
      "Epoch 109/200\n",
      "800/800 [==============================] - 0s 250us/sample - loss: 5.7793 - mse: 5.7793 - val_loss: 1.4046 - val_mse: 1.4046\n",
      "Epoch 110/200\n",
      "800/800 [==============================] - 0s 254us/sample - loss: 1.6187 - mse: 1.6187 - val_loss: 9.9902 - val_mse: 9.9902\n",
      "Epoch 111/200\n",
      "800/800 [==============================] - 0s 241us/sample - loss: 4.6537 - mse: 4.6537 - val_loss: 1.3128 - val_mse: 1.3128\n",
      "Epoch 112/200\n",
      "800/800 [==============================] - 0s 211us/sample - loss: 2.6648 - mse: 2.6648 - val_loss: 0.0506 - val_mse: 0.0506\n",
      "Epoch 113/200\n",
      "800/800 [==============================] - 0s 257us/sample - loss: 0.8975 - mse: 0.8975 - val_loss: 0.1593 - val_mse: 0.1593\n",
      "Epoch 114/200\n",
      "800/800 [==============================] - 0s 293us/sample - loss: 0.9839 - mse: 0.9839 - val_loss: 0.0511 - val_mse: 0.0511\n",
      "Epoch 115/200\n",
      "800/800 [==============================] - 0s 271us/sample - loss: 0.8942 - mse: 0.8942 - val_loss: 0.1295 - val_mse: 0.1295\n",
      "Epoch 116/200\n",
      "800/800 [==============================] - 0s 259us/sample - loss: 2.0363 - mse: 2.0363 - val_loss: 0.1771 - val_mse: 0.1771\n",
      "Epoch 117/200\n",
      "800/800 [==============================] - 0s 269us/sample - loss: 0.7564 - mse: 0.7564 - val_loss: 0.0648 - val_mse: 0.0648\n",
      "Epoch 118/200\n"
     ]
    },
    {
     "name": "stdout",
     "output_type": "stream",
     "text": [
      "800/800 [==============================] - 0s 285us/sample - loss: 1.0183 - mse: 1.0183 - val_loss: 0.0585 - val_mse: 0.0585\n",
      "Epoch 119/200\n",
      "800/800 [==============================] - 0s 248us/sample - loss: 4.2063 - mse: 4.2063 - val_loss: 4.6617 - val_mse: 4.6617\n",
      "Epoch 120/200\n",
      "800/800 [==============================] - 0s 241us/sample - loss: 7.7581 - mse: 7.7581 - val_loss: 1.5196 - val_mse: 1.5196\n",
      "Epoch 121/200\n",
      "800/800 [==============================] - 0s 176us/sample - loss: 2.4401 - mse: 2.4401 - val_loss: 1.0345 - val_mse: 1.0345\n",
      "Epoch 122/200\n",
      "800/800 [==============================] - 0s 178us/sample - loss: 0.5900 - mse: 0.5900 - val_loss: 0.1452 - val_mse: 0.1452\n",
      "Epoch 123/200\n",
      "800/800 [==============================] - 0s 215us/sample - loss: 3.8108 - mse: 3.8108 - val_loss: 0.2579 - val_mse: 0.2579\n",
      "Epoch 124/200\n",
      "800/800 [==============================] - 0s 265us/sample - loss: 3.8264 - mse: 3.8264 - val_loss: 1.9918 - val_mse: 1.9918\n",
      "Epoch 125/200\n",
      "800/800 [==============================] - 0s 217us/sample - loss: 9.1874 - mse: 9.1874 - val_loss: 11.7792 - val_mse: 11.7792\n",
      "Epoch 126/200\n",
      "800/800 [==============================] - 0s 246us/sample - loss: 23.2506 - mse: 23.2506 - val_loss: 2.8715 - val_mse: 2.8715\n",
      "Epoch 127/200\n",
      "800/800 [==============================] - 0s 251us/sample - loss: 3.0395 - mse: 3.0395 - val_loss: 0.7144 - val_mse: 0.7144\n",
      "Epoch 128/200\n",
      "800/800 [==============================] - 0s 268us/sample - loss: 2.2361 - mse: 2.2361 - val_loss: 0.0961 - val_mse: 0.0961\n",
      "Epoch 129/200\n",
      "800/800 [==============================] - 0s 220us/sample - loss: 1.2447 - mse: 1.2447 - val_loss: 0.4787 - val_mse: 0.4787\n",
      "Epoch 130/200\n",
      "800/800 [==============================] - 0s 243us/sample - loss: 2.3269 - mse: 2.3269 - val_loss: 0.2147 - val_mse: 0.2147\n",
      "Epoch 131/200\n",
      "800/800 [==============================] - 0s 231us/sample - loss: 2.0098 - mse: 2.0098 - val_loss: 0.2227 - val_mse: 0.2227\n",
      "Epoch 132/200\n",
      "800/800 [==============================] - 0s 195us/sample - loss: 2.1492 - mse: 2.1492 - val_loss: 5.7097 - val_mse: 5.7097\n",
      "Epoch 133/200\n",
      "800/800 [==============================] - 0s 194us/sample - loss: 8.8326 - mse: 8.8326 - val_loss: 0.6432 - val_mse: 0.6432\n",
      "Epoch 134/200\n",
      "800/800 [==============================] - 0s 255us/sample - loss: 2.1405 - mse: 2.1405 - val_loss: 0.1107 - val_mse: 0.1107\n",
      "Epoch 135/200\n",
      "800/800 [==============================] - 0s 238us/sample - loss: 1.2324 - mse: 1.2324 - val_loss: 0.0399 - val_mse: 0.0399\n",
      "Epoch 136/200\n",
      "800/800 [==============================] - 0s 265us/sample - loss: 5.1950 - mse: 5.1950 - val_loss: 3.5327 - val_mse: 3.5327\n",
      "Epoch 137/200\n",
      "800/800 [==============================] - 0s 231us/sample - loss: 3.1082 - mse: 3.1082 - val_loss: 2.1347 - val_mse: 2.1347\n",
      "Epoch 138/200\n",
      "800/800 [==============================] - 0s 248us/sample - loss: 1.6594 - mse: 1.6594 - val_loss: 0.1585 - val_mse: 0.1585\n",
      "Epoch 139/200\n",
      "800/800 [==============================] - 0s 351us/sample - loss: 0.9962 - mse: 0.9962 - val_loss: 0.4377 - val_mse: 0.4377\n",
      "Epoch 140/200\n",
      "800/800 [==============================] - 0s 312us/sample - loss: 0.5155 - mse: 0.5155 - val_loss: 0.1541 - val_mse: 0.1541\n",
      "Epoch 141/200\n",
      "800/800 [==============================] - 0s 267us/sample - loss: 8.7763 - mse: 8.7763 - val_loss: 32.1076 - val_mse: 32.1076\n",
      "Epoch 142/200\n",
      "800/800 [==============================] - 0s 333us/sample - loss: 24.6473 - mse: 24.6473 - val_loss: 2.9686 - val_mse: 2.9686\n",
      "Epoch 143/200\n",
      "800/800 [==============================] - 0s 324us/sample - loss: 20.1244 - mse: 20.1244 - val_loss: 0.3717 - val_mse: 0.3717\n",
      "Epoch 144/200\n",
      "800/800 [==============================] - 0s 293us/sample - loss: 45.5361 - mse: 45.5361 - val_loss: 17.0670 - val_mse: 17.0670\n",
      "Epoch 145/200\n",
      "800/800 [==============================] - 0s 248us/sample - loss: 8.9381 - mse: 8.9381 - val_loss: 11.1933 - val_mse: 11.1933\n",
      "Epoch 146/200\n",
      "800/800 [==============================] - 0s 250us/sample - loss: 12.0547 - mse: 12.0547 - val_loss: 1.7684 - val_mse: 1.7684\n",
      "Epoch 147/200\n",
      "800/800 [==============================] - 0s 253us/sample - loss: 5.4049 - mse: 5.4049 - val_loss: 2.3551 - val_mse: 2.3551\n",
      "Epoch 148/200\n",
      "800/800 [==============================] - 0s 244us/sample - loss: 8.6330 - mse: 8.6330 - val_loss: 6.6974 - val_mse: 6.6974\n",
      "Epoch 149/200\n",
      "800/800 [==============================] - 0s 251us/sample - loss: 3.9392 - mse: 3.9392 - val_loss: 0.4815 - val_mse: 0.4815\n",
      "Epoch 150/200\n",
      "800/800 [==============================] - 0s 211us/sample - loss: 4.6714 - mse: 4.6714 - val_loss: 0.1583 - val_mse: 0.1583\n",
      "Epoch 151/200\n",
      "800/800 [==============================] - 0s 176us/sample - loss: 22.9971 - mse: 22.9971 - val_loss: 9.6037 - val_mse: 9.6037\n",
      "Epoch 152/200\n",
      "800/800 [==============================] - 0s 198us/sample - loss: 19.1896 - mse: 19.1896 - val_loss: 1.9092 - val_mse: 1.9092\n",
      "Epoch 153/200\n",
      "800/800 [==============================] - 0s 251us/sample - loss: 19.1944 - mse: 19.1944 - val_loss: 10.6779 - val_mse: 10.6779\n",
      "Epoch 154/200\n",
      "800/800 [==============================] - 0s 246us/sample - loss: 9.1171 - mse: 9.1171 - val_loss: 0.9123 - val_mse: 0.9123\n",
      "Epoch 155/200\n",
      "800/800 [==============================] - 0s 226us/sample - loss: 2.6958 - mse: 2.6958 - val_loss: 0.1800 - val_mse: 0.1800\n",
      "Epoch 156/200\n",
      "800/800 [==============================] - 0s 252us/sample - loss: 2.8897 - mse: 2.8897 - val_loss: 2.6097 - val_mse: 2.6097\n",
      "Epoch 157/200\n",
      "800/800 [==============================] - 0s 230us/sample - loss: 10.0289 - mse: 10.0289 - val_loss: 0.5245 - val_mse: 0.5245\n",
      "Epoch 158/200\n",
      "800/800 [==============================] - 0s 249us/sample - loss: 3.2926 - mse: 3.2926 - val_loss: 0.0508 - val_mse: 0.0508\n",
      "Epoch 159/200\n",
      "800/800 [==============================] - 0s 254us/sample - loss: 2.2020 - mse: 2.2020 - val_loss: 0.0618 - val_mse: 0.0618\n",
      "Epoch 160/200\n",
      "800/800 [==============================] - 0s 297us/sample - loss: 2.7600 - mse: 2.7600 - val_loss: 3.0089 - val_mse: 3.0089\n",
      "Epoch 161/200\n",
      "800/800 [==============================] - 0s 332us/sample - loss: 4.4899 - mse: 4.4899 - val_loss: 0.3560 - val_mse: 0.3560\n",
      "Epoch 162/200\n",
      "800/800 [==============================] - 0s 246us/sample - loss: 4.9952 - mse: 4.9952 - val_loss: 3.0684 - val_mse: 3.0684\n",
      "Epoch 163/200\n",
      "800/800 [==============================] - 0s 232us/sample - loss: 7.7270 - mse: 7.7270 - val_loss: 1.3631 - val_mse: 1.3631\n",
      "Epoch 164/200\n",
      "800/800 [==============================] - 0s 266us/sample - loss: 4.6438 - mse: 4.6438 - val_loss: 3.2812 - val_mse: 3.2812\n",
      "Epoch 165/200\n",
      "800/800 [==============================] - 0s 247us/sample - loss: 1.5319 - mse: 1.5319 - val_loss: 0.2041 - val_mse: 0.2041\n",
      "Epoch 166/200\n",
      "800/800 [==============================] - 0s 260us/sample - loss: 1.4779 - mse: 1.4779 - val_loss: 1.2058 - val_mse: 1.2058\n",
      "Epoch 167/200\n",
      "800/800 [==============================] - 0s 257us/sample - loss: 2.2992 - mse: 2.2992 - val_loss: 0.1760 - val_mse: 0.1760\n",
      "Epoch 168/200\n",
      "800/800 [==============================] - 0s 295us/sample - loss: 0.6102 - mse: 0.6102 - val_loss: 0.2886 - val_mse: 0.2886\n",
      "Epoch 169/200\n",
      "800/800 [==============================] - 0s 351us/sample - loss: 1.8059 - mse: 1.8059 - val_loss: 1.5982 - val_mse: 1.5982\n",
      "Epoch 170/200\n",
      "800/800 [==============================] - 0s 337us/sample - loss: 0.7651 - mse: 0.7651 - val_loss: 0.4287 - val_mse: 0.4287\n",
      "Epoch 171/200\n",
      "800/800 [==============================] - 0s 307us/sample - loss: 0.9247 - mse: 0.9247 - val_loss: 2.1054 - val_mse: 2.1054\n",
      "Epoch 172/200\n",
      "800/800 [==============================] - 0s 272us/sample - loss: 0.8892 - mse: 0.8892 - val_loss: 0.2958 - val_mse: 0.2958\n",
      "Epoch 173/200\n",
      "800/800 [==============================] - 0s 253us/sample - loss: 0.3456 - mse: 0.3456 - val_loss: 0.7110 - val_mse: 0.7110\n",
      "Epoch 174/200\n",
      "800/800 [==============================] - 0s 273us/sample - loss: 0.3435 - mse: 0.3435 - val_loss: 0.1454 - val_mse: 0.1454\n",
      "Epoch 175/200\n",
      "800/800 [==============================] - 0s 269us/sample - loss: 0.6157 - mse: 0.6157 - val_loss: 0.8815 - val_mse: 0.8815\n",
      "Epoch 176/200\n",
      "800/800 [==============================] - 0s 303us/sample - loss: 1.0088 - mse: 1.0088 - val_loss: 0.0869 - val_mse: 0.0869\n"
     ]
    },
    {
     "name": "stdout",
     "output_type": "stream",
     "text": [
      "Epoch 177/200\n",
      "800/800 [==============================] - 0s 310us/sample - loss: 1.0000 - mse: 1.0000 - val_loss: 0.1339 - val_mse: 0.1339\n",
      "Epoch 178/200\n",
      "800/800 [==============================] - 0s 302us/sample - loss: 2.2641 - mse: 2.2641 - val_loss: 0.1032 - val_mse: 0.1032\n",
      "Epoch 179/200\n",
      "800/800 [==============================] - 0s 215us/sample - loss: 15.3286 - mse: 15.3286 - val_loss: 0.4820 - val_mse: 0.4820\n",
      "Epoch 180/200\n",
      "800/800 [==============================] - 0s 236us/sample - loss: 6.0819 - mse: 6.0819 - val_loss: 0.7420 - val_mse: 0.7420\n",
      "Epoch 181/200\n",
      "800/800 [==============================] - 0s 285us/sample - loss: 0.8298 - mse: 0.8298 - val_loss: 0.1653 - val_mse: 0.1653\n",
      "Epoch 182/200\n",
      "800/800 [==============================] - 0s 262us/sample - loss: 0.8217 - mse: 0.8217 - val_loss: 0.5229 - val_mse: 0.5229\n",
      "Epoch 183/200\n",
      "800/800 [==============================] - 0s 242us/sample - loss: 0.5650 - mse: 0.5650 - val_loss: 1.3034 - val_mse: 1.3034\n",
      "Epoch 184/200\n",
      "800/800 [==============================] - 0s 265us/sample - loss: 0.7605 - mse: 0.7605 - val_loss: 0.0560 - val_mse: 0.0560\n",
      "Epoch 185/200\n",
      "800/800 [==============================] - 0s 264us/sample - loss: 0.2791 - mse: 0.2791 - val_loss: 0.1520 - val_mse: 0.1520\n",
      "Epoch 186/200\n",
      "800/800 [==============================] - 0s 238us/sample - loss: 0.3105 - mse: 0.3105 - val_loss: 0.5191 - val_mse: 0.5191\n",
      "Epoch 187/200\n",
      "800/800 [==============================] - 0s 281us/sample - loss: 0.6460 - mse: 0.6460 - val_loss: 0.0326 - val_mse: 0.0326\n",
      "Epoch 188/200\n",
      "800/800 [==============================] - 0s 212us/sample - loss: 0.5134 - mse: 0.5134 - val_loss: 0.0444 - val_mse: 0.0444\n",
      "Epoch 189/200\n",
      "800/800 [==============================] - 0s 228us/sample - loss: 0.3237 - mse: 0.3237 - val_loss: 0.2455 - val_mse: 0.2455\n",
      "Epoch 190/200\n",
      "800/800 [==============================] - 0s 305us/sample - loss: 0.5417 - mse: 0.5417 - val_loss: 0.0471 - val_mse: 0.0471\n",
      "Epoch 191/200\n",
      "800/800 [==============================] - 0s 313us/sample - loss: 1.3960 - mse: 1.3960 - val_loss: 0.2552 - val_mse: 0.2552\n",
      "Epoch 192/200\n",
      "800/800 [==============================] - 0s 299us/sample - loss: 0.2935 - mse: 0.2935 - val_loss: 0.1802 - val_mse: 0.1802\n",
      "Epoch 193/200\n",
      "800/800 [==============================] - 0s 269us/sample - loss: 0.2400 - mse: 0.2400 - val_loss: 1.0139 - val_mse: 1.0139\n",
      "Epoch 194/200\n",
      "800/800 [==============================] - 0s 272us/sample - loss: 0.9729 - mse: 0.9729 - val_loss: 0.2421 - val_mse: 0.2421\n",
      "Epoch 195/200\n",
      "800/800 [==============================] - 0s 292us/sample - loss: 0.4403 - mse: 0.4403 - val_loss: 0.4605 - val_mse: 0.4605\n",
      "Epoch 196/200\n",
      "800/800 [==============================] - 0s 290us/sample - loss: 0.6322 - mse: 0.6322 - val_loss: 0.1887 - val_mse: 0.1887\n",
      "Epoch 197/200\n",
      "800/800 [==============================] - 0s 255us/sample - loss: 0.4720 - mse: 0.4720 - val_loss: 0.5139 - val_mse: 0.5139\n",
      "Epoch 198/200\n",
      "800/800 [==============================] - 0s 257us/sample - loss: 0.1787 - mse: 0.1787 - val_loss: 0.1455 - val_mse: 0.1455\n",
      "Epoch 199/200\n",
      "800/800 [==============================] - 0s 277us/sample - loss: 1.8631 - mse: 1.8631 - val_loss: 1.3889 - val_mse: 1.3889\n",
      "Epoch 200/200\n",
      "800/800 [==============================] - 0s 270us/sample - loss: 8.2255 - mse: 8.2255 - val_loss: 2.6814 - val_mse: 2.6814\n"
     ]
    },
    {
     "data": {
      "text/plain": [
       "<tensorflow.python.keras.callbacks.History at 0x17f1d43a888>"
      ]
     },
     "execution_count": 26,
     "metadata": {},
     "output_type": "execute_result"
    }
   ],
   "source": [
    "toy_model = keras.Sequential([layers.Dense(1000,activation='relu', input_shape=[2,]),\n",
    "                              layers.Dense(500, activation='relu'),\n",
    "                              layers.Dense(1)])\n",
    "\n",
    "opt = keras.optimizers.Adam(decay=0.01/500)\n",
    "toy_model.compile(loss='mse', optimizer=opt, metrics=['mse'])\n",
    "toy_model.fit(toy[['price','year']], toy['toy'], epochs=200, validation_split = 0.2, verbose=1)"
   ]
  },
  {
   "cell_type": "markdown",
   "metadata": {},
   "source": [
    "### No linealridad (15 mts)"
   ]
  },
  {
   "cell_type": "markdown",
   "metadata": {},
   "source": [
    "La razón por la cual el modelo lineal falla mientras la red no se debe a la no linearidad. Se definió la columna `toy` como un polinomio cúbico de `year` y `price`. Por definición un modelo lineal no entenderá esta relación. Una red neuronal puede lidiar con estos modelos más complejos.\n",
    "\n",
    "En el ejemplo de arriba, es fácil saber por qué la relación es fundamentalmente no lineal, pero en el mundo real estas conexiones son menos claras. \n",
    "\n",
    "Usaremos el constructor *Sequential* de Keras. Esta es una guía de cómo usar Keras: https://keras.io/getting-started/sequential-model-guide/. El siguiente modelo construye una red de una capa. Necesitamos especificar la función de activación y la entrada: \n"
   ]
  },
  {
   "cell_type": "code",
   "execution_count": 28,
   "metadata": {
    "ExecuteTime": {
     "end_time": "2020-02-25T00:21:47.607679Z",
     "start_time": "2020-02-25T00:21:47.575261Z"
    }
   },
   "outputs": [],
   "source": [
    "neurons = 128\n",
    "\n",
    "model = keras.Sequential([layers.Dense(neurons, activation='relu', input_shape=[len(df_train.columns) - 1,]), # Capa de entrada\n",
    "                          layers.Dense(1)]) # Capa de salida"
   ]
  },
  {
   "cell_type": "markdown",
   "metadata": {},
   "source": [
    "Adicional a las capas, necesitamos 3 parámetros:\n",
    "\n",
    "1. Función de pérdida *loss function* - define qué tan errónea es la respuesta final.\n",
    "2. El optimizador - el algoritmo que minimiza la función de pérdida ajustando los pesos de la regresión lineal.\n",
    "3. Una lista de métricas que determinan el rendimiento del modelo: https://keras.io/metrics/\n",
    "\n",
    "Se ingresa de la siguiente manera:"
   ]
  },
  {
   "cell_type": "code",
   "execution_count": 29,
   "metadata": {
    "ExecuteTime": {
     "end_time": "2020-02-25T00:21:49.959510Z",
     "start_time": "2020-02-25T00:21:49.920683Z"
    }
   },
   "outputs": [],
   "source": [
    "model.compile(loss='mse', # Error cuadrático medio (https://en.wikipedia.org/wiki/Mean_squared_error)\n",
    "              optimizer = 'adam', # algoritmo desarrollado en 2018, (https://towardsdatascience.com/adam-latest-trends-in-deep-learning-optimization-6be9a291375c)\n",
    "              metrics = ['mse'] # Una buena métrica\n",
    "             )"
   ]
  },
  {
   "cell_type": "markdown",
   "metadata": {},
   "source": [
    "En una red neuronal, entrenar el modelo consiste en ajustar cada pesos entre cada nodo minimizando la diferencia entre valores predecidos y observaciones actuales. Luego de esto, se corre para el conjunto de prueba para ver qué tan bien generaliza:"
   ]
  },
  {
   "cell_type": "code",
   "execution_count": 30,
   "metadata": {
    "ExecuteTime": {
     "end_time": "2020-02-25T00:22:43.216705Z",
     "start_time": "2020-02-25T00:22:43.081165Z"
    }
   },
   "outputs": [
    {
     "name": "stderr",
     "output_type": "stream",
     "text": [
      "C:\\Users\\User\\Anaconda3\\lib\\site-packages\\ipykernel_launcher.py:2: SettingWithCopyWarning: \n",
      "A value is trying to be set on a copy of a slice from a DataFrame.\n",
      "Try using .loc[row_indexer,col_indexer] = value instead\n",
      "\n",
      "See the caveats in the documentation: https://pandas.pydata.org/pandas-docs/stable/user_guide/indexing.html#returning-a-view-versus-a-copy\n",
      "  \n",
      "C:\\Users\\User\\Anaconda3\\lib\\site-packages\\ipykernel_launcher.py:8: SettingWithCopyWarning: \n",
      "A value is trying to be set on a copy of a slice from a DataFrame.\n",
      "Try using .loc[row_indexer,col_indexer] = value instead\n",
      "\n",
      "See the caveats in the documentation: https://pandas.pydata.org/pandas-docs/stable/user_guide/indexing.html#returning-a-view-versus-a-copy\n",
      "  \n"
     ]
    }
   ],
   "source": [
    "X = df_train.drop('price', axis=1)\n",
    "X['year'] = (X['year'] - df_train['year'].mean()) / df_train['year'].std()\n",
    "\n",
    "y = df_train['price']\n",
    "y = (y - df_train['price'].mean()) / df_train['price'].std()\n",
    "\n",
    "X_test = df_test.drop('price', axis=1)\n",
    "X_test['year'] = (X_test['year'] - df_test['year'].mean()) / df_test['year'].std()\n",
    "y_test = df_test['price']\n",
    "y_test = (y_test - df_test['price'].mean()) / df_test['price'].std()"
   ]
  },
  {
   "cell_type": "markdown",
   "metadata": {},
   "source": [
    "Todo listo para entrenar el moddelo. Usaremos las función `fit` de Keras, la cual usa los siguientes parámetros:\n",
    "\n",
    "1. Datos de entrada\n",
    "2. Etiquetas de entrada\n",
    "3. Número de épocas\n",
    "4. Verbosidad: 0, 1, o 2, dependiendo qué tanta información se quiere ver durante el entrenamiento\n",
    "5. Corte de validación: una fracción de los datos de entrenamiento que se *evita* usar durante el entrenamiento, para prevenir el sobreajuste\n",
    "6. Tamaño del lote: Cuántas observaciones entrenar a la vez. Un lote más grande entrena más rápido, hasta que el algoritmo encuentre rendimientos decrecientes. Un lote grande también convella menor precisión.\n",
    "\n",
    "A continuación un ejemplo:"
   ]
  },
  {
   "cell_type": "code",
   "execution_count": 31,
   "metadata": {
    "ExecuteTime": {
     "end_time": "2020-02-25T00:26:25.352919Z",
     "start_time": "2020-02-25T00:26:12.423766Z"
    },
    "scrolled": true
   },
   "outputs": [
    {
     "name": "stdout",
     "output_type": "stream",
     "text": [
      "Train on 268747 samples, validate on 67187 samples\n",
      "Epoch 1/10\n",
      "268747/268747 [==============================] - 2s 7us/sample - loss: 0.5889 - mse: 0.5889 - val_loss: 0.5125 - val_mse: 0.5125\n",
      "Epoch 2/10\n",
      "268747/268747 [==============================] - 1s 4us/sample - loss: 0.5013 - mse: 0.5013 - val_loss: 0.4919 - val_mse: 0.4919\n",
      "Epoch 3/10\n",
      "268747/268747 [==============================] - 1s 4us/sample - loss: 0.4878 - mse: 0.4878 - val_loss: 0.4875 - val_mse: 0.4875\n",
      "Epoch 4/10\n",
      "268747/268747 [==============================] - 1s 5us/sample - loss: 0.4791 - mse: 0.4791 - val_loss: 0.4772 - val_mse: 0.4772\n",
      "Epoch 5/10\n",
      "268747/268747 [==============================] - 1s 4us/sample - loss: 0.4724 - mse: 0.4724 - val_loss: 0.4731 - val_mse: 0.4731\n",
      "Epoch 6/10\n",
      "268747/268747 [==============================] - 1s 4us/sample - loss: 0.4671 - mse: 0.4671 - val_loss: 0.4716 - val_mse: 0.4716\n",
      "Epoch 7/10\n",
      "268747/268747 [==============================] - 1s 5us/sample - loss: 0.4629 - mse: 0.4629 - val_loss: 0.4727 - val_mse: 0.4727\n",
      "Epoch 8/10\n",
      "268747/268747 [==============================] - 1s 4us/sample - loss: 0.4599 - mse: 0.4599 - val_loss: 0.4609 - val_mse: 0.4609\n",
      "Epoch 9/10\n",
      "268747/268747 [==============================] - 1s 4us/sample - loss: 0.4563 - mse: 0.4563 - val_loss: 0.4617 - val_mse: 0.4617\n",
      "Epoch 10/10\n",
      "268747/268747 [==============================] - 1s 4us/sample - loss: 0.4535 - mse: 0.4535 - val_loss: 0.4580 - val_mse: 0.4580\n"
     ]
    }
   ],
   "source": [
    "history = model.fit(X, y, epochs=10, validation_split = 0.2, verbose=1, batch_size=1000)"
   ]
  },
  {
   "cell_type": "code",
   "execution_count": 32,
   "metadata": {
    "ExecuteTime": {
     "end_time": "2020-02-25T00:26:41.292713Z",
     "start_time": "2020-02-25T00:26:38.882138Z"
    }
   },
   "outputs": [
    {
     "name": "stdout",
     "output_type": "stream",
     "text": [
      "98608/98608 [==============================] - 2s 23us/sample - loss: 0.4664 - mse: 0.4664\n"
     ]
    },
    {
     "data": {
      "text/plain": [
       "[0.4664380843233563, 0.4664382]"
      ]
     },
     "execution_count": 32,
     "metadata": {},
     "output_type": "execute_result"
    }
   ],
   "source": [
    "model.evaluate(X_test, y_test)"
   ]
  },
  {
   "cell_type": "markdown",
   "metadata": {},
   "source": [
    "Ahora intentemos un modelo más profundo con el método `add()`"
   ]
  },
  {
   "cell_type": "markdown",
   "metadata": {},
   "source": [
    "### Ejericio 5: (10 mts)\n",
    "\n",
    "Utilice Keras para crear un modelo profundo con 3 capas sobre los datos de entranamiento, luego ajústelo sobre los datos de prueba. Compare este modelo a una regresión lineal que utilice las mismas variables de los datos normalizados."
   ]
  },
  {
   "cell_type": "markdown",
   "metadata": {},
   "source": [
    "**Respuesta.**"
   ]
  },
  {
   "cell_type": "code",
   "execution_count": 33,
   "metadata": {
    "ExecuteTime": {
     "end_time": "2020-02-25T00:28:10.962587Z",
     "start_time": "2020-02-25T00:28:10.895579Z"
    }
   },
   "outputs": [],
   "source": [
    "deep_model = keras.Sequential([layers.Dense(128, activation='relu', input_shape=[len(X.columns),]),])\n",
    "deep_model.add(layers.Dense(64, activation='softmax'))\n",
    "deep_model.add(layers.Dense(1))\n",
    "\n",
    "deep_model.compile(loss='mse', optimizer = 'adam', metrics = ['mse'])"
   ]
  },
  {
   "cell_type": "code",
   "execution_count": 34,
   "metadata": {
    "ExecuteTime": {
     "end_time": "2020-02-25T00:30:58.858816Z",
     "start_time": "2020-02-25T00:28:39.523769Z"
    },
    "scrolled": false
   },
   "outputs": [
    {
     "name": "stdout",
     "output_type": "stream",
     "text": [
      "Train on 268747 samples, validate on 67187 samples\n",
      "Epoch 1/100\n",
      "268747/268747 [==============================] - 2s 7us/sample - loss: 0.8127 - mse: 0.8127 - val_loss: 0.6491 - val_mse: 0.6491\n",
      "Epoch 2/100\n",
      "268747/268747 [==============================] - 1s 5us/sample - loss: 0.6406 - mse: 0.6406 - val_loss: 0.6052 - val_mse: 0.6052\n",
      "Epoch 3/100\n",
      "268747/268747 [==============================] - 1s 5us/sample - loss: 0.6037 - mse: 0.6037 - val_loss: 0.5778 - val_mse: 0.5778\n",
      "Epoch 4/100\n",
      "268747/268747 [==============================] - 1s 5us/sample - loss: 0.5727 - mse: 0.5727 - val_loss: 0.5460 - val_mse: 0.5460\n",
      "Epoch 5/100\n",
      "268747/268747 [==============================] - 1s 5us/sample - loss: 0.5424 - mse: 0.5424 - val_loss: 0.5263 - val_mse: 0.5263\n",
      "Epoch 6/100\n",
      "268747/268747 [==============================] - 1s 5us/sample - loss: 0.5243 - mse: 0.5243 - val_loss: 0.5131 - val_mse: 0.5131\n",
      "Epoch 7/100\n",
      "268747/268747 [==============================] - 1s 5us/sample - loss: 0.5120 - mse: 0.5120 - val_loss: 0.5022 - val_mse: 0.5022\n",
      "Epoch 8/100\n",
      "268747/268747 [==============================] - 1s 5us/sample - loss: 0.5028 - mse: 0.5028 - val_loss: 0.4964 - val_mse: 0.4964\n",
      "Epoch 9/100\n",
      "268747/268747 [==============================] - 1s 5us/sample - loss: 0.4953 - mse: 0.4953 - val_loss: 0.4949 - val_mse: 0.4949\n",
      "Epoch 10/100\n",
      "268747/268747 [==============================] - 1s 5us/sample - loss: 0.4901 - mse: 0.4901 - val_loss: 0.4850 - val_mse: 0.4850\n",
      "Epoch 11/100\n",
      "268747/268747 [==============================] - 1s 5us/sample - loss: 0.4856 - mse: 0.4856 - val_loss: 0.4818 - val_mse: 0.4818\n",
      "Epoch 12/100\n",
      "268747/268747 [==============================] - 1s 5us/sample - loss: 0.4811 - mse: 0.4811 - val_loss: 0.4776 - val_mse: 0.4776\n",
      "Epoch 13/100\n",
      "268747/268747 [==============================] - 1s 5us/sample - loss: 0.4772 - mse: 0.4772 - val_loss: 0.4764 - val_mse: 0.4764\n",
      "Epoch 14/100\n",
      "268747/268747 [==============================] - 1s 5us/sample - loss: 0.4745 - mse: 0.4745 - val_loss: 0.4730 - val_mse: 0.4730\n",
      "Epoch 15/100\n",
      "268747/268747 [==============================] - 1s 5us/sample - loss: 0.4723 - mse: 0.4723 - val_loss: 0.4759 - val_mse: 0.4759\n",
      "Epoch 16/100\n",
      "268747/268747 [==============================] - 1s 5us/sample - loss: 0.4693 - mse: 0.4693 - val_loss: 0.4751 - val_mse: 0.4751\n",
      "Epoch 17/100\n",
      "268747/268747 [==============================] - 1s 5us/sample - loss: 0.4670 - mse: 0.4670 - val_loss: 0.4675 - val_mse: 0.4675\n",
      "Epoch 18/100\n",
      "268747/268747 [==============================] - 1s 5us/sample - loss: 0.4650 - mse: 0.4650 - val_loss: 0.4657 - val_mse: 0.4657\n",
      "Epoch 19/100\n",
      "268747/268747 [==============================] - 1s 5us/sample - loss: 0.4631 - mse: 0.4631 - val_loss: 0.4658 - val_mse: 0.4658\n",
      "Epoch 20/100\n",
      "268747/268747 [==============================] - 1s 5us/sample - loss: 0.4617 - mse: 0.4617 - val_loss: 0.4634 - val_mse: 0.4634\n",
      "Epoch 21/100\n",
      "268747/268747 [==============================] - 1s 5us/sample - loss: 0.4600 - mse: 0.4600 - val_loss: 0.4613 - val_mse: 0.4613\n",
      "Epoch 22/100\n",
      "268747/268747 [==============================] - 1s 5us/sample - loss: 0.4583 - mse: 0.4583 - val_loss: 0.4602 - val_mse: 0.4602\n",
      "Epoch 23/100\n",
      "268747/268747 [==============================] - 1s 5us/sample - loss: 0.4572 - mse: 0.4572 - val_loss: 0.4601 - val_mse: 0.4601\n",
      "Epoch 24/100\n",
      "268747/268747 [==============================] - 1s 5us/sample - loss: 0.4558 - mse: 0.4558 - val_loss: 0.4605 - val_mse: 0.4605\n",
      "Epoch 25/100\n",
      "268747/268747 [==============================] - 1s 5us/sample - loss: 0.4546 - mse: 0.4546 - val_loss: 0.4743 - val_mse: 0.4743\n",
      "Epoch 26/100\n",
      "268747/268747 [==============================] - 1s 5us/sample - loss: 0.4548 - mse: 0.4548 - val_loss: 0.4575 - val_mse: 0.4575\n",
      "Epoch 27/100\n",
      "268747/268747 [==============================] - 1s 5us/sample - loss: 0.4531 - mse: 0.4531 - val_loss: 0.4605 - val_mse: 0.4605\n",
      "Epoch 28/100\n",
      "268747/268747 [==============================] - 1s 5us/sample - loss: 0.4520 - mse: 0.4520 - val_loss: 0.4555 - val_mse: 0.4555\n",
      "Epoch 29/100\n",
      "268747/268747 [==============================] - 1s 5us/sample - loss: 0.4515 - mse: 0.4515 - val_loss: 0.4576 - val_mse: 0.4576\n",
      "Epoch 30/100\n",
      "268747/268747 [==============================] - 1s 5us/sample - loss: 0.4508 - mse: 0.4508 - val_loss: 0.4588 - val_mse: 0.4588\n",
      "Epoch 31/100\n",
      "268747/268747 [==============================] - 1s 5us/sample - loss: 0.4495 - mse: 0.4495 - val_loss: 0.4558 - val_mse: 0.4558\n",
      "Epoch 32/100\n",
      "268747/268747 [==============================] - 1s 5us/sample - loss: 0.4490 - mse: 0.4490 - val_loss: 0.4585 - val_mse: 0.4585\n",
      "Epoch 33/100\n",
      "268747/268747 [==============================] - 1s 5us/sample - loss: 0.4479 - mse: 0.4479 - val_loss: 0.4537 - val_mse: 0.4537\n",
      "Epoch 34/100\n",
      "268747/268747 [==============================] - 2s 6us/sample - loss: 0.4475 - mse: 0.4475 - val_loss: 0.4587 - val_mse: 0.4587\n",
      "Epoch 35/100\n",
      "268747/268747 [==============================] - 1s 6us/sample - loss: 0.4466 - mse: 0.4466 - val_loss: 0.4539 - val_mse: 0.4539\n",
      "Epoch 36/100\n",
      "268747/268747 [==============================] - 1s 5us/sample - loss: 0.4459 - mse: 0.4459 - val_loss: 0.4534 - val_mse: 0.4534\n",
      "Epoch 37/100\n",
      "268747/268747 [==============================] - 1s 5us/sample - loss: 0.4451 - mse: 0.4451 - val_loss: 0.4531 - val_mse: 0.4531\n",
      "Epoch 38/100\n",
      "268747/268747 [==============================] - 1s 5us/sample - loss: 0.4442 - mse: 0.4442 - val_loss: 0.4532 - val_mse: 0.4532\n",
      "Epoch 39/100\n",
      "268747/268747 [==============================] - 1s 6us/sample - loss: 0.4441 - mse: 0.4441 - val_loss: 0.4519 - val_mse: 0.4519\n",
      "Epoch 40/100\n",
      "268747/268747 [==============================] - 1s 5us/sample - loss: 0.4429 - mse: 0.4429 - val_loss: 0.4584 - val_mse: 0.4584\n",
      "Epoch 41/100\n",
      "268747/268747 [==============================] - 1s 5us/sample - loss: 0.4436 - mse: 0.4436 - val_loss: 0.4602 - val_mse: 0.4602\n",
      "Epoch 42/100\n",
      "268747/268747 [==============================] - 1s 5us/sample - loss: 0.4424 - mse: 0.4424 - val_loss: 0.4510 - val_mse: 0.4510\n",
      "Epoch 43/100\n",
      "268747/268747 [==============================] - 1s 5us/sample - loss: 0.4414 - mse: 0.4414 - val_loss: 0.4500 - val_mse: 0.4500\n",
      "Epoch 44/100\n",
      "268747/268747 [==============================] - 1s 5us/sample - loss: 0.4411 - mse: 0.4411 - val_loss: 0.4532 - val_mse: 0.4532\n",
      "Epoch 45/100\n",
      "268747/268747 [==============================] - 1s 5us/sample - loss: 0.4401 - mse: 0.4401 - val_loss: 0.4489 - val_mse: 0.4489\n",
      "Epoch 46/100\n",
      "268747/268747 [==============================] - 1s 5us/sample - loss: 0.4405 - mse: 0.4405 - val_loss: 0.4559 - val_mse: 0.4559\n",
      "Epoch 47/100\n",
      "268747/268747 [==============================] - 1s 5us/sample - loss: 0.4391 - mse: 0.4391 - val_loss: 0.4521 - val_mse: 0.4521\n",
      "Epoch 48/100\n",
      "268747/268747 [==============================] - 1s 5us/sample - loss: 0.4390 - mse: 0.4390 - val_loss: 0.4496 - val_mse: 0.4496\n",
      "Epoch 49/100\n",
      "268747/268747 [==============================] - 1s 5us/sample - loss: 0.4386 - mse: 0.4386 - val_loss: 0.4501 - val_mse: 0.4501\n",
      "Epoch 50/100\n",
      "268747/268747 [==============================] - 1s 5us/sample - loss: 0.4375 - mse: 0.4375 - val_loss: 0.4490 - val_mse: 0.4490\n",
      "Epoch 51/100\n",
      "268747/268747 [==============================] - 1s 5us/sample - loss: 0.4381 - mse: 0.4381 - val_loss: 0.4534 - val_mse: 0.4534\n",
      "Epoch 52/100\n",
      "268747/268747 [==============================] - 1s 5us/sample - loss: 0.4366 - mse: 0.4366 - val_loss: 0.4505 - val_mse: 0.4505\n",
      "Epoch 53/100\n",
      "268747/268747 [==============================] - 2s 6us/sample - loss: 0.4370 - mse: 0.4370 - val_loss: 0.4490 - val_mse: 0.4489\n",
      "Epoch 54/100\n",
      "268747/268747 [==============================] - 1s 5us/sample - loss: 0.4359 - mse: 0.4359 - val_loss: 0.4490 - val_mse: 0.4490\n",
      "Epoch 55/100\n",
      "268747/268747 [==============================] - 1s 5us/sample - loss: 0.4347 - mse: 0.4347 - val_loss: 0.4562 - val_mse: 0.4562\n",
      "Epoch 56/100\n",
      "268747/268747 [==============================] - 2s 6us/sample - loss: 0.4347 - mse: 0.4347 - val_loss: 0.4497 - val_mse: 0.4497\n",
      "Epoch 57/100\n",
      "268747/268747 [==============================] - 2s 6us/sample - loss: 0.4344 - mse: 0.4344 - val_loss: 0.4480 - val_mse: 0.4480\n",
      "Epoch 58/100\n"
     ]
    },
    {
     "name": "stdout",
     "output_type": "stream",
     "text": [
      "268747/268747 [==============================] - 1s 5us/sample - loss: 0.4345 - mse: 0.4345 - val_loss: 0.4476 - val_mse: 0.4476\n",
      "Epoch 59/100\n",
      "268747/268747 [==============================] - 1s 5us/sample - loss: 0.4335 - mse: 0.4335 - val_loss: 0.4509 - val_mse: 0.4509\n",
      "Epoch 60/100\n",
      "268747/268747 [==============================] - 1s 5us/sample - loss: 0.4330 - mse: 0.4330 - val_loss: 0.4475 - val_mse: 0.4475\n",
      "Epoch 61/100\n",
      "268747/268747 [==============================] - 1s 5us/sample - loss: 0.4329 - mse: 0.4329 - val_loss: 0.4509 - val_mse: 0.4509\n",
      "Epoch 62/100\n",
      "268747/268747 [==============================] - 1s 5us/sample - loss: 0.4318 - mse: 0.4318 - val_loss: 0.4606 - val_mse: 0.4606\n",
      "Epoch 63/100\n",
      "268747/268747 [==============================] - 1s 5us/sample - loss: 0.4312 - mse: 0.4312 - val_loss: 0.4478 - val_mse: 0.4478\n",
      "Epoch 64/100\n",
      "268747/268747 [==============================] - 1s 5us/sample - loss: 0.4312 - mse: 0.4312 - val_loss: 0.4492 - val_mse: 0.4492\n",
      "Epoch 65/100\n",
      "268747/268747 [==============================] - 1s 5us/sample - loss: 0.4310 - mse: 0.4310 - val_loss: 0.4482 - val_mse: 0.4482\n",
      "Epoch 66/100\n",
      "268747/268747 [==============================] - 1s 5us/sample - loss: 0.4300 - mse: 0.4300 - val_loss: 0.4539 - val_mse: 0.4539\n",
      "Epoch 67/100\n",
      "268747/268747 [==============================] - 1s 5us/sample - loss: 0.4299 - mse: 0.4299 - val_loss: 0.4468 - val_mse: 0.4468\n",
      "Epoch 68/100\n",
      "268747/268747 [==============================] - 1s 5us/sample - loss: 0.4294 - mse: 0.4294 - val_loss: 0.4458 - val_mse: 0.4458\n",
      "Epoch 69/100\n",
      "268747/268747 [==============================] - 1s 5us/sample - loss: 0.4292 - mse: 0.4292 - val_loss: 0.4633 - val_mse: 0.4633\n",
      "Epoch 70/100\n",
      "268747/268747 [==============================] - 1s 5us/sample - loss: 0.4294 - mse: 0.4294 - val_loss: 0.4464 - val_mse: 0.4464\n",
      "Epoch 71/100\n",
      "268747/268747 [==============================] - 1s 5us/sample - loss: 0.4290 - mse: 0.4290 - val_loss: 0.4481 - val_mse: 0.4481\n",
      "Epoch 72/100\n",
      "268747/268747 [==============================] - 1s 5us/sample - loss: 0.4292 - mse: 0.4292 - val_loss: 0.4490 - val_mse: 0.4490\n",
      "Epoch 73/100\n",
      "268747/268747 [==============================] - 1s 5us/sample - loss: 0.4279 - mse: 0.4279 - val_loss: 0.4456 - val_mse: 0.4456\n",
      "Epoch 74/100\n",
      "268747/268747 [==============================] - 1s 5us/sample - loss: 0.4274 - mse: 0.4274 - val_loss: 0.4450 - val_mse: 0.4450\n",
      "Epoch 75/100\n",
      "268747/268747 [==============================] - 1s 5us/sample - loss: 0.4271 - mse: 0.4271 - val_loss: 0.4498 - val_mse: 0.4498\n",
      "Epoch 76/100\n",
      "268747/268747 [==============================] - 1s 5us/sample - loss: 0.4264 - mse: 0.4264 - val_loss: 0.4490 - val_mse: 0.4490\n",
      "Epoch 77/100\n",
      "268747/268747 [==============================] - 1s 5us/sample - loss: 0.4276 - mse: 0.4276 - val_loss: 0.4450 - val_mse: 0.4450\n",
      "Epoch 78/100\n",
      "268747/268747 [==============================] - 1s 5us/sample - loss: 0.4255 - mse: 0.4255 - val_loss: 0.4646 - val_mse: 0.4646\n",
      "Epoch 79/100\n",
      "268747/268747 [==============================] - 1s 5us/sample - loss: 0.4269 - mse: 0.4269 - val_loss: 0.4447 - val_mse: 0.4447\n",
      "Epoch 80/100\n",
      "268747/268747 [==============================] - 1s 5us/sample - loss: 0.4262 - mse: 0.4262 - val_loss: 0.4458 - val_mse: 0.4458\n",
      "Epoch 81/100\n",
      "268747/268747 [==============================] - 1s 5us/sample - loss: 0.4253 - mse: 0.4253 - val_loss: 0.4461 - val_mse: 0.4461\n",
      "Epoch 82/100\n",
      "268747/268747 [==============================] - 1s 5us/sample - loss: 0.4253 - mse: 0.4253 - val_loss: 0.4472 - val_mse: 0.4472\n",
      "Epoch 83/100\n",
      "268747/268747 [==============================] - 1s 5us/sample - loss: 0.4243 - mse: 0.4243 - val_loss: 0.4447 - val_mse: 0.4447\n",
      "Epoch 84/100\n",
      "268747/268747 [==============================] - 1s 5us/sample - loss: 0.4239 - mse: 0.4239 - val_loss: 0.4433 - val_mse: 0.4433\n",
      "Epoch 85/100\n",
      "268747/268747 [==============================] - 1s 5us/sample - loss: 0.4244 - mse: 0.4244 - val_loss: 0.4441 - val_mse: 0.4441\n",
      "Epoch 86/100\n",
      "268747/268747 [==============================] - 1s 5us/sample - loss: 0.4237 - mse: 0.4237 - val_loss: 0.4514 - val_mse: 0.4514\n",
      "Epoch 87/100\n",
      "268747/268747 [==============================] - 1s 5us/sample - loss: 0.4236 - mse: 0.4236 - val_loss: 0.4480 - val_mse: 0.4480\n",
      "Epoch 88/100\n",
      "268747/268747 [==============================] - 1s 5us/sample - loss: 0.4231 - mse: 0.4231 - val_loss: 0.4443 - val_mse: 0.4443\n",
      "Epoch 89/100\n",
      "268747/268747 [==============================] - 1s 5us/sample - loss: 0.4226 - mse: 0.4226 - val_loss: 0.4485 - val_mse: 0.4485\n",
      "Epoch 90/100\n",
      "268747/268747 [==============================] - 1s 5us/sample - loss: 0.4232 - mse: 0.4232 - val_loss: 0.4463 - val_mse: 0.4463\n",
      "Epoch 91/100\n",
      "268747/268747 [==============================] - 2s 6us/sample - loss: 0.4230 - mse: 0.4230 - val_loss: 0.4487 - val_mse: 0.4487\n",
      "Epoch 92/100\n",
      "268747/268747 [==============================] - 2s 6us/sample - loss: 0.4219 - mse: 0.4219 - val_loss: 0.4498 - val_mse: 0.4498\n",
      "Epoch 93/100\n",
      "268747/268747 [==============================] - 2s 6us/sample - loss: 0.4219 - mse: 0.4219 - val_loss: 0.4489 - val_mse: 0.4489\n",
      "Epoch 94/100\n",
      "268747/268747 [==============================] - 1s 5us/sample - loss: 0.4215 - mse: 0.4215 - val_loss: 0.4463 - val_mse: 0.4463\n",
      "Epoch 95/100\n",
      "268747/268747 [==============================] - 2s 6us/sample - loss: 0.4219 - mse: 0.4219 - val_loss: 0.4449 - val_mse: 0.4449\n",
      "Epoch 96/100\n",
      "268747/268747 [==============================] - 1s 5us/sample - loss: 0.4217 - mse: 0.4217 - val_loss: 0.4470 - val_mse: 0.4470\n",
      "Epoch 97/100\n",
      "268747/268747 [==============================] - 1s 5us/sample - loss: 0.4200 - mse: 0.4200 - val_loss: 0.4454 - val_mse: 0.4454\n",
      "Epoch 98/100\n",
      "268747/268747 [==============================] - 1s 5us/sample - loss: 0.4211 - mse: 0.4211 - val_loss: 0.4504 - val_mse: 0.4504\n",
      "Epoch 99/100\n",
      "268747/268747 [==============================] - 2s 6us/sample - loss: 0.4209 - mse: 0.4209 - val_loss: 0.4431 - val_mse: 0.4431\n",
      "Epoch 100/100\n",
      "268747/268747 [==============================] - 1s 5us/sample - loss: 0.4204 - mse: 0.4204 - val_loss: 0.4436 - val_mse: 0.4436\n"
     ]
    }
   ],
   "source": [
    "history = deep_model.fit(X, y, epochs=100, validation_split=0.2, verbose=1, batch_size=2000)"
   ]
  },
  {
   "cell_type": "markdown",
   "metadata": {},
   "source": [
    "Note cómo en este caso, el MSE es más alto, pero cae de forma más consistente. En redes pequeñas, ligeros cambios en el gradiente de optimización puede causar que el MSE fluctúe bastante, mientras que en redes grandes el ajuste es mejor aunque más lento. Si aumentamos el número de épocas la red terminará entrenando perfectamente. La cuestión entonces es escoger entre precisión y eficiencia."
   ]
  },
  {
   "cell_type": "code",
   "execution_count": 35,
   "metadata": {
    "ExecuteTime": {
     "end_time": "2020-02-25T00:34:00.340275Z",
     "start_time": "2020-02-25T00:33:59.953222Z"
    }
   },
   "outputs": [
    {
     "name": "stdout",
     "output_type": "stream",
     "text": [
      "98608/98608 [==============================] - 0s 2us/sample - loss: 0.4504 - mse: 0.4504\n"
     ]
    },
    {
     "data": {
      "text/plain": [
       "[0.45041580382887464, 0.45041585]"
      ]
     },
     "execution_count": 35,
     "metadata": {},
     "output_type": "execute_result"
    }
   ],
   "source": [
    "deep_model.evaluate(X_test, y_test, batch_size=2000)"
   ]
  },
  {
   "cell_type": "code",
   "execution_count": 36,
   "metadata": {
    "ExecuteTime": {
     "end_time": "2020-02-25T00:34:39.217721Z",
     "start_time": "2020-02-25T00:34:32.654148Z"
    }
   },
   "outputs": [
    {
     "data": {
      "text/html": [
       "<table class=\"simpletable\">\n",
       "<caption>OLS Regression Results</caption>\n",
       "<tr>\n",
       "  <th>Dep. Variable:</th>          <td>price</td>      <th>  R-squared:         </th>  <td>   0.292</td>  \n",
       "</tr>\n",
       "<tr>\n",
       "  <th>Model:</th>                   <td>OLS</td>       <th>  Adj. R-squared:    </th>  <td>   0.291</td>  \n",
       "</tr>\n",
       "<tr>\n",
       "  <th>Method:</th>             <td>Least Squares</td>  <th>  F-statistic:       </th>  <td>   1503.</td>  \n",
       "</tr>\n",
       "<tr>\n",
       "  <th>Date:</th>             <td>Mon, 24 Feb 2020</td> <th>  Prob (F-statistic):</th>   <td>  0.00</td>   \n",
       "</tr>\n",
       "<tr>\n",
       "  <th>Time:</th>                 <td>19:34:39</td>     <th>  Log-Likelihood:    </th> <td>-4.1875e+05</td>\n",
       "</tr>\n",
       "<tr>\n",
       "  <th>No. Observations:</th>      <td>335934</td>      <th>  AIC:               </th>  <td>8.377e+05</td> \n",
       "</tr>\n",
       "<tr>\n",
       "  <th>Df Residuals:</th>          <td>335841</td>      <th>  BIC:               </th>  <td>8.387e+05</td> \n",
       "</tr>\n",
       "<tr>\n",
       "  <th>Df Model:</th>              <td>    92</td>      <th>                     </th>      <td> </td>     \n",
       "</tr>\n",
       "<tr>\n",
       "  <th>Covariance Type:</th>      <td>nonrobust</td>    <th>                     </th>      <td> </td>     \n",
       "</tr>\n",
       "</table>\n",
       "<table class=\"simpletable\">\n",
       "<tr>\n",
       "            <td></td>              <th>coef</th>     <th>std err</th>      <th>t</th>      <th>P>|t|</th>  <th>[0.025</th>    <th>0.975]</th>  \n",
       "</tr>\n",
       "<tr>\n",
       "  <th>Intercept</th>            <td>    0.3920</td> <td>    0.022</td> <td>   17.730</td> <td> 0.000</td> <td>    0.349</td> <td>    0.435</td>\n",
       "</tr>\n",
       "<tr>\n",
       "  <th>year</th>                 <td>    0.2830</td> <td>    0.002</td> <td>  163.834</td> <td> 0.000</td> <td>    0.280</td> <td>    0.286</td>\n",
       "</tr>\n",
       "<tr>\n",
       "  <th>excellent</th>            <td>   -0.1283</td> <td>    0.004</td> <td>  -32.257</td> <td> 0.000</td> <td>   -0.136</td> <td>   -0.121</td>\n",
       "</tr>\n",
       "<tr>\n",
       "  <th>fair</th>                 <td>   -0.6583</td> <td>    0.009</td> <td>  -69.631</td> <td> 0.000</td> <td>   -0.677</td> <td>   -0.640</td>\n",
       "</tr>\n",
       "<tr>\n",
       "  <th>good</th>                 <td>   -0.2713</td> <td>    0.004</td> <td>  -63.857</td> <td> 0.000</td> <td>   -0.280</td> <td>   -0.263</td>\n",
       "</tr>\n",
       "<tr>\n",
       "  <th>Q(\"like new\")</th>        <td>    0.0255</td> <td>    0.007</td> <td>    3.871</td> <td> 0.000</td> <td>    0.013</td> <td>    0.038</td>\n",
       "</tr>\n",
       "<tr>\n",
       "  <th>new</th>                  <td>    0.1195</td> <td>    0.032</td> <td>    3.790</td> <td> 0.000</td> <td>    0.058</td> <td>    0.181</td>\n",
       "</tr>\n",
       "<tr>\n",
       "  <th>salvage[0]</th>           <td>   -0.6292</td> <td>    0.034</td> <td>  -18.704</td> <td> 0.000</td> <td>   -0.695</td> <td>   -0.563</td>\n",
       "</tr>\n",
       "<tr>\n",
       "  <th>salvage[1]</th>           <td>   -0.2062</td> <td>    0.023</td> <td>   -8.861</td> <td> 0.000</td> <td>   -0.252</td> <td>   -0.161</td>\n",
       "</tr>\n",
       "<tr>\n",
       "  <th>clean</th>                <td>   -0.0822</td> <td>    0.018</td> <td>   -4.570</td> <td> 0.000</td> <td>   -0.117</td> <td>   -0.047</td>\n",
       "</tr>\n",
       "<tr>\n",
       "  <th>lien</th>                 <td>    0.3621</td> <td>    0.024</td> <td>   14.880</td> <td> 0.000</td> <td>    0.314</td> <td>    0.410</td>\n",
       "</tr>\n",
       "<tr>\n",
       "  <th>missing</th>              <td>    0.3247</td> <td>    0.042</td> <td>    7.720</td> <td> 0.000</td> <td>    0.242</td> <td>    0.407</td>\n",
       "</tr>\n",
       "<tr>\n",
       "  <th>Q(\"parts only\")</th>      <td>   -0.2260</td> <td>    0.089</td> <td>   -2.527</td> <td> 0.011</td> <td>   -0.401</td> <td>   -0.051</td>\n",
       "</tr>\n",
       "<tr>\n",
       "  <th>rebuilt</th>              <td>   -0.1078</td> <td>    0.021</td> <td>   -5.160</td> <td> 0.000</td> <td>   -0.149</td> <td>   -0.067</td>\n",
       "</tr>\n",
       "<tr>\n",
       "  <th>automatic</th>            <td>   -0.2115</td> <td>    0.008</td> <td>  -26.566</td> <td> 0.000</td> <td>   -0.227</td> <td>   -0.196</td>\n",
       "</tr>\n",
       "<tr>\n",
       "  <th>manual</th>               <td>   -0.0904</td> <td>    0.010</td> <td>   -9.362</td> <td> 0.000</td> <td>   -0.109</td> <td>   -0.072</td>\n",
       "</tr>\n",
       "<tr>\n",
       "  <th>Q(\"4wd\")</th>             <td>    0.2317</td> <td>    0.005</td> <td>   45.990</td> <td> 0.000</td> <td>    0.222</td> <td>    0.242</td>\n",
       "</tr>\n",
       "<tr>\n",
       "  <th>fwd</th>                  <td>   -0.1667</td> <td>    0.005</td> <td>  -32.362</td> <td> 0.000</td> <td>   -0.177</td> <td>   -0.157</td>\n",
       "</tr>\n",
       "<tr>\n",
       "  <th>rwd</th>                  <td>    0.1567</td> <td>    0.006</td> <td>   27.552</td> <td> 0.000</td> <td>    0.146</td> <td>    0.168</td>\n",
       "</tr>\n",
       "<tr>\n",
       "  <th>acura</th>                <td>   -0.1757</td> <td>    0.018</td> <td>   -9.993</td> <td> 0.000</td> <td>   -0.210</td> <td>   -0.141</td>\n",
       "</tr>\n",
       "<tr>\n",
       "  <th>Q(\"alfa-romeo\")</th>      <td>    0.6314</td> <td>    0.104</td> <td>    6.073</td> <td> 0.000</td> <td>    0.428</td> <td>    0.835</td>\n",
       "</tr>\n",
       "<tr>\n",
       "  <th>Q(\"aston-martin\")</th>    <td>    1.7221</td> <td>    0.243</td> <td>    7.081</td> <td> 0.000</td> <td>    1.245</td> <td>    2.199</td>\n",
       "</tr>\n",
       "<tr>\n",
       "  <th>audi</th>                 <td>   -0.0883</td> <td>    0.016</td> <td>   -5.654</td> <td> 0.000</td> <td>   -0.119</td> <td>   -0.058</td>\n",
       "</tr>\n",
       "<tr>\n",
       "  <th>bmw</th>                  <td>   -0.1370</td> <td>    0.012</td> <td>  -11.479</td> <td> 0.000</td> <td>   -0.160</td> <td>   -0.114</td>\n",
       "</tr>\n",
       "<tr>\n",
       "  <th>buick</th>                <td>   -0.1340</td> <td>    0.015</td> <td>   -8.937</td> <td> 0.000</td> <td>   -0.163</td> <td>   -0.105</td>\n",
       "</tr>\n",
       "<tr>\n",
       "  <th>cadillac</th>             <td>   -0.0236</td> <td>    0.014</td> <td>   -1.653</td> <td> 0.098</td> <td>   -0.052</td> <td>    0.004</td>\n",
       "</tr>\n",
       "<tr>\n",
       "  <th>chevrolet</th>            <td>   -0.1108</td> <td>    0.009</td> <td>  -12.747</td> <td> 0.000</td> <td>   -0.128</td> <td>   -0.094</td>\n",
       "</tr>\n",
       "<tr>\n",
       "  <th>chrysler</th>             <td>   -0.3301</td> <td>    0.014</td> <td>  -24.293</td> <td> 0.000</td> <td>   -0.357</td> <td>   -0.303</td>\n",
       "</tr>\n",
       "<tr>\n",
       "  <th>datsun</th>               <td>    0.5399</td> <td>    0.104</td> <td>    5.189</td> <td> 0.000</td> <td>    0.336</td> <td>    0.744</td>\n",
       "</tr>\n",
       "<tr>\n",
       "  <th>dodge</th>                <td>   -0.2928</td> <td>    0.011</td> <td>  -26.896</td> <td> 0.000</td> <td>   -0.314</td> <td>   -0.272</td>\n",
       "</tr>\n",
       "<tr>\n",
       "  <th>ferrari</th>              <td>   -0.6037</td> <td>    0.421</td> <td>   -1.434</td> <td> 0.152</td> <td>   -1.429</td> <td>    0.221</td>\n",
       "</tr>\n",
       "<tr>\n",
       "  <th>fiat</th>                 <td>   -0.3656</td> <td>    0.038</td> <td>   -9.587</td> <td> 0.000</td> <td>   -0.440</td> <td>   -0.291</td>\n",
       "</tr>\n",
       "<tr>\n",
       "  <th>ford</th>                 <td>   -0.1906</td> <td>    0.009</td> <td>  -22.273</td> <td> 0.000</td> <td>   -0.207</td> <td>   -0.174</td>\n",
       "</tr>\n",
       "<tr>\n",
       "  <th>gmc</th>                  <td>   -0.0440</td> <td>    0.011</td> <td>   -4.136</td> <td> 0.000</td> <td>   -0.065</td> <td>   -0.023</td>\n",
       "</tr>\n",
       "<tr>\n",
       "  <th>Q(\"harley-davidson\")</th> <td>   -0.3369</td> <td>    0.079</td> <td>   -4.267</td> <td> 0.000</td> <td>   -0.492</td> <td>   -0.182</td>\n",
       "</tr>\n",
       "<tr>\n",
       "  <th>hennessey</th>            <td>    1.9937</td> <td>    0.842</td> <td>    2.368</td> <td> 0.018</td> <td>    0.344</td> <td>    3.644</td>\n",
       "</tr>\n",
       "<tr>\n",
       "  <th>honda</th>                <td>   -0.2214</td> <td>    0.010</td> <td>  -21.557</td> <td> 0.000</td> <td>   -0.241</td> <td>   -0.201</td>\n",
       "</tr>\n",
       "<tr>\n",
       "  <th>hyundai</th>              <td>   -0.3132</td> <td>    0.012</td> <td>  -25.427</td> <td> 0.000</td> <td>   -0.337</td> <td>   -0.289</td>\n",
       "</tr>\n",
       "<tr>\n",
       "  <th>infiniti</th>             <td>   -0.1441</td> <td>    0.018</td> <td>   -7.867</td> <td> 0.000</td> <td>   -0.180</td> <td>   -0.108</td>\n",
       "</tr>\n",
       "<tr>\n",
       "  <th>jaguar</th>               <td>   -0.0025</td> <td>    0.032</td> <td>   -0.079</td> <td> 0.937</td> <td>   -0.065</td> <td>    0.060</td>\n",
       "</tr>\n",
       "<tr>\n",
       "  <th>jeep</th>                 <td>   -0.1361</td> <td>    0.011</td> <td>  -12.923</td> <td> 0.000</td> <td>   -0.157</td> <td>   -0.115</td>\n",
       "</tr>\n",
       "<tr>\n",
       "  <th>kia</th>                  <td>   -0.2975</td> <td>    0.014</td> <td>  -21.581</td> <td> 0.000</td> <td>   -0.325</td> <td>   -0.271</td>\n",
       "</tr>\n",
       "<tr>\n",
       "  <th>Q(\"land rover\")</th>      <td>   -0.0698</td> <td>    0.204</td> <td>   -0.342</td> <td> 0.732</td> <td>   -0.470</td> <td>    0.331</td>\n",
       "</tr>\n",
       "<tr>\n",
       "  <th>lexus</th>                <td>    0.0939</td> <td>    0.015</td> <td>    6.246</td> <td> 0.000</td> <td>    0.064</td> <td>    0.123</td>\n",
       "</tr>\n",
       "<tr>\n",
       "  <th>lincoln</th>              <td>   -0.1900</td> <td>    0.019</td> <td>   -9.854</td> <td> 0.000</td> <td>   -0.228</td> <td>   -0.152</td>\n",
       "</tr>\n",
       "<tr>\n",
       "  <th>mazda</th>                <td>   -0.2665</td> <td>    0.015</td> <td>  -17.662</td> <td> 0.000</td> <td>   -0.296</td> <td>   -0.237</td>\n",
       "</tr>\n",
       "<tr>\n",
       "  <th>Q(\"mercedes-benz\")</th>   <td>    0.0025</td> <td>    0.013</td> <td>    0.190</td> <td> 0.850</td> <td>   -0.023</td> <td>    0.028</td>\n",
       "</tr>\n",
       "<tr>\n",
       "  <th>mercury</th>              <td>   -0.4123</td> <td>    0.024</td> <td>  -17.121</td> <td> 0.000</td> <td>   -0.459</td> <td>   -0.365</td>\n",
       "</tr>\n",
       "<tr>\n",
       "  <th>mini</th>                 <td>   -0.2405</td> <td>    0.023</td> <td>  -10.267</td> <td> 0.000</td> <td>   -0.286</td> <td>   -0.195</td>\n",
       "</tr>\n",
       "<tr>\n",
       "  <th>mitsubishi</th>           <td>   -0.3954</td> <td>    0.021</td> <td>  -18.753</td> <td> 0.000</td> <td>   -0.437</td> <td>   -0.354</td>\n",
       "</tr>\n",
       "<tr>\n",
       "  <th>morgan</th>               <td>    3.0799</td> <td>    0.842</td> <td>    3.659</td> <td> 0.000</td> <td>    1.430</td> <td>    4.730</td>\n",
       "</tr>\n",
       "<tr>\n",
       "  <th>nissan</th>               <td>   -0.3176</td> <td>    0.010</td> <td>  -30.985</td> <td> 0.000</td> <td>   -0.338</td> <td>   -0.298</td>\n",
       "</tr>\n",
       "<tr>\n",
       "  <th>pontiac</th>              <td>   -0.2690</td> <td>    0.018</td> <td>  -14.549</td> <td> 0.000</td> <td>   -0.305</td> <td>   -0.233</td>\n",
       "</tr>\n",
       "<tr>\n",
       "  <th>porche</th>               <td>   -0.2190</td> <td>    0.234</td> <td>   -0.937</td> <td> 0.349</td> <td>   -0.677</td> <td>    0.239</td>\n",
       "</tr>\n",
       "<tr>\n",
       "  <th>ram</th>                  <td>   -0.0539</td> <td>    0.011</td> <td>   -5.053</td> <td> 0.000</td> <td>   -0.075</td> <td>   -0.033</td>\n",
       "</tr>\n",
       "<tr>\n",
       "  <th>rover</th>                <td>    0.3626</td> <td>    0.024</td> <td>   15.153</td> <td> 0.000</td> <td>    0.316</td> <td>    0.409</td>\n",
       "</tr>\n",
       "<tr>\n",
       "  <th>saturn</th>               <td>   -0.4758</td> <td>    0.025</td> <td>  -19.191</td> <td> 0.000</td> <td>   -0.524</td> <td>   -0.427</td>\n",
       "</tr>\n",
       "<tr>\n",
       "  <th>subaru</th>               <td>   -0.2622</td> <td>    0.013</td> <td>  -19.983</td> <td> 0.000</td> <td>   -0.288</td> <td>   -0.236</td>\n",
       "</tr>\n",
       "<tr>\n",
       "  <th>toyota</th>               <td>   -0.0540</td> <td>    0.010</td> <td>   -5.659</td> <td> 0.000</td> <td>   -0.073</td> <td>   -0.035</td>\n",
       "</tr>\n",
       "<tr>\n",
       "  <th>volkswagen</th>           <td>   -0.2980</td> <td>    0.013</td> <td>  -22.934</td> <td> 0.000</td> <td>   -0.323</td> <td>   -0.273</td>\n",
       "</tr>\n",
       "<tr>\n",
       "  <th>volvo</th>                <td>   -0.1578</td> <td>    0.020</td> <td>   -7.719</td> <td> 0.000</td> <td>   -0.198</td> <td>   -0.118</td>\n",
       "</tr>\n",
       "<tr>\n",
       "  <th>diesel</th>               <td>    0.5082</td> <td>    0.009</td> <td>   54.639</td> <td> 0.000</td> <td>    0.490</td> <td>    0.526</td>\n",
       "</tr>\n",
       "<tr>\n",
       "  <th>electric</th>             <td>    0.2213</td> <td>    0.038</td> <td>    5.848</td> <td> 0.000</td> <td>    0.147</td> <td>    0.295</td>\n",
       "</tr>\n",
       "<tr>\n",
       "  <th>gas</th>                  <td>   -0.0069</td> <td>    0.007</td> <td>   -0.923</td> <td> 0.356</td> <td>   -0.021</td> <td>    0.008</td>\n",
       "</tr>\n",
       "<tr>\n",
       "  <th>hybrid</th>               <td>    0.0331</td> <td>    0.018</td> <td>    1.874</td> <td> 0.061</td> <td>   -0.002</td> <td>    0.068</td>\n",
       "</tr>\n",
       "<tr>\n",
       "  <th>compact</th>              <td>   -0.2976</td> <td>    0.006</td> <td>  -46.766</td> <td> 0.000</td> <td>   -0.310</td> <td>   -0.285</td>\n",
       "</tr>\n",
       "<tr>\n",
       "  <th>Q(\"full-size\")</th>       <td>   -0.1723</td> <td>    0.004</td> <td>  -40.168</td> <td> 0.000</td> <td>   -0.181</td> <td>   -0.164</td>\n",
       "</tr>\n",
       "<tr>\n",
       "  <th>Q(\"mid-size\")</th>        <td>   -0.2219</td> <td>    0.005</td> <td>  -43.827</td> <td> 0.000</td> <td>   -0.232</td> <td>   -0.212</td>\n",
       "</tr>\n",
       "<tr>\n",
       "  <th>Q(\"sub-compact\")</th>     <td>   -0.3627</td> <td>    0.015</td> <td>  -24.706</td> <td> 0.000</td> <td>   -0.391</td> <td>   -0.334</td>\n",
       "</tr>\n",
       "<tr>\n",
       "  <th>SUV</th>                  <td>   -0.0695</td> <td>    0.005</td> <td>  -13.236</td> <td> 0.000</td> <td>   -0.080</td> <td>   -0.059</td>\n",
       "</tr>\n",
       "<tr>\n",
       "  <th>bus</th>                  <td>    0.1151</td> <td>    0.038</td> <td>    3.053</td> <td> 0.002</td> <td>    0.041</td> <td>    0.189</td>\n",
       "</tr>\n",
       "<tr>\n",
       "  <th>convertible</th>          <td>    0.3148</td> <td>    0.011</td> <td>   29.763</td> <td> 0.000</td> <td>    0.294</td> <td>    0.335</td>\n",
       "</tr>\n",
       "<tr>\n",
       "  <th>coupe</th>                <td>    0.2977</td> <td>    0.008</td> <td>   37.235</td> <td> 0.000</td> <td>    0.282</td> <td>    0.313</td>\n",
       "</tr>\n",
       "<tr>\n",
       "  <th>hatchback</th>            <td>   -0.1043</td> <td>    0.010</td> <td>  -10.899</td> <td> 0.000</td> <td>   -0.123</td> <td>   -0.086</td>\n",
       "</tr>\n",
       "<tr>\n",
       "  <th>Q(\"mini-van\")</th>        <td>   -0.0387</td> <td>    0.012</td> <td>   -3.218</td> <td> 0.001</td> <td>   -0.062</td> <td>   -0.015</td>\n",
       "</tr>\n",
       "<tr>\n",
       "  <th>offroad</th>              <td>    0.2301</td> <td>    0.031</td> <td>    7.442</td> <td> 0.000</td> <td>    0.170</td> <td>    0.291</td>\n",
       "</tr>\n",
       "<tr>\n",
       "  <th>pickup</th>               <td>    0.3944</td> <td>    0.006</td> <td>   63.144</td> <td> 0.000</td> <td>    0.382</td> <td>    0.407</td>\n",
       "</tr>\n",
       "<tr>\n",
       "  <th>sedan</th>                <td>   -0.1450</td> <td>    0.005</td> <td>  -26.682</td> <td> 0.000</td> <td>   -0.156</td> <td>   -0.134</td>\n",
       "</tr>\n",
       "<tr>\n",
       "  <th>truck</th>                <td>    0.1904</td> <td>    0.006</td> <td>   29.390</td> <td> 0.000</td> <td>    0.178</td> <td>    0.203</td>\n",
       "</tr>\n",
       "<tr>\n",
       "  <th>van</th>                  <td>    0.0499</td> <td>    0.011</td> <td>    4.671</td> <td> 0.000</td> <td>    0.029</td> <td>    0.071</td>\n",
       "</tr>\n",
       "<tr>\n",
       "  <th>wagon</th>                <td>   -0.1378</td> <td>    0.010</td> <td>  -13.788</td> <td> 0.000</td> <td>   -0.157</td> <td>   -0.118</td>\n",
       "</tr>\n",
       "<tr>\n",
       "  <th>black</th>                <td>    0.1941</td> <td>    0.005</td> <td>   38.543</td> <td> 0.000</td> <td>    0.184</td> <td>    0.204</td>\n",
       "</tr>\n",
       "<tr>\n",
       "  <th>blue</th>                 <td>    0.0877</td> <td>    0.006</td> <td>   14.243</td> <td> 0.000</td> <td>    0.076</td> <td>    0.100</td>\n",
       "</tr>\n",
       "<tr>\n",
       "  <th>brown</th>                <td>    0.1408</td> <td>    0.011</td> <td>   12.331</td> <td> 0.000</td> <td>    0.118</td> <td>    0.163</td>\n",
       "</tr>\n",
       "<tr>\n",
       "  <th>custom</th>               <td>    0.3078</td> <td>    0.010</td> <td>   29.748</td> <td> 0.000</td> <td>    0.287</td> <td>    0.328</td>\n",
       "</tr>\n",
       "<tr>\n",
       "  <th>green</th>                <td>    0.0273</td> <td>    0.010</td> <td>    2.694</td> <td> 0.007</td> <td>    0.007</td> <td>    0.047</td>\n",
       "</tr>\n",
       "<tr>\n",
       "  <th>grey</th>                 <td>    0.1245</td> <td>    0.006</td> <td>   19.407</td> <td> 0.000</td> <td>    0.112</td> <td>    0.137</td>\n",
       "</tr>\n",
       "<tr>\n",
       "  <th>orange</th>               <td>    0.3163</td> <td>    0.020</td> <td>   15.509</td> <td> 0.000</td> <td>    0.276</td> <td>    0.356</td>\n",
       "</tr>\n",
       "<tr>\n",
       "  <th>purple</th>               <td>    0.1920</td> <td>    0.031</td> <td>    6.128</td> <td> 0.000</td> <td>    0.131</td> <td>    0.253</td>\n",
       "</tr>\n",
       "<tr>\n",
       "  <th>red</th>                  <td>    0.1498</td> <td>    0.006</td> <td>   24.178</td> <td> 0.000</td> <td>    0.138</td> <td>    0.162</td>\n",
       "</tr>\n",
       "<tr>\n",
       "  <th>silver</th>               <td>    0.0695</td> <td>    0.006</td> <td>   12.611</td> <td> 0.000</td> <td>    0.059</td> <td>    0.080</td>\n",
       "</tr>\n",
       "<tr>\n",
       "  <th>white</th>                <td>    0.1679</td> <td>    0.005</td> <td>   34.386</td> <td> 0.000</td> <td>    0.158</td> <td>    0.177</td>\n",
       "</tr>\n",
       "<tr>\n",
       "  <th>yellow</th>               <td>    0.2679</td> <td>    0.018</td> <td>   14.958</td> <td> 0.000</td> <td>    0.233</td> <td>    0.303</td>\n",
       "</tr>\n",
       "</table>\n",
       "<table class=\"simpletable\">\n",
       "<tr>\n",
       "  <th>Omnibus:</th>       <td>33144.849</td> <th>  Durbin-Watson:     </th> <td>   1.587</td> \n",
       "</tr>\n",
       "<tr>\n",
       "  <th>Prob(Omnibus):</th>  <td> 0.000</td>   <th>  Jarque-Bera (JB):  </th> <td>69119.441</td>\n",
       "</tr>\n",
       "<tr>\n",
       "  <th>Skew:</th>           <td> 0.637</td>   <th>  Prob(JB):          </th> <td>    0.00</td> \n",
       "</tr>\n",
       "<tr>\n",
       "  <th>Kurtosis:</th>       <td> 4.820</td>   <th>  Cond. No.          </th> <td>1.21e+03</td> \n",
       "</tr>\n",
       "</table><br/><br/>Warnings:<br/>[1] Standard Errors assume that the covariance matrix of the errors is correctly specified.<br/>[2] The condition number is large, 1.21e+03. This might indicate that there are<br/>strong multicollinearity or other numerical problems."
      ],
      "text/plain": [
       "<class 'statsmodels.iolib.summary.Summary'>\n",
       "\"\"\"\n",
       "                            OLS Regression Results                            \n",
       "==============================================================================\n",
       "Dep. Variable:                  price   R-squared:                       0.292\n",
       "Model:                            OLS   Adj. R-squared:                  0.291\n",
       "Method:                 Least Squares   F-statistic:                     1503.\n",
       "Date:                Mon, 24 Feb 2020   Prob (F-statistic):               0.00\n",
       "Time:                        19:34:39   Log-Likelihood:            -4.1875e+05\n",
       "No. Observations:              335934   AIC:                         8.377e+05\n",
       "Df Residuals:                  335841   BIC:                         8.387e+05\n",
       "Df Model:                          92                                         \n",
       "Covariance Type:            nonrobust                                         \n",
       "========================================================================================\n",
       "                           coef    std err          t      P>|t|      [0.025      0.975]\n",
       "----------------------------------------------------------------------------------------\n",
       "Intercept                0.3920      0.022     17.730      0.000       0.349       0.435\n",
       "year                     0.2830      0.002    163.834      0.000       0.280       0.286\n",
       "excellent               -0.1283      0.004    -32.257      0.000      -0.136      -0.121\n",
       "fair                    -0.6583      0.009    -69.631      0.000      -0.677      -0.640\n",
       "good                    -0.2713      0.004    -63.857      0.000      -0.280      -0.263\n",
       "Q(\"like new\")            0.0255      0.007      3.871      0.000       0.013       0.038\n",
       "new                      0.1195      0.032      3.790      0.000       0.058       0.181\n",
       "salvage[0]              -0.6292      0.034    -18.704      0.000      -0.695      -0.563\n",
       "salvage[1]              -0.2062      0.023     -8.861      0.000      -0.252      -0.161\n",
       "clean                   -0.0822      0.018     -4.570      0.000      -0.117      -0.047\n",
       "lien                     0.3621      0.024     14.880      0.000       0.314       0.410\n",
       "missing                  0.3247      0.042      7.720      0.000       0.242       0.407\n",
       "Q(\"parts only\")         -0.2260      0.089     -2.527      0.011      -0.401      -0.051\n",
       "rebuilt                 -0.1078      0.021     -5.160      0.000      -0.149      -0.067\n",
       "automatic               -0.2115      0.008    -26.566      0.000      -0.227      -0.196\n",
       "manual                  -0.0904      0.010     -9.362      0.000      -0.109      -0.072\n",
       "Q(\"4wd\")                 0.2317      0.005     45.990      0.000       0.222       0.242\n",
       "fwd                     -0.1667      0.005    -32.362      0.000      -0.177      -0.157\n",
       "rwd                      0.1567      0.006     27.552      0.000       0.146       0.168\n",
       "acura                   -0.1757      0.018     -9.993      0.000      -0.210      -0.141\n",
       "Q(\"alfa-romeo\")          0.6314      0.104      6.073      0.000       0.428       0.835\n",
       "Q(\"aston-martin\")        1.7221      0.243      7.081      0.000       1.245       2.199\n",
       "audi                    -0.0883      0.016     -5.654      0.000      -0.119      -0.058\n",
       "bmw                     -0.1370      0.012    -11.479      0.000      -0.160      -0.114\n",
       "buick                   -0.1340      0.015     -8.937      0.000      -0.163      -0.105\n",
       "cadillac                -0.0236      0.014     -1.653      0.098      -0.052       0.004\n",
       "chevrolet               -0.1108      0.009    -12.747      0.000      -0.128      -0.094\n",
       "chrysler                -0.3301      0.014    -24.293      0.000      -0.357      -0.303\n",
       "datsun                   0.5399      0.104      5.189      0.000       0.336       0.744\n",
       "dodge                   -0.2928      0.011    -26.896      0.000      -0.314      -0.272\n",
       "ferrari                 -0.6037      0.421     -1.434      0.152      -1.429       0.221\n",
       "fiat                    -0.3656      0.038     -9.587      0.000      -0.440      -0.291\n",
       "ford                    -0.1906      0.009    -22.273      0.000      -0.207      -0.174\n",
       "gmc                     -0.0440      0.011     -4.136      0.000      -0.065      -0.023\n",
       "Q(\"harley-davidson\")    -0.3369      0.079     -4.267      0.000      -0.492      -0.182\n",
       "hennessey                1.9937      0.842      2.368      0.018       0.344       3.644\n",
       "honda                   -0.2214      0.010    -21.557      0.000      -0.241      -0.201\n",
       "hyundai                 -0.3132      0.012    -25.427      0.000      -0.337      -0.289\n",
       "infiniti                -0.1441      0.018     -7.867      0.000      -0.180      -0.108\n",
       "jaguar                  -0.0025      0.032     -0.079      0.937      -0.065       0.060\n",
       "jeep                    -0.1361      0.011    -12.923      0.000      -0.157      -0.115\n",
       "kia                     -0.2975      0.014    -21.581      0.000      -0.325      -0.271\n",
       "Q(\"land rover\")         -0.0698      0.204     -0.342      0.732      -0.470       0.331\n",
       "lexus                    0.0939      0.015      6.246      0.000       0.064       0.123\n",
       "lincoln                 -0.1900      0.019     -9.854      0.000      -0.228      -0.152\n",
       "mazda                   -0.2665      0.015    -17.662      0.000      -0.296      -0.237\n",
       "Q(\"mercedes-benz\")       0.0025      0.013      0.190      0.850      -0.023       0.028\n",
       "mercury                 -0.4123      0.024    -17.121      0.000      -0.459      -0.365\n",
       "mini                    -0.2405      0.023    -10.267      0.000      -0.286      -0.195\n",
       "mitsubishi              -0.3954      0.021    -18.753      0.000      -0.437      -0.354\n",
       "morgan                   3.0799      0.842      3.659      0.000       1.430       4.730\n",
       "nissan                  -0.3176      0.010    -30.985      0.000      -0.338      -0.298\n",
       "pontiac                 -0.2690      0.018    -14.549      0.000      -0.305      -0.233\n",
       "porche                  -0.2190      0.234     -0.937      0.349      -0.677       0.239\n",
       "ram                     -0.0539      0.011     -5.053      0.000      -0.075      -0.033\n",
       "rover                    0.3626      0.024     15.153      0.000       0.316       0.409\n",
       "saturn                  -0.4758      0.025    -19.191      0.000      -0.524      -0.427\n",
       "subaru                  -0.2622      0.013    -19.983      0.000      -0.288      -0.236\n",
       "toyota                  -0.0540      0.010     -5.659      0.000      -0.073      -0.035\n",
       "volkswagen              -0.2980      0.013    -22.934      0.000      -0.323      -0.273\n",
       "volvo                   -0.1578      0.020     -7.719      0.000      -0.198      -0.118\n",
       "diesel                   0.5082      0.009     54.639      0.000       0.490       0.526\n",
       "electric                 0.2213      0.038      5.848      0.000       0.147       0.295\n",
       "gas                     -0.0069      0.007     -0.923      0.356      -0.021       0.008\n",
       "hybrid                   0.0331      0.018      1.874      0.061      -0.002       0.068\n",
       "compact                 -0.2976      0.006    -46.766      0.000      -0.310      -0.285\n",
       "Q(\"full-size\")          -0.1723      0.004    -40.168      0.000      -0.181      -0.164\n",
       "Q(\"mid-size\")           -0.2219      0.005    -43.827      0.000      -0.232      -0.212\n",
       "Q(\"sub-compact\")        -0.3627      0.015    -24.706      0.000      -0.391      -0.334\n",
       "SUV                     -0.0695      0.005    -13.236      0.000      -0.080      -0.059\n",
       "bus                      0.1151      0.038      3.053      0.002       0.041       0.189\n",
       "convertible              0.3148      0.011     29.763      0.000       0.294       0.335\n",
       "coupe                    0.2977      0.008     37.235      0.000       0.282       0.313\n",
       "hatchback               -0.1043      0.010    -10.899      0.000      -0.123      -0.086\n",
       "Q(\"mini-van\")           -0.0387      0.012     -3.218      0.001      -0.062      -0.015\n",
       "offroad                  0.2301      0.031      7.442      0.000       0.170       0.291\n",
       "pickup                   0.3944      0.006     63.144      0.000       0.382       0.407\n",
       "sedan                   -0.1450      0.005    -26.682      0.000      -0.156      -0.134\n",
       "truck                    0.1904      0.006     29.390      0.000       0.178       0.203\n",
       "van                      0.0499      0.011      4.671      0.000       0.029       0.071\n",
       "wagon                   -0.1378      0.010    -13.788      0.000      -0.157      -0.118\n",
       "black                    0.1941      0.005     38.543      0.000       0.184       0.204\n",
       "blue                     0.0877      0.006     14.243      0.000       0.076       0.100\n",
       "brown                    0.1408      0.011     12.331      0.000       0.118       0.163\n",
       "custom                   0.3078      0.010     29.748      0.000       0.287       0.328\n",
       "green                    0.0273      0.010      2.694      0.007       0.007       0.047\n",
       "grey                     0.1245      0.006     19.407      0.000       0.112       0.137\n",
       "orange                   0.3163      0.020     15.509      0.000       0.276       0.356\n",
       "purple                   0.1920      0.031      6.128      0.000       0.131       0.253\n",
       "red                      0.1498      0.006     24.178      0.000       0.138       0.162\n",
       "silver                   0.0695      0.006     12.611      0.000       0.059       0.080\n",
       "white                    0.1679      0.005     34.386      0.000       0.158       0.177\n",
       "yellow                   0.2679      0.018     14.958      0.000       0.233       0.303\n",
       "==============================================================================\n",
       "Omnibus:                    33144.849   Durbin-Watson:                   1.587\n",
       "Prob(Omnibus):                  0.000   Jarque-Bera (JB):            69119.441\n",
       "Skew:                           0.637   Prob(JB):                         0.00\n",
       "Kurtosis:                       4.820   Cond. No.                     1.21e+03\n",
       "==============================================================================\n",
       "\n",
       "Warnings:\n",
       "[1] Standard Errors assume that the covariance matrix of the errors is correctly specified.\n",
       "[2] The condition number is large, 1.21e+03. This might indicate that there are\n",
       "strong multicollinearity or other numerical problems.\n",
       "\"\"\""
      ]
     },
     "execution_count": 36,
     "metadata": {},
     "output_type": "execute_result"
    }
   ],
   "source": [
    "comparison_model = 'price~year'\n",
    "problematic_columns = set(['4wd', 'alfa-romeo', 'aston-martin', 'harley-davidson',\n",
    "                           'mercedes-benz', 'full-size', 'mid-size', 'sub-compact', 'mini-van'])\n",
    "for col in X.columns[1:]:\n",
    "    if len(col.split()) == 1 and col not in problematic_columns:\n",
    "        comparison_model = comparison_model + ' + ' + col\n",
    "    else:\n",
    "        comparison_model = comparison_model + ' + Q(\"' + col + '\")'\n",
    "\n",
    "lml = sm.ols(formula=comparison_model, data=pd.concat([X, y], axis=1)).fit()\n",
    "lml.summary()"
   ]
  },
  {
   "cell_type": "code",
   "execution_count": 37,
   "metadata": {
    "ExecuteTime": {
     "end_time": "2020-02-25T00:35:28.059449Z",
     "start_time": "2020-02-25T00:35:27.377329Z"
    }
   },
   "outputs": [
    {
     "data": {
      "text/plain": [
       "0.713143388089478"
      ]
     },
     "execution_count": 37,
     "metadata": {},
     "output_type": "execute_result"
    }
   ],
   "source": [
    "pred = lml.predict(X_test)\n",
    "mse(pred, y_test)"
   ]
  },
  {
   "cell_type": "markdown",
   "metadata": {},
   "source": [
    "La red de 3 capas realiza un ajuste mejor que la regresión."
   ]
  },
  {
   "cell_type": "markdown",
   "metadata": {},
   "source": [
    "## El lado oscuro de las redes neuronales (15 mts)"
   ]
  },
  {
   "cell_type": "markdown",
   "metadata": {},
   "source": [
    "Pareciera que una red neuronal es capaz de resolver cualquier problema, puesto que parece ser infinitamente flexible sin mucho esfuerzo en la configuración de los parámetros.\n",
    "\n",
    "Esto no es cierto:"
   ]
  },
  {
   "cell_type": "markdown",
   "metadata": {},
   "source": [
    "### Exercise 6: (10 mts)\n",
    "\n",
    "Ajusta una red de 10 capas."
   ]
  },
  {
   "cell_type": "markdown",
   "metadata": {},
   "source": [
    "**Respuesta.**"
   ]
  },
  {
   "cell_type": "code",
   "execution_count": 38,
   "metadata": {
    "ExecuteTime": {
     "end_time": "2020-02-25T00:36:54.105531Z",
     "start_time": "2020-02-25T00:36:53.979587Z"
    }
   },
   "outputs": [],
   "source": [
    "stupid_model = keras.Sequential([layers.Dense(10000, activation='relu', input_shape=[len(X.columns),])])\n",
    "stupid_model = keras.Sequential([layers.Dense(5000, activation='relu', input_shape=[len(X.columns),])])\n",
    "stupid_model = keras.Sequential([layers.Dense(2000, activation='relu', input_shape=[len(X.columns),])])\n",
    "for _ in np.arange(8):\n",
    "    stupid_model.add(layers.Dense(100, activation='relu'))\n",
    "stupid_model.add(layers.Dense(1))\n",
    "\n",
    "stupid_model.compile(loss='mse', optimizer='adam')"
   ]
  },
  {
   "cell_type": "code",
   "execution_count": 39,
   "metadata": {
    "ExecuteTime": {
     "end_time": "2020-02-25T00:38:27.561713Z",
     "start_time": "2020-02-25T00:37:05.047544Z"
    },
    "scrolled": true
   },
   "outputs": [
    {
     "name": "stdout",
     "output_type": "stream",
     "text": [
      "Train on 16000 samples, validate on 4000 samples\n",
      "Epoch 1/100\n",
      "16000/16000 [==============================] - 2s 118us/sample - loss: 0.7174 - val_loss: 0.6556\n",
      "Epoch 2/100\n",
      "16000/16000 [==============================] - 1s 44us/sample - loss: 0.4784 - val_loss: 0.5839\n",
      "Epoch 3/100\n",
      "16000/16000 [==============================] - 1s 48us/sample - loss: 0.4099 - val_loss: 0.5630\n",
      "Epoch 4/100\n",
      "16000/16000 [==============================] - 1s 50us/sample - loss: 0.3876 - val_loss: 0.5853\n",
      "Epoch 5/100\n",
      "16000/16000 [==============================] - 1s 50us/sample - loss: 0.3644 - val_loss: 0.5655\n",
      "Epoch 6/100\n",
      "16000/16000 [==============================] - 1s 54us/sample - loss: 0.3441 - val_loss: 0.5706\n",
      "Epoch 7/100\n",
      "16000/16000 [==============================] - 1s 54us/sample - loss: 0.3333 - val_loss: 0.5652\n",
      "Epoch 8/100\n",
      "16000/16000 [==============================] - 1s 49us/sample - loss: 0.3248 - val_loss: 0.5736\n",
      "Epoch 9/100\n",
      "16000/16000 [==============================] - 1s 46us/sample - loss: 0.3019 - val_loss: 0.5979\n",
      "Epoch 10/100\n",
      "16000/16000 [==============================] - 1s 53us/sample - loss: 0.2867 - val_loss: 0.5884\n",
      "Epoch 11/100\n",
      "16000/16000 [==============================] - 1s 49us/sample - loss: 0.2719 - val_loss: 0.6286\n",
      "Epoch 12/100\n",
      "16000/16000 [==============================] - 1s 44us/sample - loss: 0.2614 - val_loss: 0.6008\n",
      "Epoch 13/100\n",
      "16000/16000 [==============================] - 1s 50us/sample - loss: 0.2480 - val_loss: 0.6385\n",
      "Epoch 14/100\n",
      "16000/16000 [==============================] - 1s 45us/sample - loss: 0.2490 - val_loss: 0.6526\n",
      "Epoch 15/100\n",
      "16000/16000 [==============================] - 1s 50us/sample - loss: 0.2346 - val_loss: 0.6549\n",
      "Epoch 16/100\n",
      "16000/16000 [==============================] - 1s 52us/sample - loss: 0.2293 - val_loss: 0.7014\n",
      "Epoch 17/100\n",
      "16000/16000 [==============================] - 1s 45us/sample - loss: 0.2238 - val_loss: 0.6846\n",
      "Epoch 18/100\n",
      "16000/16000 [==============================] - 1s 55us/sample - loss: 0.2024 - val_loss: 0.6962\n",
      "Epoch 19/100\n",
      "16000/16000 [==============================] - 1s 49us/sample - loss: 0.1884 - val_loss: 0.6718\n",
      "Epoch 20/100\n",
      "16000/16000 [==============================] - 1s 52us/sample - loss: 0.1961 - val_loss: 0.6876\n",
      "Epoch 21/100\n",
      "16000/16000 [==============================] - 1s 51us/sample - loss: 0.1767 - val_loss: 0.6713\n",
      "Epoch 22/100\n",
      "16000/16000 [==============================] - 1s 44us/sample - loss: 0.1867 - val_loss: 0.6722\n",
      "Epoch 23/100\n",
      "16000/16000 [==============================] - 1s 51us/sample - loss: 0.1699 - val_loss: 0.6851\n",
      "Epoch 24/100\n",
      "16000/16000 [==============================] - 1s 51us/sample - loss: 0.1636 - val_loss: 0.6644\n",
      "Epoch 25/100\n",
      "16000/16000 [==============================] - 1s 50us/sample - loss: 0.1617 - val_loss: 0.7587\n",
      "Epoch 26/100\n",
      "16000/16000 [==============================] - 1s 49us/sample - loss: 0.1582 - val_loss: 0.7559\n",
      "Epoch 27/100\n",
      "16000/16000 [==============================] - 1s 45us/sample - loss: 0.1557 - val_loss: 0.6967\n",
      "Epoch 28/100\n",
      "16000/16000 [==============================] - 1s 49us/sample - loss: 0.1523 - val_loss: 0.6830\n",
      "Epoch 29/100\n",
      "16000/16000 [==============================] - 1s 49us/sample - loss: 0.1462 - val_loss: 0.6875\n",
      "Epoch 30/100\n",
      "16000/16000 [==============================] - 1s 46us/sample - loss: 0.1435 - val_loss: 0.7432\n",
      "Epoch 31/100\n",
      "16000/16000 [==============================] - 1s 49us/sample - loss: 0.1518 - val_loss: 0.7106\n",
      "Epoch 32/100\n",
      "16000/16000 [==============================] - 1s 44us/sample - loss: 0.1450 - val_loss: 0.7261\n",
      "Epoch 33/100\n",
      "16000/16000 [==============================] - 1s 49us/sample - loss: 0.1381 - val_loss: 0.7311\n",
      "Epoch 34/100\n",
      "16000/16000 [==============================] - 1s 49us/sample - loss: 0.1284 - val_loss: 0.6750\n",
      "Epoch 35/100\n",
      "16000/16000 [==============================] - 1s 44us/sample - loss: 0.1295 - val_loss: 0.7165\n",
      "Epoch 36/100\n",
      "16000/16000 [==============================] - 1s 49us/sample - loss: 0.1476 - val_loss: 0.6847\n",
      "Epoch 37/100\n",
      "16000/16000 [==============================] - 1s 48us/sample - loss: 0.1584 - val_loss: 0.7388\n",
      "Epoch 38/100\n",
      "16000/16000 [==============================] - 1s 53us/sample - loss: 0.1370 - val_loss: 0.6888\n",
      "Epoch 39/100\n",
      "16000/16000 [==============================] - 1s 54us/sample - loss: 0.1329 - val_loss: 0.7096\n",
      "Epoch 40/100\n",
      "16000/16000 [==============================] - 1s 49us/sample - loss: 0.1228 - val_loss: 0.7231\n",
      "Epoch 41/100\n",
      "16000/16000 [==============================] - 1s 52us/sample - loss: 0.1210 - val_loss: 0.6989\n",
      "Epoch 42/100\n",
      "16000/16000 [==============================] - 1s 50us/sample - loss: 0.1184 - val_loss: 0.7058\n",
      "Epoch 43/100\n",
      "16000/16000 [==============================] - 1s 55us/sample - loss: 0.1171 - val_loss: 0.7033\n",
      "Epoch 44/100\n",
      "16000/16000 [==============================] - 1s 53us/sample - loss: 0.1160 - val_loss: 0.7165\n",
      "Epoch 45/100\n",
      "16000/16000 [==============================] - 1s 48us/sample - loss: 0.1103 - val_loss: 0.7584\n",
      "Epoch 46/100\n",
      "16000/16000 [==============================] - 1s 51us/sample - loss: 0.1129 - val_loss: 0.7248\n",
      "Epoch 47/100\n",
      "16000/16000 [==============================] - 1s 48us/sample - loss: 0.1109 - val_loss: 0.7306\n",
      "Epoch 48/100\n",
      "16000/16000 [==============================] - 1s 52us/sample - loss: 0.1105 - val_loss: 0.7334\n",
      "Epoch 49/100\n",
      "16000/16000 [==============================] - 1s 51us/sample - loss: 0.1024 - val_loss: 0.7396\n",
      "Epoch 50/100\n",
      "16000/16000 [==============================] - 1s 48us/sample - loss: 0.1049 - val_loss: 0.7515\n",
      "Epoch 51/100\n",
      "16000/16000 [==============================] - 1s 51us/sample - loss: 0.1072 - val_loss: 0.7605\n",
      "Epoch 52/100\n",
      "16000/16000 [==============================] - 1s 47us/sample - loss: 0.1042 - val_loss: 0.7158\n",
      "Epoch 53/100\n",
      "16000/16000 [==============================] - 1s 54us/sample - loss: 0.1039 - val_loss: 0.7291\n",
      "Epoch 54/100\n",
      "16000/16000 [==============================] - 1s 55us/sample - loss: 0.1025 - val_loss: 0.7312\n",
      "Epoch 55/100\n",
      "16000/16000 [==============================] - 1s 57us/sample - loss: 0.1002 - val_loss: 0.7474\n",
      "Epoch 56/100\n",
      "16000/16000 [==============================] - 1s 58us/sample - loss: 0.1020 - val_loss: 0.7119\n",
      "Epoch 57/100\n",
      "16000/16000 [==============================] - 1s 52us/sample - loss: 0.1035 - val_loss: 0.7337\n",
      "Epoch 58/100\n",
      "16000/16000 [==============================] - 1s 56us/sample - loss: 0.1030 - val_loss: 0.6835\n",
      "Epoch 59/100\n",
      "16000/16000 [==============================] - 1s 50us/sample - loss: 0.0996 - val_loss: 0.6813\n",
      "Epoch 60/100\n",
      "16000/16000 [==============================] - 1s 58us/sample - loss: 0.0970 - val_loss: 0.7266\n",
      "Epoch 61/100\n",
      "16000/16000 [==============================] - 1s 52us/sample - loss: 0.0996 - val_loss: 0.7385\n",
      "Epoch 62/100\n",
      "16000/16000 [==============================] - 1s 55us/sample - loss: 0.0974 - val_loss: 0.7127\n",
      "Epoch 63/100\n",
      "16000/16000 [==============================] - 1s 53us/sample - loss: 0.1028 - val_loss: 0.6748\n",
      "Epoch 64/100\n",
      "16000/16000 [==============================] - 1s 53us/sample - loss: 0.0962 - val_loss: 0.7009\n",
      "Epoch 65/100\n",
      "16000/16000 [==============================] - 1s 52us/sample - loss: 0.0997 - val_loss: 0.7005\n",
      "Epoch 66/100\n",
      "16000/16000 [==============================] - 1s 48us/sample - loss: 0.0960 - val_loss: 0.7160\n",
      "Epoch 67/100\n",
      "16000/16000 [==============================] - 1s 54us/sample - loss: 0.0990 - val_loss: 0.7195\n",
      "Epoch 68/100\n",
      "16000/16000 [==============================] - 1s 51us/sample - loss: 0.0914 - val_loss: 0.7459\n",
      "Epoch 69/100\n",
      "16000/16000 [==============================] - 1s 51us/sample - loss: 0.0912 - val_loss: 0.7257\n",
      "Epoch 70/100\n",
      "16000/16000 [==============================] - 1s 52us/sample - loss: 0.0914 - val_loss: 0.7023\n",
      "Epoch 71/100\n",
      "16000/16000 [==============================] - 1s 47us/sample - loss: 0.0907 - val_loss: 0.7034\n",
      "Epoch 72/100\n",
      "16000/16000 [==============================] - 1s 51us/sample - loss: 0.0912 - val_loss: 0.7001\n",
      "Epoch 73/100\n",
      "16000/16000 [==============================] - 1s 50us/sample - loss: 0.0865 - val_loss: 0.7461\n",
      "Epoch 74/100\n",
      "16000/16000 [==============================] - 1s 51us/sample - loss: 0.0933 - val_loss: 0.7507\n",
      "Epoch 75/100\n",
      "16000/16000 [==============================] - 1s 53us/sample - loss: 0.0924 - val_loss: 0.7161\n"
     ]
    },
    {
     "name": "stdout",
     "output_type": "stream",
     "text": [
      "Epoch 76/100\n",
      "16000/16000 [==============================] - 1s 45us/sample - loss: 0.0870 - val_loss: 0.7374\n",
      "Epoch 77/100\n",
      "16000/16000 [==============================] - 1s 51us/sample - loss: 0.0836 - val_loss: 0.7208\n",
      "Epoch 78/100\n",
      "16000/16000 [==============================] - 1s 48us/sample - loss: 0.0831 - val_loss: 0.7455\n",
      "Epoch 79/100\n",
      "16000/16000 [==============================] - 1s 52us/sample - loss: 0.0803 - val_loss: 0.7259\n",
      "Epoch 80/100\n",
      "16000/16000 [==============================] - 1s 59us/sample - loss: 0.0784 - val_loss: 0.7579\n",
      "Epoch 81/100\n",
      "16000/16000 [==============================] - 1s 50us/sample - loss: 0.0813 - val_loss: 0.7451\n",
      "Epoch 82/100\n",
      "16000/16000 [==============================] - 1s 54us/sample - loss: 0.0780 - val_loss: 0.7117\n",
      "Epoch 83/100\n",
      "16000/16000 [==============================] - 1s 49us/sample - loss: 0.0807 - val_loss: 0.7594\n",
      "Epoch 84/100\n",
      "16000/16000 [==============================] - 1s 56us/sample - loss: 0.0838 - val_loss: 0.7352\n",
      "Epoch 85/100\n",
      "16000/16000 [==============================] - 1s 50us/sample - loss: 0.0790 - val_loss: 0.7054\n",
      "Epoch 86/100\n",
      "16000/16000 [==============================] - 1s 50us/sample - loss: 0.0804 - val_loss: 0.7101\n",
      "Epoch 87/100\n",
      "16000/16000 [==============================] - 1s 55us/sample - loss: 0.0837 - val_loss: 0.7695\n",
      "Epoch 88/100\n",
      "16000/16000 [==============================] - 1s 50us/sample - loss: 0.0813 - val_loss: 0.7281\n",
      "Epoch 89/100\n",
      "16000/16000 [==============================] - 1s 54us/sample - loss: 0.0789 - val_loss: 0.7274\n",
      "Epoch 90/100\n",
      "16000/16000 [==============================] - 1s 50us/sample - loss: 0.0772 - val_loss: 0.7484\n",
      "Epoch 91/100\n",
      "16000/16000 [==============================] - 1s 53us/sample - loss: 0.0784 - val_loss: 0.7541\n",
      "Epoch 92/100\n",
      "16000/16000 [==============================] - 1s 53us/sample - loss: 0.0829 - val_loss: 0.7103\n",
      "Epoch 93/100\n",
      "16000/16000 [==============================] - 1s 51us/sample - loss: 0.0932 - val_loss: 0.7117\n",
      "Epoch 94/100\n",
      "16000/16000 [==============================] - 1s 52us/sample - loss: 0.0899 - val_loss: 0.7240\n",
      "Epoch 95/100\n",
      "16000/16000 [==============================] - 1s 49us/sample - loss: 0.0827 - val_loss: 0.7142\n",
      "Epoch 96/100\n",
      "16000/16000 [==============================] - 1s 54us/sample - loss: 0.0787 - val_loss: 0.7751\n",
      "Epoch 97/100\n",
      "16000/16000 [==============================] - 1s 50us/sample - loss: 0.0776 - val_loss: 0.7555A: 0s - loss: 0.0\n",
      "Epoch 98/100\n",
      "16000/16000 [==============================] - 1s 50us/sample - loss: 0.0789 - val_loss: 0.7500\n",
      "Epoch 99/100\n",
      "16000/16000 [==============================] - 1s 51us/sample - loss: 0.0758 - val_loss: 0.7309\n",
      "Epoch 100/100\n",
      "16000/16000 [==============================] - 1s 49us/sample - loss: 0.0763 - val_loss: 0.7383\n"
     ]
    },
    {
     "data": {
      "text/plain": [
       "<tensorflow.python.keras.callbacks.History at 0x17f69dbca08>"
      ]
     },
     "execution_count": 39,
     "metadata": {},
     "output_type": "execute_result"
    }
   ],
   "source": [
    "stupid_model.fit(X.iloc[:20000], y.iloc[:20000], epochs=100, validation_split=0.2, verbose=1, batch_size=1000)"
   ]
  },
  {
   "cell_type": "markdown",
   "metadata": {},
   "source": [
    "Evaluemos el modelo con datos que no conoce:"
   ]
  },
  {
   "cell_type": "code",
   "execution_count": 40,
   "metadata": {
    "ExecuteTime": {
     "end_time": "2020-02-25T00:39:02.613595Z",
     "start_time": "2020-02-25T00:38:56.911697Z"
    }
   },
   "outputs": [
    {
     "name": "stdout",
     "output_type": "stream",
     "text": [
      "98608/98608 [==============================] - 6s 57us/sample - loss: 0.6843\n"
     ]
    },
    {
     "data": {
      "text/plain": [
       "0.6843401661326161"
      ]
     },
     "execution_count": 40,
     "metadata": {},
     "output_type": "execute_result"
    }
   ],
   "source": [
    "stupid_model.evaluate(X_test, y_test)"
   ]
  },
  {
   "cell_type": "markdown",
   "metadata": {},
   "source": [
    "¿Qué sucedió? El modelo sufre de sobreajuste. Pero claro, también se sobreajustan modelos de regresión lineal y logística, ¿por qué es particularmente malo que ocurra con redes neuronales?"
   ]
  },
  {
   "cell_type": "markdown",
   "metadata": {},
   "source": [
    "### Exercise 7: (5 mts)\n",
    "\n",
    "¿Cuál de los siguientes es un inconveniente de resolver este problema con una red neuronal en lugar de una regresión lineal?\n",
    "\n",
    "I. Falta de transparencia en el algoritmo\n",
    "\n",
    "II. Dificultad de usar\n",
    "\n",
    "III. Velocidad de ejecución"
   ]
  },
  {
   "cell_type": "markdown",
   "metadata": {},
   "source": [
    "**Respuesta.** I correcto, Falta de transparencia que hace difícil mejorar sus resultados. II es incorrecto – Lo más difícil es ajustar los parámetros, lo cual puede ser tedioso pero no difícil. III es una dificultad potencial, entre más complejo sea el problema mayor tiempo conlleva entrenar."
   ]
  },
  {
   "cell_type": "markdown",
   "metadata": {},
   "source": [
    "El reto se encuentra en la naturaleza de **caja negra** de las redes neuronales. Como la matemática no es tan intuitiva, requiere tiempo y esfuerzo determinar los mejores parámetros u optimizadores. Aun más, si el modelo se sobreajusta, es mucho más difícil interpretar, diagnosticar y mejorar en comparación a un modelo de regresión."
   ]
  },
  {
   "cell_type": "markdown",
   "metadata": {},
   "source": [
    "## Conclusiones (5 mts)\n",
    "\n",
    "Vimos los alcances de la regresión lineal ante datos con no-linearidad. Usando una red neuronal simple, la predicción mejoró bastante. Pero también vimos que las redes se encuentran en desventaja en cuanto a interpretabilidad."
   ]
  },
  {
   "cell_type": "markdown",
   "metadata": {},
   "source": [
    "## Aprendizajes (5 mts)\n",
    "\n",
    "Aspectos importantes:\n",
    "\n",
    "1. Las redes neuronales pueden interpretar transformaciones sobre los datos como información relevante\n",
    "2. En algunas ocasiones, una red neuronal puede ser más eficiente que la ingeniería de características\n",
    "3. La mayor desventaja de las redes es su baja interpretabilidad, pero su mayor ventaja es su alta flexibilidad ante problemas complejos"
   ]
  }
 ],
 "metadata": {
  "kernelspec": {
   "display_name": "Python 3",
   "language": "python",
   "name": "python3"
  },
  "language_info": {
   "codemirror_mode": {
    "name": "ipython",
    "version": 3
   },
   "file_extension": ".py",
   "mimetype": "text/x-python",
   "name": "python",
   "nbconvert_exporter": "python",
   "pygments_lexer": "ipython3",
   "version": "3.7.5"
  },
  "varInspector": {
   "cols": {
    "lenName": 16,
    "lenType": 16,
    "lenVar": 40
   },
   "kernels_config": {
    "python": {
     "delete_cmd_postfix": "",
     "delete_cmd_prefix": "del ",
     "library": "var_list.py",
     "varRefreshCmd": "print(var_dic_list())"
    },
    "r": {
     "delete_cmd_postfix": ") ",
     "delete_cmd_prefix": "rm(",
     "library": "var_list.r",
     "varRefreshCmd": "cat(var_dic_list()) "
    }
   },
   "types_to_exclude": [
    "module",
    "function",
    "builtin_function_or_method",
    "instance",
    "_Feature"
   ],
   "window_display": false
  }
 },
 "nbformat": 4,
 "nbformat_minor": 2
}
