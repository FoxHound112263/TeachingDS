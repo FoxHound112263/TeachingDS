{
 "cells": [
  {
   "cell_type": "markdown",
   "metadata": {},
   "source": [
    "# ¿Qué tan importante son las fuentes de ingreso para un aplicante de préstamos en línea?"
   ]
  },
  {
   "cell_type": "code",
   "execution_count": 1,
   "metadata": {
    "ExecuteTime": {
     "end_time": "2020-02-18T01:42:47.476368Z",
     "start_time": "2020-02-18T01:42:45.193010Z"
    }
   },
   "outputs": [],
   "source": [
    "import pandas as pd\n",
    "import numpy  as np\n",
    "from scipy.stats import chi2_contingency\n",
    "import statsmodels.api as sm\n",
    "from sklearn.metrics import roc_curve, auc\n",
    "from sklearn.model_selection import StratifiedKFold\n",
    "import matplotlib.pyplot as plt\n",
    "from scipy import interp\n",
    "from statsmodels.formula.api import ols\n",
    "import seaborn as sns\n",
    "from matplotlib.widgets import Slider, Button, RadioButtons\n",
    "from scipy.optimize import fsolve\n",
    "\n",
    "#get_ipython().magic(u'matplotlib inline')"
   ]
  },
  {
   "cell_type": "markdown",
   "metadata": {},
   "source": [
    "## Introducción (5 mts)"
   ]
  },
  {
   "cell_type": "markdown",
   "metadata": {},
   "source": [
    "**Contexto de negocios.** Una compañía P2P tiene un sistema online que acepta o rechaza préstamos en línea. Se rechazan todos aquellos que no posean una fuente verificable de ingresos\n",
    "\n",
    "**Problema.** ¿Debería de verificarse la fuente de ingresos antes de aprobar un préstamo?\n",
    "\n",
    "**Contexto analítico.** fuente: [LendingClub Statistics](https://www.lendingclub.com/info/download-data.action) préstamos de 2007 - 2012. usaremos **regresión logística**, para responder la pregunta."
   ]
  },
  {
   "cell_type": "markdown",
   "metadata": {},
   "source": [
    "## Exploración de los datos (45 mts)"
   ]
  },
  {
   "cell_type": "code",
   "execution_count": 2,
   "metadata": {
    "ExecuteTime": {
     "end_time": "2020-02-18T01:45:33.274834Z",
     "start_time": "2020-02-18T01:45:33.164148Z"
    }
   },
   "outputs": [],
   "source": [
    "df = pd.read_csv(\"Lending_club_cleaned_2.csv\")\n",
    "df.loan_status = df.loan_status.astype(pd.api.types.CategoricalDtype(categories=[\"Charged Off\", \"Fully Paid\"]))\n",
    "df.verification_status = df.verification_status.astype(pd.api.types.CategoricalDtype(categories=['Not Verified', 'Source Verified', 'Verified']))\n",
    "df.emp_length = df.emp_length.astype(pd.api.types.CategoricalDtype(categories=[\"< 1 year\", \"1 year\", \"2 years\", \"3 years\", \"4 years\", \\\n",
    "                                                             \"5 years\", \"6 years\", \"7 years\", \"8 years\", \"9 years\", \\\n",
    "                                                             \"10+ years\"]))\n",
    "df.home_ownership = df.home_ownership.astype(pd.api.types.CategoricalDtype(categories=[\"RENT\", \"MORTGAGE\",\"OWN\",\"OTHER\"]))\n",
    "df.term = df.term.astype(pd.api.types.CategoricalDtype(categories=[\" 36 months\", \" 60 months\"]))\n",
    "df.grade = df.grade.astype(pd.api.types.CategoricalDtype(categories=[\"A\",\"B\",\"C\",\"D\",\"E\",\"F\",\"G\"]))\n",
    "df.int_rate = df.int_rate.str.rstrip(\"%\").astype(\"float\")"
   ]
  },
  {
   "cell_type": "code",
   "execution_count": 3,
   "metadata": {
    "ExecuteTime": {
     "end_time": "2020-02-18T01:45:37.955874Z",
     "start_time": "2020-02-18T01:45:37.948055Z"
    }
   },
   "outputs": [
    {
     "data": {
      "text/plain": [
       "(38705, 10)"
      ]
     },
     "execution_count": 3,
     "metadata": {},
     "output_type": "execute_result"
    }
   ],
   "source": [
    "df.shape"
   ]
  },
  {
   "cell_type": "code",
   "execution_count": 4,
   "metadata": {
    "ExecuteTime": {
     "end_time": "2020-02-17T14:06:01.603287Z",
     "start_time": "2020-02-17T14:06:01.567529Z"
    }
   },
   "outputs": [
    {
     "data": {
      "text/html": [
       "<div>\n",
       "<style scoped>\n",
       "    .dataframe tbody tr th:only-of-type {\n",
       "        vertical-align: middle;\n",
       "    }\n",
       "\n",
       "    .dataframe tbody tr th {\n",
       "        vertical-align: top;\n",
       "    }\n",
       "\n",
       "    .dataframe thead th {\n",
       "        text-align: right;\n",
       "    }\n",
       "</style>\n",
       "<table border=\"1\" class=\"dataframe\">\n",
       "  <thead>\n",
       "    <tr style=\"text-align: right;\">\n",
       "      <th></th>\n",
       "      <th>loan_status</th>\n",
       "      <th>annual_inc</th>\n",
       "      <th>verification_status</th>\n",
       "      <th>emp_length</th>\n",
       "      <th>home_ownership</th>\n",
       "      <th>int_rate</th>\n",
       "      <th>loan_amnt</th>\n",
       "      <th>purpose</th>\n",
       "      <th>term</th>\n",
       "      <th>grade</th>\n",
       "    </tr>\n",
       "  </thead>\n",
       "  <tbody>\n",
       "    <tr>\n",
       "      <th>0</th>\n",
       "      <td>Fully Paid</td>\n",
       "      <td>24000.0</td>\n",
       "      <td>Verified</td>\n",
       "      <td>10+ years</td>\n",
       "      <td>RENT</td>\n",
       "      <td>10.65</td>\n",
       "      <td>5000</td>\n",
       "      <td>credit_card</td>\n",
       "      <td>36 months</td>\n",
       "      <td>B</td>\n",
       "    </tr>\n",
       "    <tr>\n",
       "      <th>1</th>\n",
       "      <td>Charged Off</td>\n",
       "      <td>30000.0</td>\n",
       "      <td>Source Verified</td>\n",
       "      <td>&lt; 1 year</td>\n",
       "      <td>RENT</td>\n",
       "      <td>15.27</td>\n",
       "      <td>2500</td>\n",
       "      <td>car</td>\n",
       "      <td>60 months</td>\n",
       "      <td>C</td>\n",
       "    </tr>\n",
       "    <tr>\n",
       "      <th>2</th>\n",
       "      <td>Fully Paid</td>\n",
       "      <td>12252.0</td>\n",
       "      <td>Not Verified</td>\n",
       "      <td>10+ years</td>\n",
       "      <td>RENT</td>\n",
       "      <td>15.96</td>\n",
       "      <td>2400</td>\n",
       "      <td>small_business</td>\n",
       "      <td>36 months</td>\n",
       "      <td>C</td>\n",
       "    </tr>\n",
       "    <tr>\n",
       "      <th>3</th>\n",
       "      <td>Fully Paid</td>\n",
       "      <td>49200.0</td>\n",
       "      <td>Source Verified</td>\n",
       "      <td>10+ years</td>\n",
       "      <td>RENT</td>\n",
       "      <td>13.49</td>\n",
       "      <td>10000</td>\n",
       "      <td>other</td>\n",
       "      <td>36 months</td>\n",
       "      <td>C</td>\n",
       "    </tr>\n",
       "    <tr>\n",
       "      <th>4</th>\n",
       "      <td>Fully Paid</td>\n",
       "      <td>80000.0</td>\n",
       "      <td>Source Verified</td>\n",
       "      <td>1 year</td>\n",
       "      <td>RENT</td>\n",
       "      <td>12.69</td>\n",
       "      <td>3000</td>\n",
       "      <td>other</td>\n",
       "      <td>60 months</td>\n",
       "      <td>B</td>\n",
       "    </tr>\n",
       "    <tr>\n",
       "      <th>5</th>\n",
       "      <td>Fully Paid</td>\n",
       "      <td>36000.0</td>\n",
       "      <td>Source Verified</td>\n",
       "      <td>3 years</td>\n",
       "      <td>RENT</td>\n",
       "      <td>7.90</td>\n",
       "      <td>5000</td>\n",
       "      <td>wedding</td>\n",
       "      <td>36 months</td>\n",
       "      <td>A</td>\n",
       "    </tr>\n",
       "    <tr>\n",
       "      <th>6</th>\n",
       "      <td>Fully Paid</td>\n",
       "      <td>47004.0</td>\n",
       "      <td>Not Verified</td>\n",
       "      <td>8 years</td>\n",
       "      <td>RENT</td>\n",
       "      <td>15.96</td>\n",
       "      <td>7000</td>\n",
       "      <td>debt_consolidation</td>\n",
       "      <td>60 months</td>\n",
       "      <td>C</td>\n",
       "    </tr>\n",
       "    <tr>\n",
       "      <th>7</th>\n",
       "      <td>Fully Paid</td>\n",
       "      <td>48000.0</td>\n",
       "      <td>Source Verified</td>\n",
       "      <td>9 years</td>\n",
       "      <td>RENT</td>\n",
       "      <td>18.64</td>\n",
       "      <td>3000</td>\n",
       "      <td>car</td>\n",
       "      <td>36 months</td>\n",
       "      <td>E</td>\n",
       "    </tr>\n",
       "    <tr>\n",
       "      <th>8</th>\n",
       "      <td>Charged Off</td>\n",
       "      <td>40000.0</td>\n",
       "      <td>Source Verified</td>\n",
       "      <td>4 years</td>\n",
       "      <td>OWN</td>\n",
       "      <td>21.28</td>\n",
       "      <td>5600</td>\n",
       "      <td>small_business</td>\n",
       "      <td>60 months</td>\n",
       "      <td>F</td>\n",
       "    </tr>\n",
       "    <tr>\n",
       "      <th>9</th>\n",
       "      <td>Charged Off</td>\n",
       "      <td>15000.0</td>\n",
       "      <td>Verified</td>\n",
       "      <td>&lt; 1 year</td>\n",
       "      <td>RENT</td>\n",
       "      <td>12.69</td>\n",
       "      <td>5375</td>\n",
       "      <td>other</td>\n",
       "      <td>60 months</td>\n",
       "      <td>B</td>\n",
       "    </tr>\n",
       "  </tbody>\n",
       "</table>\n",
       "</div>"
      ],
      "text/plain": [
       "   loan_status  annual_inc verification_status emp_length home_ownership  \\\n",
       "0   Fully Paid     24000.0            Verified  10+ years           RENT   \n",
       "1  Charged Off     30000.0     Source Verified   < 1 year           RENT   \n",
       "2   Fully Paid     12252.0        Not Verified  10+ years           RENT   \n",
       "3   Fully Paid     49200.0     Source Verified  10+ years           RENT   \n",
       "4   Fully Paid     80000.0     Source Verified     1 year           RENT   \n",
       "5   Fully Paid     36000.0     Source Verified    3 years           RENT   \n",
       "6   Fully Paid     47004.0        Not Verified    8 years           RENT   \n",
       "7   Fully Paid     48000.0     Source Verified    9 years           RENT   \n",
       "8  Charged Off     40000.0     Source Verified    4 years            OWN   \n",
       "9  Charged Off     15000.0            Verified   < 1 year           RENT   \n",
       "\n",
       "   int_rate  loan_amnt             purpose        term grade  \n",
       "0     10.65       5000         credit_card   36 months     B  \n",
       "1     15.27       2500                 car   60 months     C  \n",
       "2     15.96       2400      small_business   36 months     C  \n",
       "3     13.49      10000               other   36 months     C  \n",
       "4     12.69       3000               other   60 months     B  \n",
       "5      7.90       5000             wedding   36 months     A  \n",
       "6     15.96       7000  debt_consolidation   60 months     C  \n",
       "7     18.64       3000                 car   36 months     E  \n",
       "8     21.28       5600      small_business   60 months     F  \n",
       "9     12.69       5375               other   60 months     B  "
      ]
     },
     "execution_count": 4,
     "metadata": {},
     "output_type": "execute_result"
    }
   ],
   "source": [
    "df.head(10)"
   ]
  },
  {
   "cell_type": "markdown",
   "metadata": {},
   "source": [
    "38706 observaciones. Cada una corresponde a un crédito aprobado. La primera columna indica si fue pagado (Fully paid) o no (Charged Off). Las otras 9 columnas son las siguientes:"
   ]
  },
  {
   "cell_type": "markdown",
   "metadata": {},
   "source": [
    "|      annual_inc     |                                                 The self-reported annual income provided by the borrower during registration.                                                |\n",
    "|:-------------------:|:----------------------------------------------------------------------------------------------------------------------------------------------------------------------------:|\n",
    "| verification_status |                                          Indicates if income was verified by LC, not verified, or if the income source was verified                                          |\n",
    "|      emp_length     |                       Employment length in years. Possible values are between 0 and 10 where 0 means less than one year and 10 means ten or more years.                      |\n",
    "|    home_ownership   |             The home ownership status provided by the borrower during registration or obtained from the credit report. Our values are: RENT, OWN, MORTGAGE, OTHER            |\n",
    "|       int_rate      |                                                                           Interest Rate on the loan                                                                          |\n",
    "|      loan_amnt      | The listed amount of the loan applied for by the borrower. If at some point in time, the credit department reduces the loan amount, then it will be reflected in this value. |\n",
    "|       purpose       |                                                           A category provided by the borrower for the loan request.                                                          |\n",
    "|         term        |                                             The number of payments on the loan. Values are in months and can be either 36 or 60.                                             |\n",
    "|        grade        |                                                                            LC assigned loan grade                                                                            |"
   ]
  },
  {
   "cell_type": "markdown",
   "metadata": {},
   "source": [
    "### Relación entre `loan_status` otras variables (25 mts)"
   ]
  },
  {
   "cell_type": "markdown",
   "metadata": {},
   "source": [
    "Consideremos las variables continuas primero"
   ]
  },
  {
   "cell_type": "markdown",
   "metadata": {},
   "source": [
    "### Ejercicio 1: (5 mts)\n",
    "\n",
    "Haga 3 diagramas de caja comparando `annual_inc`, `int_rate` y `loan_amnt` contra `loan_status`"
   ]
  },
  {
   "cell_type": "markdown",
   "metadata": {},
   "source": [
    "**Respuesta.** Al final de la función boxplot, utilice .set_yscale('log')"
   ]
  },
  {
   "cell_type": "code",
   "execution_count": 4,
   "metadata": {
    "ExecuteTime": {
     "end_time": "2020-02-18T01:46:53.610119Z",
     "start_time": "2020-02-18T01:46:53.135755Z"
    },
    "scrolled": true
   },
   "outputs": [
    {
     "data": {
      "image/png": "[encoded data removed]",
      "text/plain": [
       "<Figure size 432x288 with 1 Axes>"
      ]
     },
     "metadata": {
      "needs_background": "light"
     },
     "output_type": "display_data"
    }
   ],
   "source": [
    "sns.boxplot(y=\"annual_inc\", x=\"loan_status\", data = df).set_yscale('log');"
   ]
  },
  {
   "cell_type": "markdown",
   "metadata": {},
   "source": [
    "Aquellos que pagan tienen ligeramente más ingresos en promedio"
   ]
  },
  {
   "cell_type": "code",
   "execution_count": 5,
   "metadata": {
    "ExecuteTime": {
     "end_time": "2020-02-18T01:47:24.505692Z",
     "start_time": "2020-02-18T01:47:24.370018Z"
    }
   },
   "outputs": [
    {
     "data": {
      "image/png": "[encoded data removed]",
      "text/plain": [
       "<Figure size 432x288 with 1 Axes>"
      ]
     },
     "metadata": {
      "needs_background": "light"
     },
     "output_type": "display_data"
    }
   ],
   "source": [
    "sns.boxplot(y=\"int_rate\", x ='loan_status', data = df);"
   ]
  },
  {
   "cell_type": "markdown",
   "metadata": {},
   "source": [
    "La diferencia es más drástica teniendo en cuenta la tasa de interés."
   ]
  },
  {
   "cell_type": "code",
   "execution_count": 6,
   "metadata": {
    "ExecuteTime": {
     "end_time": "2020-02-18T01:47:58.747199Z",
     "start_time": "2020-02-18T01:47:58.595590Z"
    },
    "scrolled": true
   },
   "outputs": [
    {
     "data": {
      "text/plain": [
       "<matplotlib.axes._subplots.AxesSubplot at 0x225e48a36c8>"
      ]
     },
     "execution_count": 6,
     "metadata": {},
     "output_type": "execute_result"
    },
    {
     "data": {
      "image/png": "[encoded data removed]",
      "text/plain": [
       "<Figure size 432x288 with 1 Axes>"
      ]
     },
     "metadata": {
      "needs_background": "light"
     },
     "output_type": "display_data"
    }
   ],
   "source": [
    "sns.boxplot(y=\"loan_amnt\", x ='loan_status', data = df)"
   ]
  },
  {
   "cell_type": "markdown",
   "metadata": {},
   "source": [
    "Los usuarios que pagan la deuda parecen contar con montos menores"
   ]
  },
  {
   "cell_type": "markdown",
   "metadata": {},
   "source": [
    "We learned in previous hypothesis testing cases that we can use contingency tables to examine the relationship between two discrete variables. A chi-square test can be performed based on the contigency table to verify if the observed relationship is statistically significant. Let's examine all discrete variables in our dataset."
   ]
  },
  {
   "cell_type": "markdown",
   "metadata": {},
   "source": [
    "### Ejercicio 2: (10 mts)\n",
    "\n",
    "La siguiente función contruye una tabla de contigencia entre una variable `var` y `loan_status`, incluyendo la proporción de usuarios que pagaron la deuda. Esta tabla sirve para comparar la relación con las variables discretas."
   ]
  },
  {
   "cell_type": "markdown",
   "metadata": {},
   "source": [
    "**Respuesta.**"
   ]
  },
  {
   "cell_type": "code",
   "execution_count": 8,
   "metadata": {
    "ExecuteTime": {
     "end_time": "2020-02-18T01:49:23.232765Z",
     "start_time": "2020-02-18T01:49:23.215588Z"
    }
   },
   "outputs": [],
   "source": [
    "def get_ct(df, var):\n",
    "    ct_res = pd.crosstab(df[var], df['loan_status'], margins=True)\n",
    "    ct_res[\"Fully Paid(%)\"] = round( ct_res[\"Fully Paid\"]/ct_res[\"All\"]*100, 2)\n",
    "    return ct_res.drop(columns=\"All\")"
   ]
  },
  {
   "cell_type": "code",
   "execution_count": 9,
   "metadata": {
    "ExecuteTime": {
     "end_time": "2020-02-18T01:49:42.358358Z",
     "start_time": "2020-02-18T01:49:42.248462Z"
    }
   },
   "outputs": [
    {
     "data": {
      "text/html": [
       "<div>\n",
       "<style scoped>\n",
       "    .dataframe tbody tr th:only-of-type {\n",
       "        vertical-align: middle;\n",
       "    }\n",
       "\n",
       "    .dataframe tbody tr th {\n",
       "        vertical-align: top;\n",
       "    }\n",
       "\n",
       "    .dataframe thead th {\n",
       "        text-align: right;\n",
       "    }\n",
       "</style>\n",
       "<table border=\"1\" class=\"dataframe\">\n",
       "  <thead>\n",
       "    <tr style=\"text-align: right;\">\n",
       "      <th>loan_status</th>\n",
       "      <th>Charged Off</th>\n",
       "      <th>Fully Paid</th>\n",
       "      <th>Fully Paid(%)</th>\n",
       "    </tr>\n",
       "    <tr>\n",
       "      <th>verification_status</th>\n",
       "      <th></th>\n",
       "      <th></th>\n",
       "      <th></th>\n",
       "    </tr>\n",
       "  </thead>\n",
       "  <tbody>\n",
       "    <tr>\n",
       "      <th>Not Verified</th>\n",
       "      <td>2050</td>\n",
       "      <td>14449</td>\n",
       "      <td>87.58</td>\n",
       "    </tr>\n",
       "    <tr>\n",
       "      <th>Source Verified</th>\n",
       "      <td>1413</td>\n",
       "      <td>8406</td>\n",
       "      <td>85.61</td>\n",
       "    </tr>\n",
       "    <tr>\n",
       "      <th>Verified</th>\n",
       "      <td>1977</td>\n",
       "      <td>10410</td>\n",
       "      <td>84.04</td>\n",
       "    </tr>\n",
       "    <tr>\n",
       "      <th>All</th>\n",
       "      <td>5440</td>\n",
       "      <td>33265</td>\n",
       "      <td>85.94</td>\n",
       "    </tr>\n",
       "  </tbody>\n",
       "</table>\n",
       "</div>"
      ],
      "text/plain": [
       "loan_status          Charged Off  Fully Paid  Fully Paid(%)\n",
       "verification_status                                        \n",
       "Not Verified                2050       14449          87.58\n",
       "Source Verified             1413        8406          85.61\n",
       "Verified                    1977       10410          84.04\n",
       "All                         5440       33265          85.94"
      ]
     },
     "execution_count": 9,
     "metadata": {},
     "output_type": "execute_result"
    }
   ],
   "source": [
    "get_ct( df, 'verification_status')"
   ]
  },
  {
   "cell_type": "code",
   "execution_count": 10,
   "metadata": {
    "ExecuteTime": {
     "end_time": "2020-02-18T01:50:39.709484Z",
     "start_time": "2020-02-18T01:50:39.641440Z"
    }
   },
   "outputs": [
    {
     "data": {
      "text/html": [
       "<div>\n",
       "<style scoped>\n",
       "    .dataframe tbody tr th:only-of-type {\n",
       "        vertical-align: middle;\n",
       "    }\n",
       "\n",
       "    .dataframe tbody tr th {\n",
       "        vertical-align: top;\n",
       "    }\n",
       "\n",
       "    .dataframe thead th {\n",
       "        text-align: right;\n",
       "    }\n",
       "</style>\n",
       "<table border=\"1\" class=\"dataframe\">\n",
       "  <thead>\n",
       "    <tr style=\"text-align: right;\">\n",
       "      <th>loan_status</th>\n",
       "      <th>Charged Off</th>\n",
       "      <th>Fully Paid</th>\n",
       "      <th>Fully Paid(%)</th>\n",
       "    </tr>\n",
       "    <tr>\n",
       "      <th>emp_length</th>\n",
       "      <th></th>\n",
       "      <th></th>\n",
       "      <th></th>\n",
       "    </tr>\n",
       "  </thead>\n",
       "  <tbody>\n",
       "    <tr>\n",
       "      <th>&lt; 1 year</th>\n",
       "      <td>641</td>\n",
       "      <td>3947</td>\n",
       "      <td>86.03</td>\n",
       "    </tr>\n",
       "    <tr>\n",
       "      <th>1 year</th>\n",
       "      <td>460</td>\n",
       "      <td>2787</td>\n",
       "      <td>85.83</td>\n",
       "    </tr>\n",
       "    <tr>\n",
       "      <th>2 years</th>\n",
       "      <td>571</td>\n",
       "      <td>3823</td>\n",
       "      <td>87.01</td>\n",
       "    </tr>\n",
       "    <tr>\n",
       "      <th>3 years</th>\n",
       "      <td>558</td>\n",
       "      <td>3540</td>\n",
       "      <td>86.38</td>\n",
       "    </tr>\n",
       "    <tr>\n",
       "      <th>4 years</th>\n",
       "      <td>466</td>\n",
       "      <td>2978</td>\n",
       "      <td>86.47</td>\n",
       "    </tr>\n",
       "    <tr>\n",
       "      <th>5 years</th>\n",
       "      <td>459</td>\n",
       "      <td>2826</td>\n",
       "      <td>86.03</td>\n",
       "    </tr>\n",
       "    <tr>\n",
       "      <th>6 years</th>\n",
       "      <td>309</td>\n",
       "      <td>1922</td>\n",
       "      <td>86.15</td>\n",
       "    </tr>\n",
       "    <tr>\n",
       "      <th>7 years</th>\n",
       "      <td>263</td>\n",
       "      <td>1512</td>\n",
       "      <td>85.18</td>\n",
       "    </tr>\n",
       "    <tr>\n",
       "      <th>8 years</th>\n",
       "      <td>206</td>\n",
       "      <td>1279</td>\n",
       "      <td>86.13</td>\n",
       "    </tr>\n",
       "    <tr>\n",
       "      <th>9 years</th>\n",
       "      <td>159</td>\n",
       "      <td>1100</td>\n",
       "      <td>87.37</td>\n",
       "    </tr>\n",
       "    <tr>\n",
       "      <th>10+ years</th>\n",
       "      <td>1348</td>\n",
       "      <td>7551</td>\n",
       "      <td>84.85</td>\n",
       "    </tr>\n",
       "    <tr>\n",
       "      <th>All</th>\n",
       "      <td>5440</td>\n",
       "      <td>33265</td>\n",
       "      <td>85.94</td>\n",
       "    </tr>\n",
       "  </tbody>\n",
       "</table>\n",
       "</div>"
      ],
      "text/plain": [
       "loan_status  Charged Off  Fully Paid  Fully Paid(%)\n",
       "emp_length                                         \n",
       "< 1 year             641        3947          86.03\n",
       "1 year               460        2787          85.83\n",
       "2 years              571        3823          87.01\n",
       "3 years              558        3540          86.38\n",
       "4 years              466        2978          86.47\n",
       "5 years              459        2826          86.03\n",
       "6 years              309        1922          86.15\n",
       "7 years              263        1512          85.18\n",
       "8 years              206        1279          86.13\n",
       "9 years              159        1100          87.37\n",
       "10+ years           1348        7551          84.85\n",
       "All                 5440       33265          85.94"
      ]
     },
     "execution_count": 10,
     "metadata": {},
     "output_type": "execute_result"
    }
   ],
   "source": [
    "get_ct( df, 'emp_length' )"
   ]
  },
  {
   "cell_type": "code",
   "execution_count": 11,
   "metadata": {
    "ExecuteTime": {
     "end_time": "2020-02-18T01:51:05.401599Z",
     "start_time": "2020-02-18T01:51:05.315089Z"
    }
   },
   "outputs": [
    {
     "data": {
      "text/html": [
       "<div>\n",
       "<style scoped>\n",
       "    .dataframe tbody tr th:only-of-type {\n",
       "        vertical-align: middle;\n",
       "    }\n",
       "\n",
       "    .dataframe tbody tr th {\n",
       "        vertical-align: top;\n",
       "    }\n",
       "\n",
       "    .dataframe thead th {\n",
       "        text-align: right;\n",
       "    }\n",
       "</style>\n",
       "<table border=\"1\" class=\"dataframe\">\n",
       "  <thead>\n",
       "    <tr style=\"text-align: right;\">\n",
       "      <th>loan_status</th>\n",
       "      <th>Charged Off</th>\n",
       "      <th>Fully Paid</th>\n",
       "      <th>Fully Paid(%)</th>\n",
       "    </tr>\n",
       "    <tr>\n",
       "      <th>home_ownership</th>\n",
       "      <th></th>\n",
       "      <th></th>\n",
       "      <th></th>\n",
       "    </tr>\n",
       "  </thead>\n",
       "  <tbody>\n",
       "    <tr>\n",
       "      <th>RENT</th>\n",
       "      <td>2752</td>\n",
       "      <td>15755</td>\n",
       "      <td>85.13</td>\n",
       "    </tr>\n",
       "    <tr>\n",
       "      <th>MORTGAGE</th>\n",
       "      <td>2268</td>\n",
       "      <td>14987</td>\n",
       "      <td>86.86</td>\n",
       "    </tr>\n",
       "    <tr>\n",
       "      <th>OWN</th>\n",
       "      <td>402</td>\n",
       "      <td>2443</td>\n",
       "      <td>85.87</td>\n",
       "    </tr>\n",
       "    <tr>\n",
       "      <th>OTHER</th>\n",
       "      <td>18</td>\n",
       "      <td>80</td>\n",
       "      <td>81.63</td>\n",
       "    </tr>\n",
       "    <tr>\n",
       "      <th>All</th>\n",
       "      <td>5440</td>\n",
       "      <td>33265</td>\n",
       "      <td>85.94</td>\n",
       "    </tr>\n",
       "  </tbody>\n",
       "</table>\n",
       "</div>"
      ],
      "text/plain": [
       "loan_status     Charged Off  Fully Paid  Fully Paid(%)\n",
       "home_ownership                                        \n",
       "RENT                   2752       15755          85.13\n",
       "MORTGAGE               2268       14987          86.86\n",
       "OWN                     402        2443          85.87\n",
       "OTHER                    18          80          81.63\n",
       "All                    5440       33265          85.94"
      ]
     },
     "execution_count": 11,
     "metadata": {},
     "output_type": "execute_result"
    }
   ],
   "source": [
    "get_ct( df, 'home_ownership' )"
   ]
  },
  {
   "cell_type": "code",
   "execution_count": 12,
   "metadata": {
    "ExecuteTime": {
     "end_time": "2020-02-18T01:51:30.221112Z",
     "start_time": "2020-02-18T01:51:30.143910Z"
    }
   },
   "outputs": [
    {
     "data": {
      "text/html": [
       "<div>\n",
       "<style scoped>\n",
       "    .dataframe tbody tr th:only-of-type {\n",
       "        vertical-align: middle;\n",
       "    }\n",
       "\n",
       "    .dataframe tbody tr th {\n",
       "        vertical-align: top;\n",
       "    }\n",
       "\n",
       "    .dataframe thead th {\n",
       "        text-align: right;\n",
       "    }\n",
       "</style>\n",
       "<table border=\"1\" class=\"dataframe\">\n",
       "  <thead>\n",
       "    <tr style=\"text-align: right;\">\n",
       "      <th>loan_status</th>\n",
       "      <th>Charged Off</th>\n",
       "      <th>Fully Paid</th>\n",
       "      <th>Fully Paid(%)</th>\n",
       "    </tr>\n",
       "    <tr>\n",
       "      <th>purpose</th>\n",
       "      <th></th>\n",
       "      <th></th>\n",
       "      <th></th>\n",
       "    </tr>\n",
       "  </thead>\n",
       "  <tbody>\n",
       "    <tr>\n",
       "      <th>car</th>\n",
       "      <td>155</td>\n",
       "      <td>1344</td>\n",
       "      <td>89.66</td>\n",
       "    </tr>\n",
       "    <tr>\n",
       "      <th>credit_card</th>\n",
       "      <td>516</td>\n",
       "      <td>4491</td>\n",
       "      <td>89.69</td>\n",
       "    </tr>\n",
       "    <tr>\n",
       "      <th>debt_consolidation</th>\n",
       "      <td>2703</td>\n",
       "      <td>15572</td>\n",
       "      <td>85.21</td>\n",
       "    </tr>\n",
       "    <tr>\n",
       "      <th>educational</th>\n",
       "      <td>52</td>\n",
       "      <td>265</td>\n",
       "      <td>83.60</td>\n",
       "    </tr>\n",
       "    <tr>\n",
       "      <th>home_improvement</th>\n",
       "      <td>333</td>\n",
       "      <td>2554</td>\n",
       "      <td>88.47</td>\n",
       "    </tr>\n",
       "    <tr>\n",
       "      <th>house</th>\n",
       "      <td>59</td>\n",
       "      <td>310</td>\n",
       "      <td>84.01</td>\n",
       "    </tr>\n",
       "    <tr>\n",
       "      <th>major_purchase</th>\n",
       "      <td>211</td>\n",
       "      <td>1905</td>\n",
       "      <td>90.03</td>\n",
       "    </tr>\n",
       "    <tr>\n",
       "      <th>medical</th>\n",
       "      <td>101</td>\n",
       "      <td>569</td>\n",
       "      <td>84.93</td>\n",
       "    </tr>\n",
       "    <tr>\n",
       "      <th>moving</th>\n",
       "      <td>84</td>\n",
       "      <td>475</td>\n",
       "      <td>84.97</td>\n",
       "    </tr>\n",
       "    <tr>\n",
       "      <th>other</th>\n",
       "      <td>600</td>\n",
       "      <td>3238</td>\n",
       "      <td>84.37</td>\n",
       "    </tr>\n",
       "    <tr>\n",
       "      <th>renewable_energy</th>\n",
       "      <td>18</td>\n",
       "      <td>77</td>\n",
       "      <td>81.05</td>\n",
       "    </tr>\n",
       "    <tr>\n",
       "      <th>small_business</th>\n",
       "      <td>466</td>\n",
       "      <td>1320</td>\n",
       "      <td>73.91</td>\n",
       "    </tr>\n",
       "    <tr>\n",
       "      <th>vacation</th>\n",
       "      <td>50</td>\n",
       "      <td>302</td>\n",
       "      <td>85.80</td>\n",
       "    </tr>\n",
       "    <tr>\n",
       "      <th>wedding</th>\n",
       "      <td>92</td>\n",
       "      <td>843</td>\n",
       "      <td>90.16</td>\n",
       "    </tr>\n",
       "    <tr>\n",
       "      <th>All</th>\n",
       "      <td>5440</td>\n",
       "      <td>33265</td>\n",
       "      <td>85.94</td>\n",
       "    </tr>\n",
       "  </tbody>\n",
       "</table>\n",
       "</div>"
      ],
      "text/plain": [
       "loan_status         Charged Off  Fully Paid  Fully Paid(%)\n",
       "purpose                                                   \n",
       "car                         155        1344          89.66\n",
       "credit_card                 516        4491          89.69\n",
       "debt_consolidation         2703       15572          85.21\n",
       "educational                  52         265          83.60\n",
       "home_improvement            333        2554          88.47\n",
       "house                        59         310          84.01\n",
       "major_purchase              211        1905          90.03\n",
       "medical                     101         569          84.93\n",
       "moving                       84         475          84.97\n",
       "other                       600        3238          84.37\n",
       "renewable_energy             18          77          81.05\n",
       "small_business              466        1320          73.91\n",
       "vacation                     50         302          85.80\n",
       "wedding                      92         843          90.16\n",
       "All                        5440       33265          85.94"
      ]
     },
     "execution_count": 12,
     "metadata": {},
     "output_type": "execute_result"
    }
   ],
   "source": [
    "get_ct( df, 'purpose' )"
   ]
  },
  {
   "cell_type": "code",
   "execution_count": 13,
   "metadata": {
    "ExecuteTime": {
     "end_time": "2020-02-18T01:52:53.360708Z",
     "start_time": "2020-02-18T01:52:53.278489Z"
    }
   },
   "outputs": [
    {
     "data": {
      "text/html": [
       "<div>\n",
       "<style scoped>\n",
       "    .dataframe tbody tr th:only-of-type {\n",
       "        vertical-align: middle;\n",
       "    }\n",
       "\n",
       "    .dataframe tbody tr th {\n",
       "        vertical-align: top;\n",
       "    }\n",
       "\n",
       "    .dataframe thead th {\n",
       "        text-align: right;\n",
       "    }\n",
       "</style>\n",
       "<table border=\"1\" class=\"dataframe\">\n",
       "  <thead>\n",
       "    <tr style=\"text-align: right;\">\n",
       "      <th>loan_status</th>\n",
       "      <th>Charged Off</th>\n",
       "      <th>Fully Paid</th>\n",
       "      <th>Fully Paid(%)</th>\n",
       "    </tr>\n",
       "    <tr>\n",
       "      <th>term</th>\n",
       "      <th></th>\n",
       "      <th></th>\n",
       "      <th></th>\n",
       "    </tr>\n",
       "  </thead>\n",
       "  <tbody>\n",
       "    <tr>\n",
       "      <th>36 months</th>\n",
       "      <td>3073</td>\n",
       "      <td>25211</td>\n",
       "      <td>89.14</td>\n",
       "    </tr>\n",
       "    <tr>\n",
       "      <th>60 months</th>\n",
       "      <td>2367</td>\n",
       "      <td>8054</td>\n",
       "      <td>77.29</td>\n",
       "    </tr>\n",
       "    <tr>\n",
       "      <th>All</th>\n",
       "      <td>5440</td>\n",
       "      <td>33265</td>\n",
       "      <td>85.94</td>\n",
       "    </tr>\n",
       "  </tbody>\n",
       "</table>\n",
       "</div>"
      ],
      "text/plain": [
       "loan_status  Charged Off  Fully Paid  Fully Paid(%)\n",
       "term                                               \n",
       " 36 months          3073       25211          89.14\n",
       " 60 months          2367        8054          77.29\n",
       "All                 5440       33265          85.94"
      ]
     },
     "execution_count": 13,
     "metadata": {},
     "output_type": "execute_result"
    }
   ],
   "source": [
    "get_ct( df, 'term' )"
   ]
  },
  {
   "cell_type": "code",
   "execution_count": 14,
   "metadata": {
    "ExecuteTime": {
     "end_time": "2020-02-18T01:53:24.743038Z",
     "start_time": "2020-02-18T01:53:24.672000Z"
    }
   },
   "outputs": [
    {
     "data": {
      "text/html": [
       "<div>\n",
       "<style scoped>\n",
       "    .dataframe tbody tr th:only-of-type {\n",
       "        vertical-align: middle;\n",
       "    }\n",
       "\n",
       "    .dataframe tbody tr th {\n",
       "        vertical-align: top;\n",
       "    }\n",
       "\n",
       "    .dataframe thead th {\n",
       "        text-align: right;\n",
       "    }\n",
       "</style>\n",
       "<table border=\"1\" class=\"dataframe\">\n",
       "  <thead>\n",
       "    <tr style=\"text-align: right;\">\n",
       "      <th>loan_status</th>\n",
       "      <th>Charged Off</th>\n",
       "      <th>Fully Paid</th>\n",
       "      <th>Fully Paid(%)</th>\n",
       "    </tr>\n",
       "    <tr>\n",
       "      <th>grade</th>\n",
       "      <th></th>\n",
       "      <th></th>\n",
       "      <th></th>\n",
       "    </tr>\n",
       "  </thead>\n",
       "  <tbody>\n",
       "    <tr>\n",
       "      <th>A</th>\n",
       "      <td>558</td>\n",
       "      <td>9136</td>\n",
       "      <td>94.24</td>\n",
       "    </tr>\n",
       "    <tr>\n",
       "      <th>B</th>\n",
       "      <td>1362</td>\n",
       "      <td>10335</td>\n",
       "      <td>88.36</td>\n",
       "    </tr>\n",
       "    <tr>\n",
       "      <th>C</th>\n",
       "      <td>1296</td>\n",
       "      <td>6642</td>\n",
       "      <td>83.67</td>\n",
       "    </tr>\n",
       "    <tr>\n",
       "      <th>D</th>\n",
       "      <td>1097</td>\n",
       "      <td>4116</td>\n",
       "      <td>78.96</td>\n",
       "    </tr>\n",
       "    <tr>\n",
       "      <th>E</th>\n",
       "      <td>710</td>\n",
       "      <td>2101</td>\n",
       "      <td>74.74</td>\n",
       "    </tr>\n",
       "    <tr>\n",
       "      <th>F</th>\n",
       "      <td>317</td>\n",
       "      <td>718</td>\n",
       "      <td>69.37</td>\n",
       "    </tr>\n",
       "    <tr>\n",
       "      <th>G</th>\n",
       "      <td>100</td>\n",
       "      <td>217</td>\n",
       "      <td>68.45</td>\n",
       "    </tr>\n",
       "    <tr>\n",
       "      <th>All</th>\n",
       "      <td>5440</td>\n",
       "      <td>33265</td>\n",
       "      <td>85.94</td>\n",
       "    </tr>\n",
       "  </tbody>\n",
       "</table>\n",
       "</div>"
      ],
      "text/plain": [
       "loan_status  Charged Off  Fully Paid  Fully Paid(%)\n",
       "grade                                              \n",
       "A                    558        9136          94.24\n",
       "B                   1362       10335          88.36\n",
       "C                   1296        6642          83.67\n",
       "D                   1097        4116          78.96\n",
       "E                    710        2101          74.74\n",
       "F                    317         718          69.37\n",
       "G                    100         217          68.45\n",
       "All                 5440       33265          85.94"
      ]
     },
     "execution_count": 14,
     "metadata": {},
     "output_type": "execute_result"
    }
   ],
   "source": [
    "get_ct( df, 'grade' )"
   ]
  },
  {
   "cell_type": "markdown",
   "metadata": {},
   "source": [
    "### Ejercicio 3: (5 mts)\n",
    "\n",
    "Usar el test de chi cuadrado para ver si las asociaciones son estadísticamente significativas"
   ]
  },
  {
   "cell_type": "markdown",
   "metadata": {},
   "source": [
    "**Respuesta.** Para cada tabla de contingencia:"
   ]
  },
  {
   "cell_type": "code",
   "execution_count": 15,
   "metadata": {
    "ExecuteTime": {
     "end_time": "2020-02-18T01:54:19.924927Z",
     "start_time": "2020-02-18T01:54:19.899583Z"
    }
   },
   "outputs": [
    {
     "name": "stdout",
     "output_type": "stream",
     "text": [
      "verification_status: p-value of chisquare test = 6.884998281535999e-17\n"
     ]
    }
   ],
   "source": [
    "chi2, p, dof, ex = chi2_contingency(pd.crosstab(df['verification_status'], df['loan_status']))\n",
    "print('verification_status: p-value of chisquare test =', p)"
   ]
  },
  {
   "cell_type": "code",
   "execution_count": 18,
   "metadata": {
    "ExecuteTime": {
     "end_time": "2020-02-17T14:27:52.440951Z",
     "start_time": "2020-02-17T14:27:52.285554Z"
    }
   },
   "outputs": [
    {
     "name": "stdout",
     "output_type": "stream",
     "text": [
      "emp_length: p-value of chisquare test = 0.06419956286286349\n"
     ]
    }
   ],
   "source": [
    "chi2, p, dof, ex = chi2_contingency(pd.crosstab(df['emp_length'], df['loan_status']))\n",
    "print('emp_length: p-value of chisquare test =', p)"
   ]
  },
  {
   "cell_type": "code",
   "execution_count": 19,
   "metadata": {
    "ExecuteTime": {
     "end_time": "2020-02-17T14:27:55.750943Z",
     "start_time": "2020-02-17T14:27:55.716246Z"
    }
   },
   "outputs": [
    {
     "name": "stdout",
     "output_type": "stream",
     "text": [
      "home_ownership: p-value of chisquare test = 3.094754275730736e-05\n"
     ]
    }
   ],
   "source": [
    "chi2, p, dof, ex = chi2_contingency(pd.crosstab(df['home_ownership'], df['loan_status']))\n",
    "print('home_ownership: p-value of chisquare test =', p)"
   ]
  },
  {
   "cell_type": "code",
   "execution_count": 20,
   "metadata": {
    "ExecuteTime": {
     "end_time": "2020-02-17T14:27:58.760067Z",
     "start_time": "2020-02-17T14:27:58.713613Z"
    }
   },
   "outputs": [
    {
     "name": "stdout",
     "output_type": "stream",
     "text": [
      "purpose: p-value of chisquare test = 6.53325963877868e-71\n"
     ]
    }
   ],
   "source": [
    "chi2, p, dof, ex = chi2_contingency(pd.crosstab(df['purpose'], df['loan_status']))\n",
    "print('purpose: p-value of chisquare test =', p)"
   ]
  },
  {
   "cell_type": "code",
   "execution_count": 21,
   "metadata": {
    "ExecuteTime": {
     "end_time": "2020-02-17T14:28:01.029599Z",
     "start_time": "2020-02-17T14:28:00.995968Z"
    }
   },
   "outputs": [
    {
     "name": "stdout",
     "output_type": "stream",
     "text": [
      "term: p-value of chisquare test = 2.7851291583847273e-194\n"
     ]
    }
   ],
   "source": [
    "chi2, p, dof, ex = chi2_contingency(pd.crosstab(df['term'], df['loan_status']))\n",
    "print('term: p-value of chisquare test =', p)"
   ]
  },
  {
   "cell_type": "code",
   "execution_count": 22,
   "metadata": {
    "ExecuteTime": {
     "end_time": "2020-02-17T14:28:03.436850Z",
     "start_time": "2020-02-17T14:28:03.402116Z"
    }
   },
   "outputs": [
    {
     "name": "stdout",
     "output_type": "stream",
     "text": [
      "grade: p-value of chisquare test = 0.0\n"
     ]
    }
   ],
   "source": [
    "chi2, p, dof, ex = chi2_contingency(pd.crosstab(df['grade'], df['loan_status']))\n",
    "print('grade: p-value of chisquare test =', p)"
   ]
  },
  {
   "cell_type": "markdown",
   "metadata": {},
   "source": [
    "Casi todas son significativas salvo `emp_length`, y `verification_status` tiene un resultado contraintuitivo"
   ]
  },
  {
   "cell_type": "markdown",
   "metadata": {},
   "source": [
    "### Tablas estratificadas de `verification_status` vs. `loan_status` (15 mts)"
   ]
  },
  {
   "cell_type": "code",
   "execution_count": 16,
   "metadata": {
    "ExecuteTime": {
     "end_time": "2020-02-18T01:55:42.257554Z",
     "start_time": "2020-02-18T01:55:42.247005Z"
    }
   },
   "outputs": [],
   "source": [
    "def get_ct_stra(stra_var):\n",
    "    ct_stra = pd.crosstab(index=[stra_var,df.verification_status], columns = df.loan_status, margins = True)\n",
    "    ct_stra[\"Fully Paid (%)\"] = round(ct_stra[\"Fully Paid\"]/ct_stra[\"All\"]*100,2)\n",
    "    return ct_stra.drop(columns=\"All\").drop(\"All\", level=0)"
   ]
  },
  {
   "cell_type": "code",
   "execution_count": 17,
   "metadata": {
    "ExecuteTime": {
     "end_time": "2020-02-18T01:55:58.592186Z",
     "start_time": "2020-02-18T01:55:58.502430Z"
    }
   },
   "outputs": [
    {
     "data": {
      "text/html": [
       "<div>\n",
       "<style scoped>\n",
       "    .dataframe tbody tr th:only-of-type {\n",
       "        vertical-align: middle;\n",
       "    }\n",
       "\n",
       "    .dataframe tbody tr th {\n",
       "        vertical-align: top;\n",
       "    }\n",
       "\n",
       "    .dataframe thead th {\n",
       "        text-align: right;\n",
       "    }\n",
       "</style>\n",
       "<table border=\"1\" class=\"dataframe\">\n",
       "  <thead>\n",
       "    <tr style=\"text-align: right;\">\n",
       "      <th></th>\n",
       "      <th>loan_status</th>\n",
       "      <th>Charged Off</th>\n",
       "      <th>Fully Paid</th>\n",
       "      <th>Fully Paid (%)</th>\n",
       "    </tr>\n",
       "    <tr>\n",
       "      <th>home_ownership</th>\n",
       "      <th>verification_status</th>\n",
       "      <th></th>\n",
       "      <th></th>\n",
       "      <th></th>\n",
       "    </tr>\n",
       "  </thead>\n",
       "  <tbody>\n",
       "    <tr>\n",
       "      <th rowspan=\"3\" valign=\"top\">RENT</th>\n",
       "      <th>Not Verified</th>\n",
       "      <td>1072</td>\n",
       "      <td>7133</td>\n",
       "      <td>86.93</td>\n",
       "    </tr>\n",
       "    <tr>\n",
       "      <th>Source Verified</th>\n",
       "      <td>815</td>\n",
       "      <td>4332</td>\n",
       "      <td>84.17</td>\n",
       "    </tr>\n",
       "    <tr>\n",
       "      <th>Verified</th>\n",
       "      <td>865</td>\n",
       "      <td>4290</td>\n",
       "      <td>83.22</td>\n",
       "    </tr>\n",
       "    <tr>\n",
       "      <th rowspan=\"3\" valign=\"top\">MORTGAGE</th>\n",
       "      <th>Not Verified</th>\n",
       "      <td>798</td>\n",
       "      <td>6064</td>\n",
       "      <td>88.37</td>\n",
       "    </tr>\n",
       "    <tr>\n",
       "      <th>Source Verified</th>\n",
       "      <td>487</td>\n",
       "      <td>3443</td>\n",
       "      <td>87.61</td>\n",
       "    </tr>\n",
       "    <tr>\n",
       "      <th>Verified</th>\n",
       "      <td>983</td>\n",
       "      <td>5480</td>\n",
       "      <td>84.79</td>\n",
       "    </tr>\n",
       "    <tr>\n",
       "      <th rowspan=\"3\" valign=\"top\">OWN</th>\n",
       "      <th>Not Verified</th>\n",
       "      <td>170</td>\n",
       "      <td>1210</td>\n",
       "      <td>87.68</td>\n",
       "    </tr>\n",
       "    <tr>\n",
       "      <th>Source Verified</th>\n",
       "      <td>110</td>\n",
       "      <td>622</td>\n",
       "      <td>84.97</td>\n",
       "    </tr>\n",
       "    <tr>\n",
       "      <th>Verified</th>\n",
       "      <td>122</td>\n",
       "      <td>611</td>\n",
       "      <td>83.36</td>\n",
       "    </tr>\n",
       "    <tr>\n",
       "      <th rowspan=\"3\" valign=\"top\">OTHER</th>\n",
       "      <th>Not Verified</th>\n",
       "      <td>10</td>\n",
       "      <td>42</td>\n",
       "      <td>80.77</td>\n",
       "    </tr>\n",
       "    <tr>\n",
       "      <th>Source Verified</th>\n",
       "      <td>1</td>\n",
       "      <td>9</td>\n",
       "      <td>90.00</td>\n",
       "    </tr>\n",
       "    <tr>\n",
       "      <th>Verified</th>\n",
       "      <td>7</td>\n",
       "      <td>29</td>\n",
       "      <td>80.56</td>\n",
       "    </tr>\n",
       "  </tbody>\n",
       "</table>\n",
       "</div>"
      ],
      "text/plain": [
       "loan_status                         Charged Off  Fully Paid  Fully Paid (%)\n",
       "home_ownership verification_status                                         \n",
       "RENT           Not Verified                1072        7133           86.93\n",
       "               Source Verified              815        4332           84.17\n",
       "               Verified                     865        4290           83.22\n",
       "MORTGAGE       Not Verified                 798        6064           88.37\n",
       "               Source Verified              487        3443           87.61\n",
       "               Verified                     983        5480           84.79\n",
       "OWN            Not Verified                 170        1210           87.68\n",
       "               Source Verified              110         622           84.97\n",
       "               Verified                     122         611           83.36\n",
       "OTHER          Not Verified                  10          42           80.77\n",
       "               Source Verified                1           9           90.00\n",
       "               Verified                       7          29           80.56"
      ]
     },
     "execution_count": 17,
     "metadata": {},
     "output_type": "execute_result"
    }
   ],
   "source": [
    "get_ct_stra(df.home_ownership)"
   ]
  },
  {
   "cell_type": "code",
   "execution_count": 18,
   "metadata": {
    "ExecuteTime": {
     "end_time": "2020-02-18T01:56:23.625961Z",
     "start_time": "2020-02-18T01:56:23.540409Z"
    }
   },
   "outputs": [
    {
     "data": {
      "text/html": [
       "<div>\n",
       "<style scoped>\n",
       "    .dataframe tbody tr th:only-of-type {\n",
       "        vertical-align: middle;\n",
       "    }\n",
       "\n",
       "    .dataframe tbody tr th {\n",
       "        vertical-align: top;\n",
       "    }\n",
       "\n",
       "    .dataframe thead th {\n",
       "        text-align: right;\n",
       "    }\n",
       "</style>\n",
       "<table border=\"1\" class=\"dataframe\">\n",
       "  <thead>\n",
       "    <tr style=\"text-align: right;\">\n",
       "      <th></th>\n",
       "      <th>loan_status</th>\n",
       "      <th>Charged Off</th>\n",
       "      <th>Fully Paid</th>\n",
       "      <th>Fully Paid (%)</th>\n",
       "    </tr>\n",
       "    <tr>\n",
       "      <th>term</th>\n",
       "      <th>verification_status</th>\n",
       "      <th></th>\n",
       "      <th></th>\n",
       "      <th></th>\n",
       "    </tr>\n",
       "  </thead>\n",
       "  <tbody>\n",
       "    <tr>\n",
       "      <th rowspan=\"3\" valign=\"top\">36 months</th>\n",
       "      <th>Not Verified</th>\n",
       "      <td>1580</td>\n",
       "      <td>12574</td>\n",
       "      <td>88.84</td>\n",
       "    </tr>\n",
       "    <tr>\n",
       "      <th>Source Verified</th>\n",
       "      <td>688</td>\n",
       "      <td>6132</td>\n",
       "      <td>89.91</td>\n",
       "    </tr>\n",
       "    <tr>\n",
       "      <th>Verified</th>\n",
       "      <td>805</td>\n",
       "      <td>6505</td>\n",
       "      <td>88.99</td>\n",
       "    </tr>\n",
       "    <tr>\n",
       "      <th rowspan=\"3\" valign=\"top\">60 months</th>\n",
       "      <th>Not Verified</th>\n",
       "      <td>470</td>\n",
       "      <td>1875</td>\n",
       "      <td>79.96</td>\n",
       "    </tr>\n",
       "    <tr>\n",
       "      <th>Source Verified</th>\n",
       "      <td>725</td>\n",
       "      <td>2274</td>\n",
       "      <td>75.83</td>\n",
       "    </tr>\n",
       "    <tr>\n",
       "      <th>Verified</th>\n",
       "      <td>1172</td>\n",
       "      <td>3905</td>\n",
       "      <td>76.92</td>\n",
       "    </tr>\n",
       "  </tbody>\n",
       "</table>\n",
       "</div>"
      ],
      "text/plain": [
       "loan_status                     Charged Off  Fully Paid  Fully Paid (%)\n",
       "term       verification_status                                         \n",
       " 36 months Not Verified                1580       12574           88.84\n",
       "           Source Verified              688        6132           89.91\n",
       "           Verified                     805        6505           88.99\n",
       " 60 months Not Verified                 470        1875           79.96\n",
       "           Source Verified              725        2274           75.83\n",
       "           Verified                    1172        3905           76.92"
      ]
     },
     "execution_count": 18,
     "metadata": {},
     "output_type": "execute_result"
    }
   ],
   "source": [
    "get_ct_stra(df.term)"
   ]
  },
  {
   "cell_type": "markdown",
   "metadata": {},
   "source": [
    "La diferencia en los pagos verificados y no-verificados podría darse por el efecto del término de los préstamos, pero no por el hecho de tener o no vivienda propia. Usuarios con ingreso no verificado parecen ser más propensos a pagar la deuda."
   ]
  },
  {
   "cell_type": "code",
   "execution_count": 19,
   "metadata": {
    "ExecuteTime": {
     "end_time": "2020-02-18T01:56:41.539720Z",
     "start_time": "2020-02-18T01:56:41.501974Z"
    }
   },
   "outputs": [
    {
     "data": {
      "text/html": [
       "<div>\n",
       "<style scoped>\n",
       "    .dataframe tbody tr th:only-of-type {\n",
       "        vertical-align: middle;\n",
       "    }\n",
       "\n",
       "    .dataframe tbody tr th {\n",
       "        vertical-align: top;\n",
       "    }\n",
       "\n",
       "    .dataframe thead th {\n",
       "        text-align: right;\n",
       "    }\n",
       "</style>\n",
       "<table border=\"1\" class=\"dataframe\">\n",
       "  <thead>\n",
       "    <tr style=\"text-align: right;\">\n",
       "      <th>verification_status</th>\n",
       "      <th>Not Verified</th>\n",
       "      <th>Source Verified</th>\n",
       "      <th>Verified</th>\n",
       "    </tr>\n",
       "    <tr>\n",
       "      <th>term</th>\n",
       "      <th></th>\n",
       "      <th></th>\n",
       "      <th></th>\n",
       "    </tr>\n",
       "  </thead>\n",
       "  <tbody>\n",
       "    <tr>\n",
       "      <th>36 months</th>\n",
       "      <td>14154</td>\n",
       "      <td>6820</td>\n",
       "      <td>7310</td>\n",
       "    </tr>\n",
       "    <tr>\n",
       "      <th>60 months</th>\n",
       "      <td>2345</td>\n",
       "      <td>2999</td>\n",
       "      <td>5077</td>\n",
       "    </tr>\n",
       "  </tbody>\n",
       "</table>\n",
       "</div>"
      ],
      "text/plain": [
       "verification_status  Not Verified  Source Verified  Verified\n",
       "term                                                        \n",
       " 36 months                  14154             6820      7310\n",
       " 60 months                   2345             2999      5077"
      ]
     },
     "execution_count": 19,
     "metadata": {},
     "output_type": "execute_result"
    }
   ],
   "source": [
    "pd.crosstab(df['term'], df['verification_status'])"
   ]
  },
  {
   "cell_type": "markdown",
   "metadata": {},
   "source": [
    "## Regresión logística: entendiendo el modelo lineal a salidas binarias (20 mts)"
   ]
  },
  {
   "cell_type": "markdown",
   "metadata": {},
   "source": [
    "Del test chi cuadrado, sabemos que la variable verification status está marginalmente asociada la probabilidad de pagar. El modelo de regresión logística  es una modificación del modelo estándar lineal que maneja problemas de clasificación (paga la deuda o no). Los Odds de un evento es la tasa de probabilidad exitosa sobre el fracaso. Los Odds se pagar una deuda se definen así:\n",
    "\n",
    "$$\n",
    "\\text{Odds}(\\text{Full payment}) = \\frac{p}{1-p}.\n",
    "$$\n",
    "\n",
    "Donde $p$ es la probabilidad de pagar."
   ]
  },
  {
   "cell_type": "markdown",
   "metadata": {},
   "source": [
    "La función lineal es la siguiente:\n",
    "\n",
    "\\begin{equation}\n",
    "\\log(\\text{Odds}) = \\beta_0 + \\beta_1*\\text{verification_status}. \\tag{1}\n",
    "\\end{equation}\n",
    "\n",
    "Codificamos diferentes niveles de `verification_status` usando enteros: \"Not Verified\" como 0, \"Source Verified\" como 1 y \"Verified\" como 2; si $\\beta_1$ es positivo, entonces hay una tendencia creciente en la probabilidad de pagar en tanto que la verificación se vuelve más confiable. Si $\\beta_1$ es negativo, sucede lo contrario."
   ]
  },
  {
   "cell_type": "markdown",
   "metadata": {},
   "source": [
    "### Interpretación numérica (5 mts)"
   ]
  },
  {
   "cell_type": "markdown",
   "metadata": {},
   "source": [
    "$p$ - valor de cada coeficiente. Es el resultado del siguiente test de hipótesis:\n",
    "\n",
    "$$\n",
    "H_0: \\beta = 0~vs.~ H_A: \\beta \\neq 0.\n",
    "$$\n",
    "\n",
    "El test determina si diferencias en la probabildiad de pagar están asociadas a cambios de la variable correspondiente."
   ]
  },
  {
   "cell_type": "markdown",
   "metadata": {},
   "source": [
    "### Geometric interpretation of logistic regression (5 mts)"
   ]
  },
  {
   "cell_type": "code",
   "execution_count": 20,
   "metadata": {
    "ExecuteTime": {
     "end_time": "2020-02-18T02:00:46.421749Z",
     "start_time": "2020-02-18T02:00:46.249616Z"
    }
   },
   "outputs": [
    {
     "data": {
      "image/png": "[encoded data removed]",
      "text/plain": [
       "<Figure size 432x288 with 1 Axes>"
      ]
     },
     "metadata": {
      "needs_background": "light"
     },
     "output_type": "display_data"
    }
   ],
   "source": [
    "x = np.arange(0,100,1)\n",
    "y = x/2\n",
    "plt.plot(x, y, label = \"Decision boundary\");\n",
    "plt.xlabel(\"annual_inc/1e4\");\n",
    "plt.ylabel(\"loan_amnt/1e3\");\n",
    "plt.text(10, 30, \"Non-defaulter\", fontsize = 18)\n",
    "plt.text(60, 20, \"Defaulter\", fontsize = 18)\n",
    "plt.legend();"
   ]
  },
  {
   "cell_type": "markdown",
   "metadata": {},
   "source": [
    "La forma del umbral de decisión puede ser también una curva"
   ]
  },
  {
   "cell_type": "markdown",
   "metadata": {},
   "source": [
    "### Visualizar el umbral de decisión (5 mts)"
   ]
  },
  {
   "cell_type": "markdown",
   "metadata": {},
   "source": [
    "Considere el siguiente modelo para $p$:\n",
    "\n",
    "$$\n",
    "\\log(p/(1-p)) = \\beta_0 + \\beta_1*loan\\_amnt+\\beta_2*annual\\_inc+\\beta_3*loan\\_amnt^2.\n",
    "$$\n",
    "\n",
    "El umbral de decisión con valor $p = 0.5$ es\n",
    "\n",
    "$$\n",
    "\\beta_0 + \\beta_1*loan\\_amnt+\\beta_2*annual\\_inc+\\beta_3*loan\\_amnt^2 = 0.\n",
    "$$\n"
   ]
  },
  {
   "cell_type": "code",
   "execution_count": 21,
   "metadata": {
    "ExecuteTime": {
     "end_time": "2020-02-18T02:01:43.740787Z",
     "start_time": "2020-02-18T02:01:43.600921Z"
    }
   },
   "outputs": [
    {
     "data": {
      "application/vnd.jupyter.widget-view+json": {
       "model_id": "df0416539ce64af99ea66c7eafd8093a",
       "version_major": 2,
       "version_minor": 0
      },
      "text/plain": [
       "Canvas(toolbar=Toolbar(toolitems=[('Home', 'Reset original view', 'home', 'home'), ('Back', 'Back to previous …"
      ]
     },
     "metadata": {},
     "output_type": "display_data"
    },
    {
     "data": {
      "application/vnd.jupyter.widget-view+json": {
       "model_id": "b394869a34d5462c8e032ab7c1973b51",
       "version_major": 2,
       "version_minor": 0
      },
      "text/plain": [
       "interactive(children=(FloatSlider(value=1.0, description='beta0', max=10.0, min=-10.0, step=0.5), FloatSlider(…"
      ]
     },
     "metadata": {},
     "output_type": "display_data"
    }
   ],
   "source": [
    "%matplotlib widget\n",
    "import ipywidgets as widgets\n",
    "from ipywidgets import interact\n",
    "\n",
    "idx_plot = np.random.choice(df.shape[0], size=500, replace = False)\n",
    "plt_data = df.iloc[idx_plot]\n",
    "\n",
    "fig, ax = plt.subplots()\n",
    "#plt.subplots_adjust(left=0.25, bottom=0.35)\n",
    "plt.scatter(plt_data[plt_data.loan_status==\"Fully Paid\"].annual_inc/10000, \\\n",
    "            plt_data[plt_data.loan_status==\"Fully Paid\"].loan_amnt/1000, \\\n",
    "            c = 'blue', label = 'Fully paid')\n",
    "plt.scatter(plt_data[plt_data.loan_status==\"Charged Off\"].annual_inc/10000, \\\n",
    "            plt_data[plt_data.loan_status==\"Charged Off\"].loan_amnt/1000, \\\n",
    "            c = 'red', label = 'Charged off')\n",
    "plt.xlim(0,40);\n",
    "plt.legend();\n",
    "\n",
    "#plot boundary\n",
    "beta0 = 1\n",
    "beta1 = -1\n",
    "beta2 = 1\n",
    "beta3 = -1\n",
    "\n",
    "x_plt = np.arange(0,40,1)\n",
    "y_plt = (-beta0 - beta1*x_plt - beta3*x_plt**2)/(beta2)\n",
    "plt.xlabel(\"annual_inc/1e4\")\n",
    "plt.ylabel(\"loan_amnt/1e3\")\n",
    "l, = plt.plot(x_plt, y_plt, lw = 2, color=\"k\", label = \"Current Decision boundary\")\n",
    "plt.ylim(0,60);\n",
    "plt.legend();\n",
    "\n",
    "def update(beta0=1, beta1=-1, beta2=1, beta3=-1):\n",
    "    y_plt = (-beta0 - beta1*x_plt - beta3*x_plt**2)/(beta2)\n",
    "    l.set_ydata(y_plt);\n",
    "    fig.canvas.draw_idle();\n",
    "\n",
    "interact(update, beta0 = widgets.FloatSlider(value=beta0,min=-10,max=10,step=0.5),\\\n",
    "         beta1 = widgets.FloatSlider(value=beta1,min=-10,max=10,step=0.5),\n",
    "         beta2 = widgets.FloatSlider(value=beta2,min=0.5,max=10,step=0.5),\n",
    "         beta3 = widgets.FloatSlider(value=beta3,min=-10,max=0,step=0.5));"
   ]
  },
  {
   "cell_type": "code",
   "execution_count": 31,
   "metadata": {
    "ExecuteTime": {
     "end_time": "2020-02-17T14:57:08.825709Z",
     "start_time": "2020-02-17T14:57:08.818672Z"
    }
   },
   "outputs": [],
   "source": [
    "%matplotlib inline"
   ]
  },
  {
   "cell_type": "markdown",
   "metadata": {},
   "source": [
    "## Ajuste del modelo logístico (25 mts)"
   ]
  },
  {
   "cell_type": "markdown",
   "metadata": {},
   "source": [
    "Utilizando el paquete `statmodels`"
   ]
  },
  {
   "cell_type": "code",
   "execution_count": 22,
   "metadata": {
    "ExecuteTime": {
     "end_time": "2020-02-18T02:06:06.285883Z",
     "start_time": "2020-02-18T02:06:06.108905Z"
    }
   },
   "outputs": [
    {
     "name": "stdout",
     "output_type": "stream",
     "text": [
      "Optimization terminated successfully.\n",
      "         Current function value: 0.405007\n",
      "         Iterations 6\n",
      "                           Logit Regression Results                           \n",
      "==============================================================================\n",
      "Dep. Variable:            loan_status   No. Observations:                38705\n",
      "Model:                          Logit   Df Residuals:                    38703\n",
      "Method:                           MLE   Df Model:                            1\n",
      "Date:                Mon, 17 Feb 2020   Pseudo R-squ.:                0.002350\n",
      "Time:                        21:06:06   Log-Likelihood:                -15676.\n",
      "converged:                       True   LL-Null:                       -15713.\n",
      "Covariance Type:            nonrobust   LLR p-value:                 8.419e-18\n",
      "=======================================================================================\n",
      "                          coef    std err          z      P>|z|      [0.025      0.975]\n",
      "---------------------------------------------------------------------------------------\n",
      "Intercept               1.9469      0.022     88.290      0.000       1.904       1.990\n",
      "verification_status    -0.1460      0.017     -8.600      0.000      -0.179      -0.113\n",
      "=======================================================================================\n"
     ]
    }
   ],
   "source": [
    "# Codificar las variables discretas\n",
    "df_log1 = pd.DataFrame(columns=['verification_status','loan_status'])\n",
    "df_log1['verification_status'] = df.verification_status.cat.codes\n",
    "df_log1['loan_status'] = df.loan_status.cat.codes\n",
    "df_log1['Intercept'] = 1\n",
    "\n",
    "logit = sm.Logit(df_log1['loan_status'], df_log1[['Intercept','verification_status']])\n",
    "logit_res = logit.fit()\n",
    "print( logit_res.summary() )"
   ]
  },
  {
   "cell_type": "markdown",
   "metadata": {},
   "source": [
    "Cuando `verfication_status` se incrementa en una undiad, los Odds se pagar se disminuyen en 14%. Dado que el $p$-valor es menor a 0.05, la \n",
    "tendencia que observamos en la tabla de contigencia no es producto del azar.\n",
    "\n",
    "\n",
    "\n",
    "El `Pseudo R-squ.` es una métrica similar al `R-Cuadrado.`, cuya interpretación es más ambigua. De todas formas se buscan valores moderados de este."
   ]
  },
  {
   "cell_type": "markdown",
   "metadata": {},
   "source": [
    "### Evaluar la codificación de `verification_status` (5 mts)"
   ]
  },
  {
   "cell_type": "markdown",
   "metadata": {},
   "source": [
    "El código anterior asume que los log-odds $p/(1-p)$ entre personas con niveles consecutivos de `verification_status` es el mismo. Esto es un supuesto fuerte. Ahora usaremos variables dummy para los diferentes niveles. Not Verified será el nivel de referencia."
   ]
  },
  {
   "cell_type": "code",
   "execution_count": 23,
   "metadata": {
    "ExecuteTime": {
     "end_time": "2020-02-18T02:10:41.434617Z",
     "start_time": "2020-02-18T02:10:41.417197Z"
    }
   },
   "outputs": [
    {
     "data": {
      "text/html": [
       "<div>\n",
       "<style scoped>\n",
       "    .dataframe tbody tr th:only-of-type {\n",
       "        vertical-align: middle;\n",
       "    }\n",
       "\n",
       "    .dataframe tbody tr th {\n",
       "        vertical-align: top;\n",
       "    }\n",
       "\n",
       "    .dataframe thead th {\n",
       "        text-align: right;\n",
       "    }\n",
       "</style>\n",
       "<table border=\"1\" class=\"dataframe\">\n",
       "  <thead>\n",
       "    <tr style=\"text-align: right;\">\n",
       "      <th></th>\n",
       "      <th>Source Verified</th>\n",
       "      <th>Verified</th>\n",
       "    </tr>\n",
       "  </thead>\n",
       "  <tbody>\n",
       "    <tr>\n",
       "      <th>0</th>\n",
       "      <td>0</td>\n",
       "      <td>1</td>\n",
       "    </tr>\n",
       "    <tr>\n",
       "      <th>1</th>\n",
       "      <td>1</td>\n",
       "      <td>0</td>\n",
       "    </tr>\n",
       "    <tr>\n",
       "      <th>2</th>\n",
       "      <td>0</td>\n",
       "      <td>0</td>\n",
       "    </tr>\n",
       "    <tr>\n",
       "      <th>3</th>\n",
       "      <td>1</td>\n",
       "      <td>0</td>\n",
       "    </tr>\n",
       "    <tr>\n",
       "      <th>4</th>\n",
       "      <td>1</td>\n",
       "      <td>0</td>\n",
       "    </tr>\n",
       "  </tbody>\n",
       "</table>\n",
       "</div>"
      ],
      "text/plain": [
       "   Source Verified  Verified\n",
       "0                0         1\n",
       "1                1         0\n",
       "2                0         0\n",
       "3                1         0\n",
       "4                1         0"
      ]
     },
     "execution_count": 23,
     "metadata": {},
     "output_type": "execute_result"
    }
   ],
   "source": [
    "vs_dummy = pd.get_dummies(df.verification_status, drop_first=True)\n",
    "vs_dummy.head()"
   ]
  },
  {
   "cell_type": "code",
   "execution_count": 24,
   "metadata": {
    "ExecuteTime": {
     "end_time": "2020-02-18T02:11:16.098465Z",
     "start_time": "2020-02-18T02:11:15.969611Z"
    }
   },
   "outputs": [
    {
     "name": "stdout",
     "output_type": "stream",
     "text": [
      "Optimization terminated successfully.\n",
      "         Current function value: 0.405001\n",
      "         Iterations 6\n",
      "                           Logit Regression Results                           \n",
      "==============================================================================\n",
      "Dep. Variable:            loan_status   No. Observations:                38705\n",
      "Model:                          Logit   Df Residuals:                    38702\n",
      "Method:                           MLE   Df Model:                            2\n",
      "Date:                Mon, 17 Feb 2020   Pseudo R-squ.:                0.002366\n",
      "Time:                        21:11:16   Log-Likelihood:                -15676.\n",
      "converged:                       True   LL-Null:                       -15713.\n",
      "Covariance Type:            nonrobust   LLR p-value:                 7.140e-17\n",
      "===================================================================================\n",
      "                      coef    std err          z      P>|z|      [0.025      0.975]\n",
      "-----------------------------------------------------------------------------------\n",
      "Intercept           1.9528      0.024     82.741      0.000       1.907       1.999\n",
      "Source Verified    -0.1696      0.037     -4.558      0.000      -0.242      -0.097\n",
      "Verified           -0.2916      0.034     -8.566      0.000      -0.358      -0.225\n",
      "===================================================================================\n"
     ]
    }
   ],
   "source": [
    "#vs_dummy = pd.get_dummies(df.verification_status, drop_first=True )\n",
    "df_log1 = pd.concat([df_log1,vs_dummy], axis = 1)\n",
    "\n",
    "logit_dummy = sm.Logit(df_log1['loan_status'], df_log1[['Intercept','Source Verified','Verified']])\n",
    "logit_dummy_res = logit_dummy.fit()\n",
    "print( logit_dummy_res.summary() )"
   ]
  },
  {
   "cell_type": "markdown",
   "metadata": {},
   "source": [
    "Los resultados confirman que la probabilidad de pagar decrece a medida que la información del ingreso se vuelve más confiable."
   ]
  },
  {
   "cell_type": "markdown",
   "metadata": {},
   "source": [
    "### Evaluando el modelo (15 mts)"
   ]
  },
  {
   "cell_type": "markdown",
   "metadata": {},
   "source": [
    "El $R^2$ no puede traducirse para evaluar el modelo.\n",
    "\n",
    "Podemos utilizar la curva ROC:  **receiver operating characteristic (ROC) curve**.\n",
    "\n",
    "Tasa de verdaderos positivos: `true positive rate` (TPR) y tasa de verdaderos negativos: `true negative rate` (TNR). In our context, TPR es la proporción de gente que pagó la deuda y fue correctamente clasificada, TNR es la proporción de morosos que fueron identificados como tal."
   ]
  },
  {
   "cell_type": "markdown",
   "metadata": {},
   "source": [
    "En ocasiones es difícil hacer que ambas medidas sean altas; en este caso es más importante la tasa de verdaderos negativos, puesto que es preferible prestarle a morosos que no prestarle a buenos candidatos.\n",
    "\n",
    "El área bajo la curva se calcula como el **AUC**, donde cantidades cercanas a la unidad, indican una predicción buena. La curva ROC para una selección al azar es una línea diagonal. "
   ]
  },
  {
   "cell_type": "code",
   "execution_count": 25,
   "metadata": {
    "ExecuteTime": {
     "end_time": "2020-02-18T02:14:05.119421Z",
     "start_time": "2020-02-18T02:14:05.036337Z"
    }
   },
   "outputs": [
    {
     "data": {
      "application/vnd.jupyter.widget-view+json": {
       "model_id": "529ee1a278014dcca2bdcf46715deb6e",
       "version_major": 2,
       "version_minor": 0
      },
      "text/plain": [
       "Canvas(toolbar=Toolbar(toolitems=[('Home', 'Reset original view', 'home', 'home'), ('Back', 'Back to previous …"
      ]
     },
     "metadata": {},
     "output_type": "display_data"
    }
   ],
   "source": [
    "predict_p = logit_res.predict(df_log1[['Intercept','verification_status']])\n",
    "predict_dummy_p = logit_dummy_res.predict(df_log1[['Intercept','Source Verified','Verified']])\n",
    "roc_p = roc_curve(df_log1[\"loan_status\"], predict_p)\n",
    "roc_dummy_p = roc_curve(df_log1[\"loan_status\"], predict_dummy_p)\n",
    "auc_p = auc( roc_p[0], roc_p[1] )\n",
    "auc_dummy_p = auc( roc_dummy_p[0], roc_dummy_p[1] )\n",
    "\n",
    "plt.figure()\n",
    "lw = 2\n",
    "plt.plot(roc_p[0], roc_p[1], color='darkorange',\n",
    "         lw=lw, label='ROC curve for coding scheme 1 (AUC = %0.2f)' % auc_p)\n",
    "plt.plot(roc_dummy_p[0], roc_dummy_p[1], color='darkgreen',\n",
    "         lw=lw, label='ROC curve for coding scheme 2 (AUC = %0.2f)' % auc_dummy_p)\n",
    "plt.plot([0, 1], [0, 1], color='navy', lw=lw, linestyle='--', label='Random guess')\n",
    "plt.xlim([0.0, 1.0])\n",
    "plt.ylim([0.0, 1.05])\n",
    "plt.xlabel('False Positive Rate')\n",
    "plt.ylabel('True Positive Rate')\n",
    "plt.title('Classification of Defaulters')\n",
    "plt.legend(loc=\"lower right\")\n",
    "plt.show()"
   ]
  },
  {
   "cell_type": "markdown",
   "metadata": {},
   "source": [
    "Dado que la curva ROC tiene un AUC cerca al 0.5, se confirma que `verification_status` por sí sola no es buen predictor más allá de elegir al azar. Esto también confirma que no hay diferencia entre las codificaciones anteriormente usadas, así que se mantendrá la primera por simplicidad."
   ]
  },
  {
   "cell_type": "markdown",
   "metadata": {},
   "source": [
    "### Exercise 7: (5 mts)\n",
    "\n",
    "En estadística, ¿son preferibles los modelos simples o complejos?"
   ]
  },
  {
   "cell_type": "markdown",
   "metadata": {},
   "source": [
    "**Respuesta.**"
   ]
  },
  {
   "cell_type": "markdown",
   "metadata": {},
   "source": [
    "## Agregando variables adicionales al modelo (20 mts)"
   ]
  },
  {
   "cell_type": "markdown",
   "metadata": {},
   "source": [
    "La presencia de variables adicionales podría arrojar resultados más contundentes:"
   ]
  },
  {
   "cell_type": "code",
   "execution_count": 27,
   "metadata": {
    "ExecuteTime": {
     "end_time": "2020-02-18T02:17:58.803397Z",
     "start_time": "2020-02-18T02:17:58.766819Z"
    }
   },
   "outputs": [],
   "source": [
    "# Preprocesar las variables, estandarizar y dummy\n",
    "df_log2 = pd.concat([(df.loan_amnt - df.loan_amnt.mean())/df.loan_amnt.std(),\\\n",
    "                     (df.int_rate - df.int_rate.mean())/df.int_rate.std(),\\\n",
    "                     (df.annual_inc - df.annual_inc.mean())/df.annual_inc.std(),\\\n",
    "                     pd.get_dummies(df.home_ownership, prefix=\"home\", drop_first=True), \\\n",
    "                     pd.get_dummies(df.purpose, prefix=\"purpose\", drop_first=True), \\\n",
    "                     pd.get_dummies(df.grade, prefix=\"grade\",drop_first=True)], axis=1)\n",
    "df_log2[\"verification_status\"] = df.verification_status.cat.codes\n",
    "df_log2[\"emp_length\"] = df.emp_length.cat.codes\n",
    "df_log2[\"term\"] = df.term.cat.codes\n",
    "df_log2[\"Intercept\"] = 1"
   ]
  },
  {
   "cell_type": "code",
   "execution_count": 28,
   "metadata": {
    "ExecuteTime": {
     "end_time": "2020-02-18T02:18:21.443897Z",
     "start_time": "2020-02-18T02:18:21.144387Z"
    }
   },
   "outputs": [
    {
     "name": "stdout",
     "output_type": "stream",
     "text": [
      "Optimization terminated successfully.\n",
      "         Current function value: 0.378075\n",
      "         Iterations 7\n",
      "                           Logit Regression Results                           \n",
      "==============================================================================\n",
      "Dep. Variable:                      y   No. Observations:                38705\n",
      "Model:                          Logit   Df Residuals:                    38676\n",
      "Method:                           MLE   Df Model:                           28\n",
      "Date:                Mon, 17 Feb 2020   Pseudo R-squ.:                 0.06869\n",
      "Time:                        21:18:21   Log-Likelihood:                -14633.\n",
      "converged:                       True   LL-Null:                       -15713.\n",
      "Covariance Type:            nonrobust   LLR p-value:                     0.000\n",
      "==============================================================================================\n",
      "                                 coef    std err          z      P>|z|      [0.025      0.975]\n",
      "----------------------------------------------------------------------------------------------\n",
      "loan_amnt                     -0.0075      0.019     -0.389      0.697      -0.045       0.030\n",
      "int_rate                      -0.4050      0.054     -7.454      0.000      -0.511      -0.299\n",
      "annual_inc                     0.3615      0.031     11.641      0.000       0.301       0.422\n",
      "home_MORTGAGE                  0.0382      0.035      1.095      0.273      -0.030       0.107\n",
      "home_OWN                       0.0209      0.060      0.348      0.728      -0.097       0.138\n",
      "home_OTHER                    -0.4454      0.268     -1.660      0.097      -0.971       0.080\n",
      "purpose_credit_card            0.0364      0.100      0.363      0.717      -0.160       0.233\n",
      "purpose_debt_consolidation    -0.2190      0.091     -2.405      0.016      -0.398      -0.041\n",
      "purpose_educational           -0.5663      0.178     -3.186      0.001      -0.915      -0.218\n",
      "purpose_home_improvement      -0.1624      0.107     -1.523      0.128      -0.371       0.047\n",
      "purpose_house                 -0.3556      0.171     -2.077      0.038      -0.691      -0.020\n",
      "purpose_major_purchase        -0.0024      0.114     -0.021      0.983      -0.227       0.222\n",
      "purpose_medical               -0.3945      0.141     -2.794      0.005      -0.671      -0.118\n",
      "purpose_moving                -0.4147      0.150     -2.766      0.006      -0.708      -0.121\n",
      "purpose_other                 -0.4050      0.099     -4.105      0.000      -0.598      -0.212\n",
      "purpose_renewable_energy      -0.7242      0.286     -2.530      0.011      -1.285      -0.163\n",
      "purpose_small_business        -0.9414      0.105     -8.961      0.000      -1.147      -0.735\n",
      "purpose_vacation              -0.4371      0.179     -2.439      0.015      -0.788      -0.086\n",
      "purpose_wedding                0.1348      0.142      0.948      0.343      -0.144       0.414\n",
      "grade_B                       -0.2733      0.074     -3.709      0.000      -0.418      -0.129\n",
      "grade_C                       -0.3549      0.103     -3.448      0.001      -0.557      -0.153\n",
      "grade_D                       -0.3775      0.132     -2.860      0.004      -0.636      -0.119\n",
      "grade_E                       -0.2973      0.160     -1.859      0.063      -0.611       0.016\n",
      "grade_F                       -0.3238      0.194     -1.669      0.095      -0.704       0.057\n",
      "grade_G                       -0.1802      0.238     -0.757      0.449      -0.647       0.286\n",
      "verification_status            0.0082      0.020      0.411      0.681      -0.031       0.047\n",
      "emp_length                    -0.0147      0.004     -3.301      0.001      -0.023      -0.006\n",
      "term                          -0.4520      0.037    -12.081      0.000      -0.525      -0.379\n",
      "Intercept                      2.6163      0.123     21.216      0.000       2.375       2.858\n",
      "==============================================================================================\n"
     ]
    }
   ],
   "source": [
    "logit_full1 = sm.Logit(df.loan_status.cat.codes, df_log2)\n",
    "logit_full1_res = logit_full1.fit()\n",
    "print(logit_full1_res.summary())"
   ]
  },
  {
   "cell_type": "markdown",
   "metadata": {},
   "source": [
    "### Ejercicio 8: (5 mts)\n",
    "\n",
    "¿Es correcta la siguiente afirmación?\n",
    "\n",
    "No hay evidencia que soporte la relación entre la probabilidad de pagar y la variable `verification_status`"
   ]
  },
  {
   "cell_type": "markdown",
   "metadata": {},
   "source": [
    "**Respuesta**\n",
    "Correcta, su $p$-valor es mucho mayor al 0.05 de significancia."
   ]
  },
  {
   "cell_type": "markdown",
   "metadata": {},
   "source": [
    "## ¿Es necesario incluir? `verification_status`? (10 mts)"
   ]
  },
  {
   "cell_type": "markdown",
   "metadata": {},
   "source": [
    "`verification_status` No importa para la predicción."
   ]
  },
  {
   "cell_type": "markdown",
   "metadata": {},
   "source": [
    "### Exercise 10: (5 mts)\n",
    "\n",
    "¿Cuál de las siguientes opciones es correcta sobre la variable `verification_status`?\n",
    "\n",
    "A. Como el $p$-valor es grande, podemos quitar la variable del modelo de clasificación.\n",
    "\n",
    "B. Aunque el $p$-valor sea grande, su coeficiente de regresión es distinto de cero, por lo que deberíamos considerarla.\n",
    "\n",
    "C. Debería de hacerse una evaluación final para comparar las predicciones del modelo con y sin `verification_status` antes de decidir removerla.\n",
    "\n",
    "D. Ninguna de las anteriores."
   ]
  },
  {
   "cell_type": "markdown",
   "metadata": {},
   "source": [
    "**Respuesta.** C. Nunca se aconseja tomar decisiones basadas únicamente en el $p$-valor"
   ]
  },
  {
   "cell_type": "markdown",
   "metadata": {},
   "source": [
    "Comparemos la precisión en la predicción usando la curva ROC:"
   ]
  },
  {
   "cell_type": "code",
   "execution_count": 29,
   "metadata": {
    "ExecuteTime": {
     "end_time": "2020-02-18T02:20:58.207640Z",
     "start_time": "2020-02-18T02:20:57.990526Z"
    }
   },
   "outputs": [
    {
     "data": {
      "application/vnd.jupyter.widget-view+json": {
       "model_id": "cabb315ebdbb4829a5d1d863d577b13b",
       "version_major": 2,
       "version_minor": 0
      },
      "text/plain": [
       "Canvas(toolbar=Toolbar(toolitems=[('Home', 'Reset original view', 'home', 'home'), ('Back', 'Back to previous …"
      ]
     },
     "metadata": {},
     "output_type": "display_data"
    }
   ],
   "source": [
    "predict_withvs = logit_full1_res.predict(df_log2)\n",
    "logit_full_novs = sm.Logit(df.loan_status.cat.codes, df_log2.loc[:, df_log2.columns != 'verification_status'])\n",
    "predict_novs = logit_full_novs.fit(disp=0).predict(df_log2.loc[:, df_log2.columns != 'verification_status'])\n",
    "\n",
    "roc_vs = roc_curve(df.loan_status.cat.codes, predict_withvs)\n",
    "roc_novs = roc_curve(df.loan_status.cat.codes, predict_novs)\n",
    "auc_vs = auc( roc_vs[0], roc_vs[1] )\n",
    "auc_novs = auc( roc_novs[0], roc_novs[1])\n",
    "\n",
    "plt.figure()\n",
    "lw = 2\n",
    "plt.plot(roc_vs[0], roc_vs[1], color='darkorange',\n",
    "         lw=lw, label='With verification_status (AUC = %0.2f)' % auc_vs)\n",
    "plt.plot(roc_novs[0], roc_novs[1], color='darkgreen',\n",
    "         lw=lw, label='Without verification_status (AUC = %0.2f)' % auc_novs)\n",
    "plt.plot([0, 1], [0, 1], color='navy', lw=lw, linestyle='--', label='Random guess')\n",
    "plt.xlim([0.0, 1.0])\n",
    "plt.ylim([0.0, 1.05])\n",
    "plt.xlabel('False Positive Rate')\n",
    "plt.ylabel('True Positive Rate')\n",
    "plt.title('Classification of Defaulters')\n",
    "plt.legend(loc=\"lower right\")\n",
    "plt.show()"
   ]
  },
  {
   "cell_type": "markdown",
   "metadata": {},
   "source": [
    "### Exercise 11: (5 mts)\n",
    "\n",
    "¿Qué es puede concluir del proceso de validación después de observar los AUC de ambos modelos?"
   ]
  },
  {
   "cell_type": "markdown",
   "metadata": {},
   "source": [
    "**Respuesta.** Los AUC no cambian, y como se prefiere un modelo tan sencillo como sea posible se decide no incluir la variable."
   ]
  },
  {
   "cell_type": "markdown",
   "metadata": {},
   "source": [
    "## Conclusiones (5 mts)"
   ]
  },
  {
   "cell_type": "markdown",
   "metadata": {},
   "source": [
    "Al principio encontramos un resultado contraintuitivo por la falta de variables explicativas. Luego de hacer el fit del modelo completo encontramos la verdadera tendencia.\n",
    "\n",
    "En resumen, el proceso de verificación de ingresos es irrelevante y puede ser potencialmente removido para simplificar el sistema de préstamos."
   ]
  },
  {
   "cell_type": "markdown",
   "metadata": {},
   "source": [
    "## Aprendizajes (5 mts)"
   ]
  },
  {
   "cell_type": "markdown",
   "metadata": {},
   "source": [
    "Regresión logística similar a lineal, pero para tareas de clasificación. Curva ROC para comparar modelos."
   ]
  }
 ],
 "metadata": {
  "anaconda-cloud": {},
  "kernelspec": {
   "display_name": "Python 3",
   "language": "python",
   "name": "python3"
  },
  "language_info": {
   "codemirror_mode": {
    "name": "ipython",
    "version": 3
   },
   "file_extension": ".py",
   "mimetype": "text/x-python",
   "name": "python",
   "nbconvert_exporter": "python",
   "pygments_lexer": "ipython3",
   "version": "3.7.5"
  },
  "varInspector": {
   "cols": {
    "lenName": 16,
    "lenType": 16,
    "lenVar": 40
   },
   "kernels_config": {
    "python": {
     "delete_cmd_postfix": "",
     "delete_cmd_prefix": "del ",
     "library": "var_list.py",
     "varRefreshCmd": "print(var_dic_list())"
    },
    "r": {
     "delete_cmd_postfix": ") ",
     "delete_cmd_prefix": "rm(",
     "library": "var_list.r",
     "varRefreshCmd": "cat(var_dic_list()) "
    }
   },
   "types_to_exclude": [
    "module",
    "function",
    "builtin_function_or_method",
    "instance",
    "_Feature"
   ],
   "window_display": false
  }
 },
 "nbformat": 4,
 "nbformat_minor": 4
}
