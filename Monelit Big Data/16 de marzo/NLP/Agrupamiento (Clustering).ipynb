{
 "cells": [
  {
   "cell_type": "markdown",
   "metadata": {
    "ExecuteTime": {
     "end_time": "2020-02-24T19:03:56.677082Z",
     "start_time": "2020-02-24T19:03:54.127280Z"
    }
   },
   "source": [
    "# Agrupamiento con K-medias"
   ]
  },
  {
   "cell_type": "code",
   "execution_count": 1,
   "metadata": {
    "ExecuteTime": {
     "end_time": "2020-03-18T21:16:02.993539Z",
     "start_time": "2020-03-18T21:16:01.452516Z"
    }
   },
   "outputs": [],
   "source": [
    "# Paquetes necesarios\n",
    "#import requests\n",
    "import pandas as pd\n",
    "import os\n",
    "#import wordmesh\n",
    "import sys\n",
    "#from wordmesh import Wordmesh\n",
    "\n",
    "# Packages for text preprocessing\n",
    "import numpy as np\n",
    "from sklearn.feature_extraction.text import TfidfVectorizer\n",
    "from nltk.util import ngrams\n",
    "from nltk import bigrams\n",
    "import itertools\n",
    "import collections\n",
    "\n",
    "#import seaborn as sns\n",
    "import pickle\n",
    "import random\n",
    "from collections import Counter\n",
    "\n",
    "# Visualization\n",
    "import matplotlib.pyplot as plt\n",
    "from sklearn.cluster import KMeans\n",
    "import nltk\n",
    "import networkx as nx"
   ]
  },
  {
   "cell_type": "code",
   "execution_count": 2,
   "metadata": {
    "ExecuteTime": {
     "end_time": "2020-03-18T21:22:20.601421Z",
     "start_time": "2020-03-18T21:22:20.573494Z"
    }
   },
   "outputs": [],
   "source": [
    "def remove_sw(words,sw_list):\n",
    "    return [word for word in words if word not in sw_list]\n",
    "\n",
    "#scriptPath = 'C:\\\\Users\\\\User\\\\Desktop\\\\DS4A_workspace\\\\Final Project\\\\DS4A-Final_Project-Team_28\\\\Personal\\\\Camilo'\n",
    "scriptPath = sys.path[0]\n",
    "\n",
    "\n",
    "# Absolute working directory\n",
    "# Necessary for relative call inside the next loops\n",
    "#os.chdir(scriptPath + '/Last_conpes_pdfs')\n",
    "os.chdir(scriptPath)\n",
    "\n",
    "# Cargar títulos    \n",
    "titles_clean = pickle.load( open( \"titles.p\", \"rb\" ) )\n",
    "    \n",
    "# Clean additional stopwords\n",
    "with open(scriptPath+'\\\\additional_stopwords.txt', 'rb') as f:\n",
    "    sw_additional = f.read().decode('utf-8').replace(u'\\r', u'').split(u'\\n')\n",
    "\n",
    "titles_clustering = [' '.join(w for w in p.split() if w not in sw_additional) for p in titles_clean]            \n",
    "\n",
    "# Geografía\n",
    "df_geoCol = pd.read_csv(scriptPath+'\\\\additional_stopwords.txt',\n",
    "                 delimiter = '\\t',\n",
    "                 header=None)\n",
    "\n",
    "geo_names = df_geoCol[0].tolist()\n",
    "geo_names = [' '.join(geo_names)]\n",
    "geo_names = geo_names[0].lower().split()\n",
    "\n",
    "titles_clustering_f = [' '.join(w for w in p.split() if w not in geo_names) for p in titles_clustering]"
   ]
  },
  {
   "cell_type": "markdown",
   "metadata": {},
   "source": [
    "## Vectorizar"
   ]
  },
  {
   "cell_type": "code",
   "execution_count": 3,
   "metadata": {
    "ExecuteTime": {
     "end_time": "2020-03-18T21:27:49.144597Z",
     "start_time": "2020-03-18T21:27:49.115672Z"
    }
   },
   "outputs": [
    {
     "name": "stdout",
     "output_type": "stream",
     "text": [
      "[[0. 0. 0. ... 0. 0. 0.]\n",
      " [0. 0. 0. ... 0. 0. 0.]\n",
      " [0. 0. 0. ... 0. 0. 0.]\n",
      " ...\n",
      " [0. 0. 0. ... 0. 0. 0.]\n",
      " [0. 0. 0. ... 0. 0. 0.]\n",
      " [0. 0. 0. ... 0. 0. 0.]]\n"
     ]
    }
   ],
   "source": [
    "#corpus = clean_text.Text.copy()\n",
    "corpus = titles_clustering_f.copy()\n",
    "#corpus = titles_2_clean.copy()\n",
    "\n",
    "# Normalización\n",
    "vectorizer = TfidfVectorizer()\n",
    "matrix = vectorizer.fit_transform(corpus)\n",
    "\n",
    "#print(matrix)\n",
    "\n",
    "a = matrix.todense()\n",
    "print(a)\n"
   ]
  },
  {
   "cell_type": "markdown",
   "metadata": {},
   "source": [
    "## Matriz de similitud"
   ]
  },
  {
   "cell_type": "code",
   "execution_count": 5,
   "metadata": {
    "ExecuteTime": {
     "end_time": "2020-03-18T21:38:52.335087Z",
     "start_time": "2020-03-18T21:38:52.306166Z"
    }
   },
   "outputs": [
    {
     "data": {
      "text/plain": [
       "matrix([[ 1.11022302e-16,  8.10846273e-01,  9.79591008e-01, ...,\n",
       "          9.48577242e-01,  8.89986494e-01,  9.36400281e-01],\n",
       "        [ 8.10846273e-01,  1.11022302e-16,  8.44649379e-01, ...,\n",
       "          9.62496308e-01,  7.41541590e-01,  8.37430555e-01],\n",
       "        [ 9.79591008e-01,  8.44649379e-01,  1.11022302e-16, ...,\n",
       "          9.73408276e-01,  8.66577196e-01,  7.96441197e-01],\n",
       "        ...,\n",
       "        [ 9.48577242e-01,  9.62496308e-01,  9.73408276e-01, ...,\n",
       "         -2.22044605e-16,  9.44791943e-01,  9.62913347e-01],\n",
       "        [ 8.89986494e-01,  7.41541590e-01,  8.66577196e-01, ...,\n",
       "          9.44791943e-01,  0.00000000e+00,  7.76400331e-01],\n",
       "        [ 9.36400281e-01,  8.37430555e-01,  7.96441197e-01, ...,\n",
       "          9.62913347e-01,  7.76400331e-01,  0.00000000e+00]])"
      ]
     },
     "execution_count": 5,
     "metadata": {},
     "output_type": "execute_result"
    }
   ],
   "source": [
    "\n",
    "from sklearn.metrics.pairwise import cosine_similarity\n",
    "\n",
    "dist = 1 - cosine_similarity(a)\n",
    "dist_mat = np.asmatrix(dist)\n",
    "dist_mat\n"
   ]
  },
  {
   "cell_type": "markdown",
   "metadata": {},
   "source": [
    "## Análisis de Componentes Principales"
   ]
  },
  {
   "cell_type": "code",
   "execution_count": 6,
   "metadata": {
    "ExecuteTime": {
     "end_time": "2020-03-18T21:38:54.834940Z",
     "start_time": "2020-03-18T21:38:54.611573Z"
    }
   },
   "outputs": [
    {
     "data": {
      "text/plain": [
       "<function matplotlib.pyplot.show(*args, **kw)>"
      ]
     },
     "execution_count": 6,
     "metadata": {},
     "output_type": "execute_result"
    },
    {
     "data": {
      "image/png": "[encoded data removed]",
      "text/plain": [
       "<Figure size 648x576 with 1 Axes>"
      ]
     },
     "metadata": {
      "needs_background": "light"
     },
     "output_type": "display_data"
    }
   ],
   "source": [
    "# Visualizar cluster con PCA\n",
    "from sklearn.decomposition import PCA\n",
    "\n",
    "pca = PCA(n_components=10)\n",
    "pca_data = pca.fit_transform(dist_mat)\n",
    "\n",
    "pca_all = pca.fit(dist_mat)\n",
    "pca_all.explained_variance_ratio_\n",
    "pca_all.explained_variance_ratio_.sum()\n",
    "\n",
    "plt.figure(figsize=(9,8))\n",
    "plt.scatter(pca_data[:,1], pca_data[:,2], c='goldenrod',alpha=0.5)\n",
    "plt.show\n",
    "\n"
   ]
  },
  {
   "cell_type": "code",
   "execution_count": 9,
   "metadata": {
    "ExecuteTime": {
     "end_time": "2020-03-18T21:40:57.663108Z",
     "start_time": "2020-03-18T21:40:57.658121Z"
    }
   },
   "outputs": [
    {
     "data": {
      "text/plain": [
       "0.7013442925360701"
      ]
     },
     "execution_count": 9,
     "metadata": {},
     "output_type": "execute_result"
    }
   ],
   "source": [
    "pca_all.explained_variance_ratio_.sum()"
   ]
  },
  {
   "cell_type": "markdown",
   "metadata": {},
   "source": [
    "## Escoger número de clusters"
   ]
  },
  {
   "cell_type": "code",
   "execution_count": 10,
   "metadata": {
    "ExecuteTime": {
     "end_time": "2020-03-18T21:43:39.977945Z",
     "start_time": "2020-03-18T21:43:36.726734Z"
    }
   },
   "outputs": [
    {
     "data": {
      "image/png": "[encoded data removed]",
      "text/plain": [
       "<Figure size 432x288 with 1 Axes>"
      ]
     },
     "metadata": {
      "needs_background": "light"
     },
     "output_type": "display_data"
    }
   ],
   "source": [
    "#-------------------------------------------------------------------------------\n",
    "# Método del codo\n",
    "\n",
    "# Guardar componentes en un dataframe\n",
    "PCA_components = pd.DataFrame(pca_data)\n",
    "PCA_components.iloc[:,9]\n",
    "\n",
    "ks = range(1, 20)\n",
    "inertias = []\n",
    "\n",
    "for k in ks:\n",
    "    # Modelo K-medias\n",
    "    model = KMeans(n_jobs = -1, n_clusters=k, init='k-means++')\n",
    "    \n",
    "    # Ajustar modelo\n",
    "    model.fit(PCA_components)\n",
    "    \n",
    "    # Resultado a la lista\n",
    "    inertias.append(model.inertia_)\n",
    "    \n",
    "plt.plot(ks, inertias, '-o', color='black')\n",
    "plt.xlabel('number of clusters, k')\n",
    "plt.ylabel('inertia')\n",
    "plt.xticks(ks)\n",
    "plt.show()\n",
    "\n"
   ]
  },
  {
   "cell_type": "code",
   "execution_count": 11,
   "metadata": {
    "ExecuteTime": {
     "end_time": "2020-03-18T21:47:12.168196Z",
     "start_time": "2020-03-18T21:47:11.510957Z"
    }
   },
   "outputs": [
    {
     "data": {
      "image/png": "[encoded data removed]",
      "text/plain": [
       "<Figure size 432x288 with 1 Axes>"
      ]
     },
     "metadata": {
      "needs_background": "light"
     },
     "output_type": "display_data"
    }
   ],
   "source": [
    "# Método de la Silueta\n",
    "from sklearn.metrics import silhouette_score\n",
    "\n",
    "random.seed(100)\n",
    "sil = []\n",
    "kmax = 20\n",
    "\n",
    "#%matplotlib inline\n",
    "#%matplotlib auto\n",
    "\n",
    "for k in range(2, kmax+1):\n",
    "  kmeans = KMeans(n_jobs = -1 ,n_clusters = k, init='k-means++',random_state=1).fit(PCA_components)\n",
    "  labels = kmeans.labels_\n",
    "  sil.append(silhouette_score(PCA_components, labels, metric = 'euclidean'))\n",
    "\n",
    "\n",
    "plt.plot(ks,sil,  '-o', color='black')\n",
    "plt.xlabel('number of clusters, k')\n",
    "plt.ylabel('silhouette score')\n",
    "plt.xticks(ks)\n",
    "plt.show()\n",
    "\n"
   ]
  },
  {
   "cell_type": "code",
   "execution_count": 12,
   "metadata": {
    "ExecuteTime": {
     "end_time": "2020-03-18T21:47:57.312571Z",
     "start_time": "2020-03-18T21:47:56.588472Z"
    }
   },
   "outputs": [
    {
     "data": {
      "text/plain": [
       "10"
      ]
     },
     "execution_count": 12,
     "metadata": {},
     "output_type": "execute_result"
    }
   ],
   "source": [
    "#### Número óptimo de clusters con distancia intra clusters - WCSS\n",
    "from math import sqrt\n",
    "\n",
    "def calculate_wcss(data):\n",
    "    wcss = []\n",
    "    for n in range(2, 21):\n",
    "        kmeans = KMeans(n_clusters=n)\n",
    "        kmeans.fit(X=data)\n",
    "        wcss.append(kmeans.inertia_)\n",
    "    \n",
    "    return wcss\n",
    "\n",
    "wcss = calculate_wcss(PCA_components)\n",
    "\n",
    "def optimal_number_of_clusters(wcss):\n",
    "    x1, y1 = 2, wcss[0]\n",
    "    x2, y2 = 20, wcss[len(wcss)-1]\n",
    "\n",
    "    distances = []\n",
    "    for i in range(len(wcss)):\n",
    "        x0 = i+2\n",
    "        y0 = wcss[i]\n",
    "        numerator = abs((y2-y1)*x0 - (x2-x1)*y0 + x2*y1 - y2*x1)\n",
    "        denominator = sqrt((y2 - y1)**2 + (x2 - x1)**2)\n",
    "        distances.append(numerator/denominator)\n",
    "    \n",
    "    return distances.index(max(distances)) + 2\n",
    "\n",
    "optimal_number = optimal_number_of_clusters(wcss)\n",
    "\n",
    "#--------------------------------------------------------------------------------\n",
    "optimal_number\n"
   ]
  },
  {
   "cell_type": "markdown",
   "metadata": {},
   "source": [
    "## K-medias"
   ]
  },
  {
   "cell_type": "code",
   "execution_count": 13,
   "metadata": {
    "ExecuteTime": {
     "end_time": "2020-03-18T21:53:21.175304Z",
     "start_time": "2020-03-18T21:53:20.943885Z"
    }
   },
   "outputs": [
    {
     "data": {
      "image/png": "[encoded data removed]",
      "text/plain": [
       "<Figure size 504x504 with 1 Axes>"
      ]
     },
     "metadata": {
      "needs_background": "light"
     },
     "output_type": "display_data"
    }
   ],
   "source": [
    "#Set a 3 KMeans clustering\n",
    "kmeans = KMeans(n_clusters = 10)\n",
    "\n",
    "#Compute cluster centers and predict cluster indices\n",
    "kmeans_object = kmeans.fit(PCA_components)\n",
    "X_clustered = kmeans.fit_predict(PCA_components)\n",
    "\n",
    "#Define our own color map\n",
    "LABEL_COLOR_MAP = {0:'r', 1: 'g', 2: 'b', 3: 'y', 4: 'peru', 5:'coral', 6:'olive',7:'cyan',8:'purple',9:'grey'}\n",
    "label_color = [LABEL_COLOR_MAP[l] for l in X_clustered]\n",
    "\n",
    "# Plot the scatter digram\n",
    "plt.figure(figsize = (7,7))\n",
    "plt.scatter(PCA_components.iloc[:,1],PCA_components.iloc[:,2], c= label_color, alpha=0.5) \n",
    "plt.show()\n"
   ]
  },
  {
   "cell_type": "markdown",
   "metadata": {},
   "source": [
    "## Incrustación estocástica de vecinos embebidos (T-SNE) - UMAP"
   ]
  },
  {
   "cell_type": "code",
   "execution_count": 18,
   "metadata": {
    "ExecuteTime": {
     "end_time": "2020-03-18T21:58:35.427531Z",
     "start_time": "2020-03-18T21:58:34.665273Z"
    },
    "scrolled": true
   },
   "outputs": [
    {
     "data": {
      "image/png": "[encoded data removed]",
      "text/plain": [
       "<Figure size 432x288 with 1 Axes>"
      ]
     },
     "metadata": {
      "needs_background": "light"
     },
     "output_type": "display_data"
    }
   ],
   "source": [
    "\n",
    "from sklearn.manifold import TSNE\n",
    "X = TSNE(n_components=2, perplexity = 15).fit_transform( pca_data )\n",
    "\n",
    "#plot graph\n",
    "colors = np.array(['red','green','blue','yellow','peru','coral','olive','cyan','purple','grey'])\n",
    "plt.scatter(X[:,0], X[:,1], c=colors[kmeans.labels_])\n",
    "plt.title('K-Means (t-SNE)')\n",
    "plt.show()    \n"
   ]
  },
  {
   "cell_type": "markdown",
   "metadata": {},
   "source": [
    "## Extraer datos del cluster"
   ]
  },
  {
   "cell_type": "code",
   "execution_count": 19,
   "metadata": {
    "ExecuteTime": {
     "end_time": "2020-03-18T22:01:41.775909Z",
     "start_time": "2020-03-18T22:01:41.725017Z"
    }
   },
   "outputs": [
    {
     "data": {
      "text/plain": [
       "[[('ministerio', 76),\n",
       "  ('departamento', 20),\n",
       "  ('desarrollo', 20),\n",
       "  ('planeación', 14),\n",
       "  ('territorio', 11),\n",
       "  ('sostenible', 10),\n",
       "  ('vivienda', 10),\n",
       "  ('minas', 10),\n",
       "  ('energía', 10),\n",
       "  ('ambiente', 9),\n",
       "  ('ciudad', 9),\n",
       "  ('rural', 9),\n",
       "  ('política', 7),\n",
       "  ('educación', 7),\n",
       "  ('administrativo', 7),\n",
       "  ('unidad', 7),\n",
       "  ('agricultura', 7),\n",
       "  ('social', 7),\n",
       "  ('comercio', 7),\n",
       "  ('industria', 7)],\n",
       " [('información', 302),\n",
       "  ('catastral', 265),\n",
       "  ('catastro', 201),\n",
       "  ('política', 143),\n",
       "  ('igac', 127),\n",
       "  ('multipropósito', 107),\n",
       "  ('entidades', 104),\n",
       "  ('implementación', 103),\n",
       "  ('registro', 94),\n",
       "  ('gestión', 90),\n",
       "  ('ministerio', 86),\n",
       "  ('desarrollo', 81),\n",
       "  ('municipios', 77),\n",
       "  ('actualización', 75),\n",
       "  ('territorio', 74),\n",
       "  ('recursos', 71),\n",
       "  ('país', 69),\n",
       "  ('departamento', 67),\n",
       "  ('documento', 64),\n",
       "  ('datos', 62)],\n",
       " [('empresas', 5),\n",
       "  ('industriales', 5),\n",
       "  ('comerciales', 5),\n",
       "  ('societarias', 5),\n",
       "  ('orden', 5),\n",
       "  ('diciembre', 5),\n",
       "  ('departamento', 5),\n",
       "  ('planeación', 5),\n",
       "  ('ministerio', 5),\n",
       "  ('hacienda', 5),\n",
       "  ('crédito', 5),\n",
       "  ('público', 5),\n",
       "  ('corte', 4),\n",
       "  ('instrucciones', 3),\n",
       "  ('representantes', 3),\n",
       "  ('nación', 3),\n",
       "  ('entidades', 3),\n",
       "  ('destinación', 3),\n",
       "  ('utilidades', 3),\n",
       "  ('sociedades', 3)],\n",
       " [('ministerio', 23),\n",
       "  ('crédito', 17),\n",
       "  ('público', 17),\n",
       "  ('nación', 15),\n",
       "  ('departamento', 15),\n",
       "  ('concepto', 13),\n",
       "  ('favorable', 13),\n",
       "  ('equivalente', 13),\n",
       "  ('monedas', 13),\n",
       "  ('planeación', 13),\n",
       "  ('hacienda', 13),\n",
       "  ('contratar', 12),\n",
       "  ('millones', 12),\n",
       "  ('usd', 11),\n",
       "  ('financiar', 10),\n",
       "  ('externo', 9),\n",
       "  ('banca', 8),\n",
       "  ('multilateral', 8),\n",
       "  ('suma', 7),\n",
       "  ('programa', 6)],\n",
       " [('plan', 3),\n",
       "  ('operativo', 3),\n",
       "  ('anual', 3),\n",
       "  ('inversiones', 3),\n",
       "  ('vigencia', 3),\n",
       "  ('departamento', 3),\n",
       "  ('planeación', 3),\n",
       "  ('ministerio', 3),\n",
       "  ('hacienda', 3),\n",
       "  ('crédito', 3),\n",
       "  ('público', 3)],\n",
       " [('público', 6),\n",
       "  ('meta', 3),\n",
       "  ('balance', 3),\n",
       "  ('primario', 3),\n",
       "  ('nivel', 3),\n",
       "  ('deuda', 3),\n",
       "  ('sector', 3),\n",
       "  ('financiero', 3),\n",
       "  ('spnf', 3),\n",
       "  ('departamento', 3),\n",
       "  ('planeación', 3),\n",
       "  ('ministerio', 3),\n",
       "  ('hacienda', 3),\n",
       "  ('crédito', 3)],\n",
       " [('transporte', 8),\n",
       "  ('ministerio', 8),\n",
       "  ('bogotá', 6),\n",
       "  ('público', 6),\n",
       "  ('apoyo', 4),\n",
       "  ('gobierno', 4),\n",
       "  ('importancia', 4),\n",
       "  ('estratégica', 4),\n",
       "  ('proyecto', 4),\n",
       "  ('sistema', 4),\n",
       "  ('departamento', 4),\n",
       "  ('planeación', 4),\n",
       "  ('hacienda', 4),\n",
       "  ('crédito', 4),\n",
       "  ('movilidad', 3),\n",
       "  ('declaratoria', 3),\n",
       "  ('política', 2),\n",
       "  ('región', 2),\n",
       "  ('capital', 2),\n",
       "  ('cundinamarca', 2)],\n",
       " [('crédito', 6),\n",
       "  ('ministerio', 5),\n",
       "  ('favorable', 3),\n",
       "  ('nación', 3),\n",
       "  ('otorgar', 3),\n",
       "  ('garantía', 3),\n",
       "  ('fondo', 3),\n",
       "  ('empresarial', 3),\n",
       "  ('creado', 3),\n",
       "  ('ley', 3),\n",
       "  ('contratar', 3),\n",
       "  ('operaciones', 3),\n",
       "  ('pasivas', 3),\n",
       "  ('suma', 3),\n",
       "  ('millones', 3),\n",
       "  ('pesos', 3),\n",
       "  ('departamento', 3),\n",
       "  ('planeación', 3),\n",
       "  ('hacienda', 3),\n",
       "  ('público', 3)],\n",
       " [('ministerio', 17),\n",
       "  ('desarrollo', 14),\n",
       "  ('departamento', 13),\n",
       "  ('rural', 11),\n",
       "  ('tierras', 8),\n",
       "  ('planeación', 7),\n",
       "  ('agricultura', 6),\n",
       "  ('unidad', 6),\n",
       "  ('administrativo', 6),\n",
       "  ('agencia', 6),\n",
       "  ('social', 5),\n",
       "  ('planificación', 4),\n",
       "  ('adecuación', 4),\n",
       "  ('público', 4),\n",
       "  ('sostenible', 4),\n",
       "  ('rurales', 3),\n",
       "  ('usos', 3),\n",
       "  ('agropecuarios', 3),\n",
       "  ('hacienda', 3),\n",
       "  ('crédito', 3)],\n",
       " [('público', 4),\n",
       "  ('marco', 3),\n",
       "  ('gasto', 3),\n",
       "  ('mediano', 3),\n",
       "  ('plazo', 3),\n",
       "  ('departamento', 3),\n",
       "  ('planeación', 3),\n",
       "  ('ministerio', 3),\n",
       "  ('hacienda', 3),\n",
       "  ('crédito', 3),\n",
       "  ('dirección', 2),\n",
       "  ('presupuesto', 1),\n",
       "  ('inversiones', 1),\n",
       "  ('finanzas', 1),\n",
       "  ('públicas', 1)]]"
      ]
     },
     "execution_count": 19,
     "metadata": {},
     "output_type": "execute_result"
    }
   ],
   "source": [
    "# Extraer documentos de los clusters\n",
    "\n",
    "documents_clustered = pd.DataFrame(titles_clustering_f, X_clustered, columns = ['titles'])\n",
    "documents_clustered['cluster'] = documents_clustered.index\n",
    "#documents_clustered = documents_clustered.reset_index()\n",
    "\n",
    "documents_clustered = documents_clustered.sort_values(by=['cluster'])\n",
    "\n",
    "documents_grouped = documents_clustered.groupby('cluster').agg(' '.join)\n",
    "documents_grouped['cluster'] = np.arange(len(documents_grouped))\n",
    "\n",
    "\n",
    "# Palabras más comunes por cluster\n",
    "most_words = pd.DataFrame({\"KeyWords\" : documents_grouped[\"titles\"].apply(lambda x: [k for k, v in Counter(x).most_common(50)])}) \n",
    "\n",
    "# Total de palabras\n",
    "Counter(\" \".join(documents_grouped[\"titles\"]).split()).most_common(50)\n",
    "\n",
    "\n",
    "words_per_cluster = []\n",
    "\n",
    "for i in range(len(documents_grouped)):\n",
    "    temp = Counter(documents_grouped['titles'][i].split()).most_common(20)\n",
    "    words_per_cluster.append(temp)\n",
    "    \n",
    "words_per_cluster"
   ]
  },
  {
   "cell_type": "code",
   "execution_count": 25,
   "metadata": {
    "ExecuteTime": {
     "end_time": "2020-03-18T22:10:26.272870Z",
     "start_time": "2020-03-18T22:10:25.934606Z"
    }
   },
   "outputs": [
    {
     "data": {
      "image/png": "[encoded data removed]",
      "text/plain": [
       "<Figure size 720x576 with 1 Axes>"
      ]
     },
     "metadata": {},
     "output_type": "display_data"
    }
   ],
   "source": [
    "# Knowledge graphs\n",
    "# Representación gráfica de una cadena de Markov\n",
    "\n",
    "tokens = []\n",
    "\n",
    "for i in range(len(documents_grouped)):\n",
    "    temp = nltk.tokenize.word_tokenize(documents_grouped['titles'][i])\n",
    "    tokens.append(temp)\n",
    "\n",
    "# Red de bigramas\n",
    "    \n",
    "def bigram_network(cluster):\n",
    "    ngram = list(ngrams(cluster, 2))\n",
    "    ngram_frequency = nltk.FreqDist(ngram)\n",
    "#ngram_frequency.plot(30,cumulative=False)\n",
    "\n",
    "    ngram_frequency = dict(ngram_frequency.copy())\n",
    "    ngram_table = pd.DataFrame.from_dict(ngram_frequency, orient='Index', columns = ['frequency'])\n",
    "    ngram_table.reset_index(level=0, inplace=True)\n",
    "    # Order the table\n",
    "    ngram_table = ngram_table.sort_values(by=['frequency'], ascending = False)\n",
    "\n",
    "    terms_bigram = [list(bigrams(cluster))]\n",
    "    bigrams_l = list(ngrams(cluster, 2))\n",
    "    bigrams_l = list(itertools.chain(*terms_bigram))\n",
    "    \n",
    "    bigram_counts = collections.Counter(bigrams_l)\n",
    "    bigram_counts_graph = bigram_counts.most_common(30)\n",
    "    bigram_df = pd.DataFrame(bigram_counts_graph).reset_index()\n",
    "\n",
    "    #bigram_df = pd.DataFrame.from_dict(bigram_counts_graph, orient='index').reset_index()\n",
    "    bigram_df.columns = ['index','bigram','count']\n",
    "    #bigram_df = pd.DataFrame(bigram_df, columns = ['bigram', 'count'])\n",
    "\n",
    "\n",
    "    # ATTEMPT\n",
    "    # Create dictionary of bigrams and their counts\n",
    "\n",
    "    d = bigram_df.set_index('bigram').T.to_dict('records')\n",
    "\n",
    "    # Create network plot \n",
    "    G = nx.Graph()\n",
    "\n",
    "    #type(ngram_frequency)\n",
    "\n",
    "    # Create connections between nodes\n",
    "    for k, v in d[0].items():\n",
    "        G.add_edge(k[0], k[1], weight=(v * 10))\n",
    "\n",
    "    #G.add_node(\"china\", weight=100)\n",
    "\n",
    "    fig, ax = plt.subplots(figsize=(10, 8))\n",
    "\n",
    "    pos = nx.spring_layout(G, k=1)\n",
    "\n",
    "    # Plot networks\n",
    "    nx.draw_networkx(G, pos,\n",
    "                     font_size=16,\n",
    "                     width=3,\n",
    "                     edge_color='grey',\n",
    "                     node_color='purple',\n",
    "                     with_labels = False,\n",
    "                     ax=ax)\n",
    "\n",
    "    # Default values\n",
    "\n",
    "    # Create offset labels\n",
    "    for key, value in pos.items():\n",
    "        x, y = value[0]+.06, value[1]+.01\n",
    "        ax.text(x, y,\n",
    "                s=key,\n",
    "                bbox=dict(facecolor='red', alpha=0.25),\n",
    "                horizontalalignment='center', fontsize=13)\n",
    "    \n",
    "    plt.show()\n",
    "    \n",
    "#%matplotlib auto\n",
    "%matplotlib inline\n",
    "    \n",
    "bigram_network(tokens[9])\n",
    "\n",
    "\n"
   ]
  }
 ],
 "metadata": {
  "kernelspec": {
   "display_name": "Python 3",
   "language": "python",
   "name": "python3"
  },
  "language_info": {
   "codemirror_mode": {
    "name": "ipython",
    "version": 3
   },
   "file_extension": ".py",
   "mimetype": "text/x-python",
   "name": "python",
   "nbconvert_exporter": "python",
   "pygments_lexer": "ipython3",
   "version": "3.7.5"
  },
  "varInspector": {
   "cols": {
    "lenName": 16,
    "lenType": 16,
    "lenVar": 40
   },
   "kernels_config": {
    "python": {
     "delete_cmd_postfix": "",
     "delete_cmd_prefix": "del ",
     "library": "var_list.py",
     "varRefreshCmd": "print(var_dic_list())"
    },
    "r": {
     "delete_cmd_postfix": ") ",
     "delete_cmd_prefix": "rm(",
     "library": "var_list.r",
     "varRefreshCmd": "cat(var_dic_list()) "
    }
   },
   "oldHeight": 231.383334,
   "position": {
    "height": "40px",
    "left": "1032px",
    "right": "20px",
    "top": "135px",
    "width": "350px"
   },
   "types_to_exclude": [
    "module",
    "function",
    "builtin_function_or_method",
    "instance",
    "_Feature"
   ],
   "varInspector_section_display": "none",
   "window_display": true
  }
 },
 "nbformat": 4,
 "nbformat_minor": 4
}
