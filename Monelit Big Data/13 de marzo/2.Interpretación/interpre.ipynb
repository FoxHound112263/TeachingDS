{
 "cells": [
  {
   "cell_type": "markdown",
   "metadata": {
    "pycharm": {
     "name": "#%% md\n"
    }
   },
   "source": [
    "# ¿Deberían de comercializarse los test SNAP para predecir la recuperación por lesiones a médula espinal?"
   ]
  },
  {
   "cell_type": "markdown",
   "metadata": {},
   "source": [
    "Antes de introducir el caso, empecemos con un ejercicio de visualización de datos"
   ]
  },
  {
   "cell_type": "markdown",
   "metadata": {},
   "source": [
    "### Ejercicio: (5 mts)"
   ]
  },
  {
   "cell_type": "markdown",
   "metadata": {},
   "source": [
    "Este mapa muestra la propagación del brote de cólera de Londres durante el año 1854. Un médico local creó un mapa a mano dibujando en él cada paciente que atendía a lo largo de la ciudad, de este modo pretendía entender mejor el brote e identificar el origen. El tamaño del círculo indica el número de casos en la ubicación. Identifica el origen del brote:\n",
    "\n",
    "![Broad Street Map](broadStreetInverted.png)\n"
   ]
  },
  {
   "cell_type": "markdown",
   "metadata": {},
   "source": [
    "**Respuesta.** "
   ]
  },
  {
   "cell_type": "markdown",
   "metadata": {},
   "source": [
    "## Introducción (10 mts)\n",
    "\n",
    "**Contexto de negocios.** \n",
    "Los métodos utilizados para estudiar la recuperación de médula espinal en animales suelen utilizarse como insumo para los tratamientos en humanos. Un tratamiento SNAP consiste en la evaluación de la recuperación por lesiones de médula a través de una sola gota de sangre. Este método es más veloz que los análisis de laboratorio tradicionales."
   ]
  },
  {
   "cell_type": "markdown",
   "metadata": {},
   "source": [
    "**Problema.** Eres un consultor de una farmacéutica: **\"Qué tan bien predicen los test SNAP en un periodo de 6 meses? ¿Deberían comercializarse?\"** "
   ]
  },
  {
   "cell_type": "markdown",
   "metadata": {},
   "source": [
    "**Contexto analítico.** \n",
    "Interpretar gráficos y figuras de forma correcta, pensar de forma crítica sobre sus implicaciones es una habilidad crucial en la ciencia de datos."
   ]
  },
  {
   "cell_type": "markdown",
   "metadata": {},
   "source": [
    "## Exploración de los datos"
   ]
  },
  {
   "cell_type": "markdown",
   "metadata": {},
   "source": [
    "El test graba 3 estadísticos:  GFAP, pNFH, and S100B. No es importante saber sus definiciones. Se examinan 31 pacientes caninos provenientes del mismo sitio.\n",
    "\n",
    "\n",
    "El tema de interés es saber si el paciente se recuperó al pasar 6 meses de la lesión."
   ]
  },
  {
   "cell_type": "markdown",
   "metadata": {},
   "source": [
    "Las primeras filas son las siguientes:\n",
    "\n",
    " |  Subject id | GFAP | S100B | pNFH | Recovered | Sex | \n",
    " |-------------|-------|------|------|-----------|--------|\n",
    " | 1           |  11.76  |   0.041 | 1.75 | N | F |\n",
    " | 2           |  7.63  |     0.031 |  4.89 | N | F | \n",
    " | 3           |  10.0 |      0.028 |  2.59 | N | F | \n",
    " | 4           | 0.01   |     0.038  |  3.46 | Y | F | \n",
    " | 5           | 0.0    |  0.0 |  0.60 | Y | M | \n",
    " | ... | ... | ...| ...| ... | ... | "
   ]
  },
  {
   "cell_type": "markdown",
   "metadata": {},
   "source": [
    "### Ejercicio 2: (5 mts)\n",
    "\n",
    "¿Consideraría ajustar un modelo en este momento?"
   ]
  },
  {
   "cell_type": "markdown",
   "metadata": {},
   "source": [
    "**Respuesta.**"
   ]
  },
  {
   "cell_type": "markdown",
   "metadata": {},
   "source": [
    "Esto es un ejemplo de **clasificación**, dado que los pacientes pueden pertecener al grupo de recuperados o al de no recuperados."
   ]
  },
  {
   "cell_type": "markdown",
   "metadata": {},
   "source": [
    "Estadísticos resumen\n",
    "\n",
    "| Variable | Min | 25th Percentile | Median | 75th Percentile | Max | \n",
    "|----------|-----|----------------|--------|-----------------|-----|\n",
    "|GFAP      | 0.0 | 0.0            | 0.0    | 0.38            | 37.8| \n",
    "|S100B     | 0.0 | 0.014          | 1.24   | 2.0             | 3.9 | \n",
    "|pNFH      | -0.30 | 0.23         | 0.44   | 0.94            | 65.0|\n"
   ]
  },
  {
   "cell_type": "markdown",
   "metadata": {},
   "source": [
    "### Ejercicio 3: (5 mts)\n",
    "\n",
    "Los estadísticos, GFAP, S100B, and pNFH, miden elementos biológicos en la sangre. ¿Nota algo extraño?"
   ]
  },
  {
   "cell_type": "markdown",
   "metadata": {},
   "source": [
    "**Respuesta.**"
   ]
  },
  {
   "cell_type": "markdown",
   "metadata": {},
   "source": [
    "### Histogramas de los estadísticos\n",
    "\n",
    "Representación gráfica de la distribución de los datos.\n",
    "\n",
    "Muestra qué valores de una variable en particular tiene una alta densidad de observaciones.\n",
    "\n",
    "3 histogramas por cada estadístico\n",
    "\n",
    "![Biomarker Histograms](biomarkerHists.png)"
   ]
  },
  {
   "cell_type": "markdown",
   "metadata": {},
   "source": [
    "### Ejercicio 4: (5 mts)\n",
    "\n",
    "¿Los histogramas son informativos?"
   ]
  },
  {
   "cell_type": "markdown",
   "metadata": {},
   "source": [
    "**Respuesta.**"
   ]
  },
  {
   "cell_type": "markdown",
   "metadata": {},
   "source": [
    "## Diagrama de dispersión de una dimensión: alternativa al histograma\n",
    " \n",
    "El eje y muestra los valores que toma cada estadístico. Agrupaciones de puntos se harán visibles a través de una transformación logarítmica, la cual es bastante útil solo para propósitos de visualización.\n",
    "\n",
    "![Biomarker 1D Scatterplots](biomarker1DScatter.png)"
   ]
  },
  {
   "cell_type": "markdown",
   "metadata": {},
   "source": [
    "### Usar colores para diferenciar categorías\n",
    "\n",
    "Colorear los puntos de acuerdo al estado de la recuperación\n",
    "\n",
    "![Biomarker 1D Scatterplots](biomarker1DScatterLabeled.png)"
   ]
  },
  {
   "cell_type": "markdown",
   "metadata": {},
   "source": [
    "### Ejercicio 5:\n",
    "\n",
    "¿De los diagramas anteriores, cuál estadístico es más informativo sobre la recuperación o no de los pacientes?"
   ]
  },
  {
   "cell_type": "markdown",
   "metadata": {},
   "source": [
    "**Respuesta**."
   ]
  },
  {
   "cell_type": "markdown",
   "metadata": {},
   "source": [
    "## Usar el último dato disponible, el género"
   ]
  },
  {
   "cell_type": "markdown",
   "metadata": {},
   "source": [
    "**Gráfico de coordenadas paralelas** por género, donde cada línea representa un paciente, y el eje-y representa los estadísticos de interés. El gráfico sugiere que los macho con altas cantidades de S110B y de GFAP se recuperan (los recuperados están en color rojo). Por otro lado, las hembra con bajo GFAP son aquellas que se recuperan. Aunque no hayamos construido un modelo estos gráficos porveen información suficiente para hacerse una idea del problema,\n",
    "\n",
    "![Biomarker 1D Scatterplots](biomarkerParCoordUpdated.png)"
   ]
  },
  {
   "cell_type": "markdown",
   "metadata": {},
   "source": [
    "## Diagrama de dispersión de dos dimensiones\n",
    "\n",
    "Para facilitar la identificación de regiones asociadas a la recuperación, se adiciona una malla de puntos donde la observación más cercana se colorea de acuerdo a recuperación (rojo) o no recuperación (negro). El siguiente gráfico muestra S100B vs GFAP donde S100B tiene un poco de mayor valor sobre GFAP\n",
    "\n",
    "<img src=\"biomarkerScatterKNN_GFAP_S100B.png\" width=\"1000\">\n",
    "\n",
    "También, por género:\n",
    "\n",
    "<img src=\"biomarkerScatterKNN_GFAP_S100B_Sex.png\" width=\"1000\">"
   ]
  },
  {
   "cell_type": "markdown",
   "metadata": {},
   "source": [
    "### Ejercicio 6:\n",
    "\n",
    "¿Qué se puede concluir sobre los diagramas de géneros?"
   ]
  },
  {
   "cell_type": "markdown",
   "metadata": {},
   "source": [
    "**Respuesta.**\n"
   ]
  },
  {
   "cell_type": "markdown",
   "metadata": {},
   "source": [
    "Diagramas 2D para GFAP vs pNFH y S100B vs pNFH:\n",
    "\n",
    "<img src=\"biomarkerScatterKNN_GFAP_pNFH.png\" width=\"1000\">\n",
    "\n",
    "<img src=\"biomarkerScatterKNN_GFAP_pNFH_Sex.png\" width=\"1000\">\n",
    "\n",
    "\n",
    "<img src=\"biomarkerScatterKNN_S100B_pNFH.png\" width=\"1000\">\n",
    "\n",
    "<img src=\"biomarkerScatterKNN_S100B_pNFH_Sex.png\" width=\"1000\">\n",
    "\n",
    "\n"
   ]
  },
  {
   "cell_type": "markdown",
   "metadata": {},
   "source": [
    "### Ejercicio 7: (20 mts)\n",
    "\n",
    "Utilizando las visualizaciones anteriores, responda las siguientes preguntas:"
   ]
  },
  {
   "cell_type": "markdown",
   "metadata": {},
   "source": [
    "#### 7.1\n",
    "¿Cuál estadístico recomendaría utilizar si fuera costoso incluir los 3 en el test SNAP?"
   ]
  },
  {
   "cell_type": "markdown",
   "metadata": {},
   "source": [
    "#### 7.2 \n",
    "\n",
    "¿Qué recomienda hacer luego de este análisis? ¿Un modelo?"
   ]
  },
  {
   "cell_type": "markdown",
   "metadata": {},
   "source": [
    "#### 7.3 \n",
    "¿Cómo realizaría el ajuste de un modelo a este estudio? Cuáles son las desventajas para este estudio"
   ]
  },
  {
   "cell_type": "markdown",
   "metadata": {},
   "source": [
    "**Respuesta.**"
   ]
  },
  {
   "cell_type": "markdown",
   "metadata": {},
   "source": [
    "## Extendiendo el test SNAP\n",
    "\n",
    "Si se toma como criterio de decisión las primeras 72 horas, generemos el siguiente gráfico de coordenadas paralelas\n",
    "\n",
    "<img src=\"biomarkerGFAP72Hours.png\" width=\"1000\">\n",
    "\n",
    "Los niveles de GFAP parecen ser más volátiles entre pacientes que no se recuperaron vs los que lo hicieron, y sus picos son más altos. Vemos que es posible crear un umbral de decisión, excepto para 3 puntos\n",
    "\n",
    "<img src=\"biomarkerGFAP72HoursMax.png\" width=\"1000\">"
   ]
  },
  {
   "cell_type": "markdown",
   "metadata": {},
   "source": [
    "## Conclusiones\n",
    "\n",
    "El estadístico GFAP parece ser aquel que posee mayor poder discriminatorio entre pacientes que se recuperan o no de lesiones en médula espinal. Dado que el tamaño de muestra es pequeño, se recomienda continuar el estudio con más datos poblacionales antes de decidir comercializar los test SNAP"
   ]
  },
  {
   "cell_type": "markdown",
   "metadata": {},
   "source": [
    "## Aprendizaje\n",
    "\n",
    "La visualización de datos es indispensable para la toma de decisiones, en muchos casos, puede ser la fase del proceso de ciencia de datos que más consuma tiempo y esfuerzo. Además las visualizaciones son el punto de encuentro entre el científico de datos, y el gerente/político/tomador de decisiones."
   ]
  }
 ],
 "metadata": {
  "kernelspec": {
   "display_name": "Python 3",
   "language": "python",
   "name": "python3"
  },
  "language_info": {
   "codemirror_mode": {
    "name": "ipython",
    "version": 3
   },
   "file_extension": ".py",
   "mimetype": "text/x-python",
   "name": "python",
   "nbconvert_exporter": "python",
   "pygments_lexer": "ipython3",
   "version": "3.7.5"
  },
  "pycharm": {
   "stem_cell": {
    "cell_type": "raw",
    "metadata": {
     "collapsed": false
    },
    "source": []
   }
  },
  "varInspector": {
   "cols": {
    "lenName": 16,
    "lenType": 16,
    "lenVar": 40
   },
   "kernels_config": {
    "python": {
     "delete_cmd_postfix": "",
     "delete_cmd_prefix": "del ",
     "library": "var_list.py",
     "varRefreshCmd": "print(var_dic_list())"
    },
    "r": {
     "delete_cmd_postfix": ") ",
     "delete_cmd_prefix": "rm(",
     "library": "var_list.r",
     "varRefreshCmd": "cat(var_dic_list()) "
    }
   },
   "types_to_exclude": [
    "module",
    "function",
    "builtin_function_or_method",
    "instance",
    "_Feature"
   ],
   "window_display": false
  }
 },
 "nbformat": 4,
 "nbformat_minor": 4
}
